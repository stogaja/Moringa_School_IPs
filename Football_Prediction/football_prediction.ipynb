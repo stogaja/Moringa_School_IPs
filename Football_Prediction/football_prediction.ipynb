{
 "cells": [
  {
   "cell_type": "markdown",
   "metadata": {},
   "source": [
    "### 1. Defining the Question"
   ]
  },
  {
   "cell_type": "markdown",
   "metadata": {},
   "source": [
    "##### a) Specifying the Question"
   ]
  },
  {
   "cell_type": "markdown",
   "metadata": {},
   "source": [
    "> You have been recruited as a football analyst in a company - Mchezopesa Ltd and tasked to make a prediction result of a game between team 1 and team 2, based on who's home and who's away, and on whether or not the game is friendly"
   ]
  },
  {
   "cell_type": "markdown",
   "metadata": {},
   "source": [
    "##### b) Defining the Metric for Success"
   ]
  },
  {
   "cell_type": "markdown",
   "metadata": {},
   "source": [
    "> The project will be considered a success if the models created are able to predict results of a game to an accuracy of at least 80%"
   ]
  },
  {
   "cell_type": "markdown",
   "metadata": {},
   "source": [
    "##### c) Understanding the Context"
   ]
  },
  {
   "cell_type": "markdown",
   "metadata": {},
   "source": [
    "> FIFA is a non-profit organization that describes itself as an international governing body of association football, futsal and beach soccer. It is the highest governing body of association football. It is responsible for the rules of association football, the regulation of the sport, the promotion of football across the world.\n",
    "\n",
    "\n",
    "> We are supposed to predict the result of a game between team 1 and 2 based on who's home and who's away, and on whether or not the game is friendly\n",
    "\n",
    "\n",
    "> This will be done by using machine learning models to calculate the points of each team and predict the possible winner of the game"
   ]
  },
  {
   "cell_type": "markdown",
   "metadata": {},
   "source": [
    "##### d) Recording the Experimental Design"
   ]
  },
  {
   "cell_type": "markdown",
   "metadata": {},
   "source": [
    "> Perform your EDA\n",
    "\n",
    "> Perform any necessary feature engineering \n",
    "\n",
    "> Check of multicollinearity\n",
    "\n",
    "> Start building the model\n",
    "\n",
    "> Cross-validate the model\n",
    "\n",
    "> Compute RMSE\n",
    "\n",
    "> Create residual plots for your models, and assess their heteroscedasticity using Bartlett’s test\n",
    "\n",
    "> Perform appropriate regressions on the data including your justification\n",
    "\n",
    "> Challenge your solution by providing insights on how you can make improvements."
   ]
  },
  {
   "cell_type": "markdown",
   "metadata": {},
   "source": [
    "##### e) Data Relevance"
   ]
  },
  {
   "cell_type": "markdown",
   "metadata": {},
   "source": [
    "> The data provided for this project is relevant and has been provided by Mchezopesa Ltd and is available on their website."
   ]
  },
  {
   "cell_type": "markdown",
   "metadata": {},
   "source": [
    "### 2. Reading Data"
   ]
  },
  {
   "cell_type": "code",
   "execution_count": 445,
   "metadata": {},
   "outputs": [],
   "source": [
    "# let's import the libraries we need to use for the project\n",
    "import pandas as pd\n",
    "import numpy as np\n",
    "import matplotlib.pyplot as plt\n",
    "import seaborn as sns\n",
    "from sklearn.feature_extraction import DictVectorizer\n",
    "from sklearn.model_selection import train_test_split\n",
    "from sklearn.feature_selection import SelectFromModel\n",
    "from sklearn.preprocessing import StandardScaler, PolynomialFeatures, LabelEncoder\n",
    "from sklearn.discriminant_analysis import LinearDiscriminantAnalysis as LDA\n",
    "from sklearn.model_selection import train_test_split\n",
    "from sklearn.metrics import mean_squared_error, r2_score, f1_score, precision_score, recall_score, classification_report\n",
    "from sklearn.metrics import accuracy_score\n",
    "from sklearn.model_selection import RepeatedKFold\n",
    "from scipy.stats import bartlett, chi2, loguniform\n",
    "from sklearn.ensemble import RandomForestRegressor, RandomForestClassifier\n",
    "from sklearn.model_selection import GridSearchCV, RandomizedSearchCV\n",
    "from sklearn.metrics import confusion_matrix\n",
    "from sklearn.linear_model import LinearRegression, Ridge, LogisticRegression, RidgeClassifier\n",
    "from sklearn.model_selection import KFold\n",
    "from sklearn.model_selection import LeaveOneOut\n",
    "import warnings\n",
    "warnings.filterwarnings(\"ignore\")"
   ]
  },
  {
   "cell_type": "code",
   "execution_count": 446,
   "metadata": {},
   "outputs": [],
   "source": [
    "# let's import the datasets\n",
    "results_df = pd.read_csv('results.csv')"
   ]
  },
  {
   "cell_type": "code",
   "execution_count": 447,
   "metadata": {},
   "outputs": [],
   "source": [
    "# let's import the second dataset\n",
    "fifa_df = pd.read_csv('fifa_ranking.csv')"
   ]
  },
  {
   "cell_type": "markdown",
   "metadata": {},
   "source": [
    "### 3. Checking Data"
   ]
  },
  {
   "cell_type": "code",
   "execution_count": 448,
   "metadata": {},
   "outputs": [
    {
     "data": {
      "text/html": [
       "<div>\n",
       "<style scoped>\n",
       "    .dataframe tbody tr th:only-of-type {\n",
       "        vertical-align: middle;\n",
       "    }\n",
       "\n",
       "    .dataframe tbody tr th {\n",
       "        vertical-align: top;\n",
       "    }\n",
       "\n",
       "    .dataframe thead th {\n",
       "        text-align: right;\n",
       "    }\n",
       "</style>\n",
       "<table border=\"1\" class=\"dataframe\">\n",
       "  <thead>\n",
       "    <tr style=\"text-align: right;\">\n",
       "      <th></th>\n",
       "      <th>date</th>\n",
       "      <th>home_team</th>\n",
       "      <th>away_team</th>\n",
       "      <th>home_score</th>\n",
       "      <th>away_score</th>\n",
       "      <th>tournament</th>\n",
       "      <th>city</th>\n",
       "      <th>country</th>\n",
       "      <th>neutral</th>\n",
       "    </tr>\n",
       "  </thead>\n",
       "  <tbody>\n",
       "    <tr>\n",
       "      <th>0</th>\n",
       "      <td>1872-11-30</td>\n",
       "      <td>Scotland</td>\n",
       "      <td>England</td>\n",
       "      <td>0</td>\n",
       "      <td>0</td>\n",
       "      <td>Friendly</td>\n",
       "      <td>Glasgow</td>\n",
       "      <td>Scotland</td>\n",
       "      <td>False</td>\n",
       "    </tr>\n",
       "    <tr>\n",
       "      <th>1</th>\n",
       "      <td>1873-03-08</td>\n",
       "      <td>England</td>\n",
       "      <td>Scotland</td>\n",
       "      <td>4</td>\n",
       "      <td>2</td>\n",
       "      <td>Friendly</td>\n",
       "      <td>London</td>\n",
       "      <td>England</td>\n",
       "      <td>False</td>\n",
       "    </tr>\n",
       "    <tr>\n",
       "      <th>2</th>\n",
       "      <td>1874-03-07</td>\n",
       "      <td>Scotland</td>\n",
       "      <td>England</td>\n",
       "      <td>2</td>\n",
       "      <td>1</td>\n",
       "      <td>Friendly</td>\n",
       "      <td>Glasgow</td>\n",
       "      <td>Scotland</td>\n",
       "      <td>False</td>\n",
       "    </tr>\n",
       "    <tr>\n",
       "      <th>3</th>\n",
       "      <td>1875-03-06</td>\n",
       "      <td>England</td>\n",
       "      <td>Scotland</td>\n",
       "      <td>2</td>\n",
       "      <td>2</td>\n",
       "      <td>Friendly</td>\n",
       "      <td>London</td>\n",
       "      <td>England</td>\n",
       "      <td>False</td>\n",
       "    </tr>\n",
       "    <tr>\n",
       "      <th>4</th>\n",
       "      <td>1876-03-04</td>\n",
       "      <td>Scotland</td>\n",
       "      <td>England</td>\n",
       "      <td>3</td>\n",
       "      <td>0</td>\n",
       "      <td>Friendly</td>\n",
       "      <td>Glasgow</td>\n",
       "      <td>Scotland</td>\n",
       "      <td>False</td>\n",
       "    </tr>\n",
       "  </tbody>\n",
       "</table>\n",
       "</div>"
      ],
      "text/plain": [
       "         date home_team away_team  home_score  away_score tournament     city  \\\n",
       "0  1872-11-30  Scotland   England           0           0   Friendly  Glasgow   \n",
       "1  1873-03-08   England  Scotland           4           2   Friendly   London   \n",
       "2  1874-03-07  Scotland   England           2           1   Friendly  Glasgow   \n",
       "3  1875-03-06   England  Scotland           2           2   Friendly   London   \n",
       "4  1876-03-04  Scotland   England           3           0   Friendly  Glasgow   \n",
       "\n",
       "    country  neutral  \n",
       "0  Scotland    False  \n",
       "1   England    False  \n",
       "2  Scotland    False  \n",
       "3   England    False  \n",
       "4  Scotland    False  "
      ]
     },
     "execution_count": 448,
     "metadata": {},
     "output_type": "execute_result"
    }
   ],
   "source": [
    "# let's preview the datasets\n",
    "results_df.head()"
   ]
  },
  {
   "cell_type": "markdown",
   "metadata": {},
   "source": [
    "> These are the top 5 rows of the first dataset."
   ]
  },
  {
   "cell_type": "code",
   "execution_count": 449,
   "metadata": {},
   "outputs": [
    {
     "data": {
      "text/html": [
       "<div>\n",
       "<style scoped>\n",
       "    .dataframe tbody tr th:only-of-type {\n",
       "        vertical-align: middle;\n",
       "    }\n",
       "\n",
       "    .dataframe tbody tr th {\n",
       "        vertical-align: top;\n",
       "    }\n",
       "\n",
       "    .dataframe thead th {\n",
       "        text-align: right;\n",
       "    }\n",
       "</style>\n",
       "<table border=\"1\" class=\"dataframe\">\n",
       "  <thead>\n",
       "    <tr style=\"text-align: right;\">\n",
       "      <th></th>\n",
       "      <th>rank</th>\n",
       "      <th>country_full</th>\n",
       "      <th>country_abrv</th>\n",
       "      <th>total_points</th>\n",
       "      <th>previous_points</th>\n",
       "      <th>rank_change</th>\n",
       "      <th>cur_year_avg</th>\n",
       "      <th>cur_year_avg_weighted</th>\n",
       "      <th>last_year_avg</th>\n",
       "      <th>last_year_avg_weighted</th>\n",
       "      <th>two_year_ago_avg</th>\n",
       "      <th>two_year_ago_weighted</th>\n",
       "      <th>three_year_ago_avg</th>\n",
       "      <th>three_year_ago_weighted</th>\n",
       "      <th>confederation</th>\n",
       "      <th>rank_date</th>\n",
       "    </tr>\n",
       "  </thead>\n",
       "  <tbody>\n",
       "    <tr>\n",
       "      <th>0</th>\n",
       "      <td>1</td>\n",
       "      <td>Germany</td>\n",
       "      <td>GER</td>\n",
       "      <td>0.0</td>\n",
       "      <td>57</td>\n",
       "      <td>0</td>\n",
       "      <td>0.0</td>\n",
       "      <td>0.0</td>\n",
       "      <td>0.0</td>\n",
       "      <td>0.0</td>\n",
       "      <td>0.0</td>\n",
       "      <td>0.0</td>\n",
       "      <td>0.0</td>\n",
       "      <td>0.0</td>\n",
       "      <td>UEFA</td>\n",
       "      <td>1993-08-08</td>\n",
       "    </tr>\n",
       "    <tr>\n",
       "      <th>1</th>\n",
       "      <td>2</td>\n",
       "      <td>Italy</td>\n",
       "      <td>ITA</td>\n",
       "      <td>0.0</td>\n",
       "      <td>57</td>\n",
       "      <td>0</td>\n",
       "      <td>0.0</td>\n",
       "      <td>0.0</td>\n",
       "      <td>0.0</td>\n",
       "      <td>0.0</td>\n",
       "      <td>0.0</td>\n",
       "      <td>0.0</td>\n",
       "      <td>0.0</td>\n",
       "      <td>0.0</td>\n",
       "      <td>UEFA</td>\n",
       "      <td>1993-08-08</td>\n",
       "    </tr>\n",
       "    <tr>\n",
       "      <th>2</th>\n",
       "      <td>3</td>\n",
       "      <td>Switzerland</td>\n",
       "      <td>SUI</td>\n",
       "      <td>0.0</td>\n",
       "      <td>50</td>\n",
       "      <td>9</td>\n",
       "      <td>0.0</td>\n",
       "      <td>0.0</td>\n",
       "      <td>0.0</td>\n",
       "      <td>0.0</td>\n",
       "      <td>0.0</td>\n",
       "      <td>0.0</td>\n",
       "      <td>0.0</td>\n",
       "      <td>0.0</td>\n",
       "      <td>UEFA</td>\n",
       "      <td>1993-08-08</td>\n",
       "    </tr>\n",
       "    <tr>\n",
       "      <th>3</th>\n",
       "      <td>4</td>\n",
       "      <td>Sweden</td>\n",
       "      <td>SWE</td>\n",
       "      <td>0.0</td>\n",
       "      <td>55</td>\n",
       "      <td>0</td>\n",
       "      <td>0.0</td>\n",
       "      <td>0.0</td>\n",
       "      <td>0.0</td>\n",
       "      <td>0.0</td>\n",
       "      <td>0.0</td>\n",
       "      <td>0.0</td>\n",
       "      <td>0.0</td>\n",
       "      <td>0.0</td>\n",
       "      <td>UEFA</td>\n",
       "      <td>1993-08-08</td>\n",
       "    </tr>\n",
       "    <tr>\n",
       "      <th>4</th>\n",
       "      <td>5</td>\n",
       "      <td>Argentina</td>\n",
       "      <td>ARG</td>\n",
       "      <td>0.0</td>\n",
       "      <td>51</td>\n",
       "      <td>5</td>\n",
       "      <td>0.0</td>\n",
       "      <td>0.0</td>\n",
       "      <td>0.0</td>\n",
       "      <td>0.0</td>\n",
       "      <td>0.0</td>\n",
       "      <td>0.0</td>\n",
       "      <td>0.0</td>\n",
       "      <td>0.0</td>\n",
       "      <td>CONMEBOL</td>\n",
       "      <td>1993-08-08</td>\n",
       "    </tr>\n",
       "  </tbody>\n",
       "</table>\n",
       "</div>"
      ],
      "text/plain": [
       "   rank country_full country_abrv  total_points  previous_points  rank_change  \\\n",
       "0     1      Germany          GER           0.0               57            0   \n",
       "1     2        Italy          ITA           0.0               57            0   \n",
       "2     3  Switzerland          SUI           0.0               50            9   \n",
       "3     4       Sweden          SWE           0.0               55            0   \n",
       "4     5    Argentina          ARG           0.0               51            5   \n",
       "\n",
       "   cur_year_avg  cur_year_avg_weighted  last_year_avg  last_year_avg_weighted  \\\n",
       "0           0.0                    0.0            0.0                     0.0   \n",
       "1           0.0                    0.0            0.0                     0.0   \n",
       "2           0.0                    0.0            0.0                     0.0   \n",
       "3           0.0                    0.0            0.0                     0.0   \n",
       "4           0.0                    0.0            0.0                     0.0   \n",
       "\n",
       "   two_year_ago_avg  two_year_ago_weighted  three_year_ago_avg  \\\n",
       "0               0.0                    0.0                 0.0   \n",
       "1               0.0                    0.0                 0.0   \n",
       "2               0.0                    0.0                 0.0   \n",
       "3               0.0                    0.0                 0.0   \n",
       "4               0.0                    0.0                 0.0   \n",
       "\n",
       "   three_year_ago_weighted confederation   rank_date  \n",
       "0                      0.0          UEFA  1993-08-08  \n",
       "1                      0.0          UEFA  1993-08-08  \n",
       "2                      0.0          UEFA  1993-08-08  \n",
       "3                      0.0          UEFA  1993-08-08  \n",
       "4                      0.0      CONMEBOL  1993-08-08  "
      ]
     },
     "execution_count": 449,
     "metadata": {},
     "output_type": "execute_result"
    }
   ],
   "source": [
    "# let's preview the datasets\n",
    "fifa_df.head()"
   ]
  },
  {
   "cell_type": "markdown",
   "metadata": {},
   "source": [
    "> These are the top 5 rows of the second dataset."
   ]
  },
  {
   "cell_type": "code",
   "execution_count": 450,
   "metadata": {},
   "outputs": [
    {
     "data": {
      "text/html": [
       "<div>\n",
       "<style scoped>\n",
       "    .dataframe tbody tr th:only-of-type {\n",
       "        vertical-align: middle;\n",
       "    }\n",
       "\n",
       "    .dataframe tbody tr th {\n",
       "        vertical-align: top;\n",
       "    }\n",
       "\n",
       "    .dataframe thead th {\n",
       "        text-align: right;\n",
       "    }\n",
       "</style>\n",
       "<table border=\"1\" class=\"dataframe\">\n",
       "  <thead>\n",
       "    <tr style=\"text-align: right;\">\n",
       "      <th></th>\n",
       "      <th>date</th>\n",
       "      <th>home_team</th>\n",
       "      <th>away_team</th>\n",
       "      <th>home_score</th>\n",
       "      <th>away_score</th>\n",
       "      <th>tournament</th>\n",
       "      <th>city</th>\n",
       "      <th>country</th>\n",
       "      <th>neutral</th>\n",
       "    </tr>\n",
       "  </thead>\n",
       "  <tbody>\n",
       "    <tr>\n",
       "      <th>40834</th>\n",
       "      <td>2019-07-18</td>\n",
       "      <td>American Samoa</td>\n",
       "      <td>Tahiti</td>\n",
       "      <td>8</td>\n",
       "      <td>1</td>\n",
       "      <td>Pacific Games</td>\n",
       "      <td>Apia</td>\n",
       "      <td>Samoa</td>\n",
       "      <td>True</td>\n",
       "    </tr>\n",
       "    <tr>\n",
       "      <th>40835</th>\n",
       "      <td>2019-07-18</td>\n",
       "      <td>Fiji</td>\n",
       "      <td>Solomon Islands</td>\n",
       "      <td>4</td>\n",
       "      <td>4</td>\n",
       "      <td>Pacific Games</td>\n",
       "      <td>Apia</td>\n",
       "      <td>Samoa</td>\n",
       "      <td>True</td>\n",
       "    </tr>\n",
       "    <tr>\n",
       "      <th>40836</th>\n",
       "      <td>2019-07-19</td>\n",
       "      <td>Senegal</td>\n",
       "      <td>Algeria</td>\n",
       "      <td>0</td>\n",
       "      <td>1</td>\n",
       "      <td>African Cup of Nations</td>\n",
       "      <td>Cairo</td>\n",
       "      <td>Egypt</td>\n",
       "      <td>True</td>\n",
       "    </tr>\n",
       "    <tr>\n",
       "      <th>40837</th>\n",
       "      <td>2019-07-19</td>\n",
       "      <td>Tajikistan</td>\n",
       "      <td>North Korea</td>\n",
       "      <td>0</td>\n",
       "      <td>1</td>\n",
       "      <td>Intercontinental Cup</td>\n",
       "      <td>Ahmedabad</td>\n",
       "      <td>India</td>\n",
       "      <td>True</td>\n",
       "    </tr>\n",
       "    <tr>\n",
       "      <th>40838</th>\n",
       "      <td>2019-07-20</td>\n",
       "      <td>Papua New Guinea</td>\n",
       "      <td>Fiji</td>\n",
       "      <td>1</td>\n",
       "      <td>1</td>\n",
       "      <td>Pacific Games</td>\n",
       "      <td>Apia</td>\n",
       "      <td>Samoa</td>\n",
       "      <td>True</td>\n",
       "    </tr>\n",
       "  </tbody>\n",
       "</table>\n",
       "</div>"
      ],
      "text/plain": [
       "             date         home_team        away_team  home_score  away_score  \\\n",
       "40834  2019-07-18    American Samoa           Tahiti           8           1   \n",
       "40835  2019-07-18              Fiji  Solomon Islands           4           4   \n",
       "40836  2019-07-19           Senegal          Algeria           0           1   \n",
       "40837  2019-07-19        Tajikistan      North Korea           0           1   \n",
       "40838  2019-07-20  Papua New Guinea             Fiji           1           1   \n",
       "\n",
       "                   tournament       city country  neutral  \n",
       "40834           Pacific Games       Apia   Samoa     True  \n",
       "40835           Pacific Games       Apia   Samoa     True  \n",
       "40836  African Cup of Nations      Cairo   Egypt     True  \n",
       "40837    Intercontinental Cup  Ahmedabad   India     True  \n",
       "40838           Pacific Games       Apia   Samoa     True  "
      ]
     },
     "execution_count": 450,
     "metadata": {},
     "output_type": "execute_result"
    }
   ],
   "source": [
    "# let's check the tail of the datasets\n",
    "results_df.tail()"
   ]
  },
  {
   "cell_type": "markdown",
   "metadata": {},
   "source": [
    "> These are the last 5 rows of the first dataset."
   ]
  },
  {
   "cell_type": "code",
   "execution_count": 451,
   "metadata": {},
   "outputs": [
    {
     "data": {
      "text/html": [
       "<div>\n",
       "<style scoped>\n",
       "    .dataframe tbody tr th:only-of-type {\n",
       "        vertical-align: middle;\n",
       "    }\n",
       "\n",
       "    .dataframe tbody tr th {\n",
       "        vertical-align: top;\n",
       "    }\n",
       "\n",
       "    .dataframe thead th {\n",
       "        text-align: right;\n",
       "    }\n",
       "</style>\n",
       "<table border=\"1\" class=\"dataframe\">\n",
       "  <thead>\n",
       "    <tr style=\"text-align: right;\">\n",
       "      <th></th>\n",
       "      <th>rank</th>\n",
       "      <th>country_full</th>\n",
       "      <th>country_abrv</th>\n",
       "      <th>total_points</th>\n",
       "      <th>previous_points</th>\n",
       "      <th>rank_change</th>\n",
       "      <th>cur_year_avg</th>\n",
       "      <th>cur_year_avg_weighted</th>\n",
       "      <th>last_year_avg</th>\n",
       "      <th>last_year_avg_weighted</th>\n",
       "      <th>two_year_ago_avg</th>\n",
       "      <th>two_year_ago_weighted</th>\n",
       "      <th>three_year_ago_avg</th>\n",
       "      <th>three_year_ago_weighted</th>\n",
       "      <th>confederation</th>\n",
       "      <th>rank_date</th>\n",
       "    </tr>\n",
       "  </thead>\n",
       "  <tbody>\n",
       "    <tr>\n",
       "      <th>57788</th>\n",
       "      <td>206</td>\n",
       "      <td>Anguilla</td>\n",
       "      <td>AIA</td>\n",
       "      <td>0.0</td>\n",
       "      <td>0</td>\n",
       "      <td>1</td>\n",
       "      <td>0.0</td>\n",
       "      <td>0.0</td>\n",
       "      <td>0.0</td>\n",
       "      <td>0.0</td>\n",
       "      <td>0.0</td>\n",
       "      <td>0.0</td>\n",
       "      <td>0.0</td>\n",
       "      <td>0.0</td>\n",
       "      <td>CONCACAF</td>\n",
       "      <td>2018-06-07</td>\n",
       "    </tr>\n",
       "    <tr>\n",
       "      <th>57789</th>\n",
       "      <td>206</td>\n",
       "      <td>Bahamas</td>\n",
       "      <td>BAH</td>\n",
       "      <td>0.0</td>\n",
       "      <td>0</td>\n",
       "      <td>1</td>\n",
       "      <td>0.0</td>\n",
       "      <td>0.0</td>\n",
       "      <td>0.0</td>\n",
       "      <td>0.0</td>\n",
       "      <td>0.0</td>\n",
       "      <td>0.0</td>\n",
       "      <td>0.0</td>\n",
       "      <td>0.0</td>\n",
       "      <td>CONCACAF</td>\n",
       "      <td>2018-06-07</td>\n",
       "    </tr>\n",
       "    <tr>\n",
       "      <th>57790</th>\n",
       "      <td>206</td>\n",
       "      <td>Eritrea</td>\n",
       "      <td>ERI</td>\n",
       "      <td>0.0</td>\n",
       "      <td>0</td>\n",
       "      <td>1</td>\n",
       "      <td>0.0</td>\n",
       "      <td>0.0</td>\n",
       "      <td>0.0</td>\n",
       "      <td>0.0</td>\n",
       "      <td>0.0</td>\n",
       "      <td>0.0</td>\n",
       "      <td>0.0</td>\n",
       "      <td>0.0</td>\n",
       "      <td>CAF</td>\n",
       "      <td>2018-06-07</td>\n",
       "    </tr>\n",
       "    <tr>\n",
       "      <th>57791</th>\n",
       "      <td>206</td>\n",
       "      <td>Somalia</td>\n",
       "      <td>SOM</td>\n",
       "      <td>0.0</td>\n",
       "      <td>0</td>\n",
       "      <td>1</td>\n",
       "      <td>0.0</td>\n",
       "      <td>0.0</td>\n",
       "      <td>0.0</td>\n",
       "      <td>0.0</td>\n",
       "      <td>0.0</td>\n",
       "      <td>0.0</td>\n",
       "      <td>0.0</td>\n",
       "      <td>0.0</td>\n",
       "      <td>CAF</td>\n",
       "      <td>2018-06-07</td>\n",
       "    </tr>\n",
       "    <tr>\n",
       "      <th>57792</th>\n",
       "      <td>206</td>\n",
       "      <td>Tonga</td>\n",
       "      <td>TGA</td>\n",
       "      <td>0.0</td>\n",
       "      <td>0</td>\n",
       "      <td>1</td>\n",
       "      <td>0.0</td>\n",
       "      <td>0.0</td>\n",
       "      <td>0.0</td>\n",
       "      <td>0.0</td>\n",
       "      <td>0.0</td>\n",
       "      <td>0.0</td>\n",
       "      <td>0.0</td>\n",
       "      <td>0.0</td>\n",
       "      <td>OFC</td>\n",
       "      <td>2018-06-07</td>\n",
       "    </tr>\n",
       "  </tbody>\n",
       "</table>\n",
       "</div>"
      ],
      "text/plain": [
       "       rank country_full country_abrv  total_points  previous_points  \\\n",
       "57788   206     Anguilla          AIA           0.0                0   \n",
       "57789   206      Bahamas          BAH           0.0                0   \n",
       "57790   206      Eritrea          ERI           0.0                0   \n",
       "57791   206      Somalia          SOM           0.0                0   \n",
       "57792   206        Tonga          TGA           0.0                0   \n",
       "\n",
       "       rank_change  cur_year_avg  cur_year_avg_weighted  last_year_avg  \\\n",
       "57788            1           0.0                    0.0            0.0   \n",
       "57789            1           0.0                    0.0            0.0   \n",
       "57790            1           0.0                    0.0            0.0   \n",
       "57791            1           0.0                    0.0            0.0   \n",
       "57792            1           0.0                    0.0            0.0   \n",
       "\n",
       "       last_year_avg_weighted  two_year_ago_avg  two_year_ago_weighted  \\\n",
       "57788                     0.0               0.0                    0.0   \n",
       "57789                     0.0               0.0                    0.0   \n",
       "57790                     0.0               0.0                    0.0   \n",
       "57791                     0.0               0.0                    0.0   \n",
       "57792                     0.0               0.0                    0.0   \n",
       "\n",
       "       three_year_ago_avg  three_year_ago_weighted confederation   rank_date  \n",
       "57788                 0.0                      0.0      CONCACAF  2018-06-07  \n",
       "57789                 0.0                      0.0      CONCACAF  2018-06-07  \n",
       "57790                 0.0                      0.0           CAF  2018-06-07  \n",
       "57791                 0.0                      0.0           CAF  2018-06-07  \n",
       "57792                 0.0                      0.0           OFC  2018-06-07  "
      ]
     },
     "execution_count": 451,
     "metadata": {},
     "output_type": "execute_result"
    }
   ],
   "source": [
    "# let's check the tail of the datasets\n",
    "fifa_df.tail()"
   ]
  },
  {
   "cell_type": "markdown",
   "metadata": {},
   "source": [
    "> These are the last 5 rows of the second dataset."
   ]
  },
  {
   "cell_type": "code",
   "execution_count": 452,
   "metadata": {},
   "outputs": [
    {
     "name": "stdout",
     "output_type": "stream",
     "text": [
      "The results dataset has 40839 rows and 9 columns.\n"
     ]
    }
   ],
   "source": [
    "# let's use a print function to check the shape of the datasets\n",
    "print('The results dataset has {} rows and {} columns.'.format(results_df.shape[0], results_df.shape[1]))\n"
   ]
  },
  {
   "cell_type": "markdown",
   "metadata": {},
   "source": [
    "> The first dataset has 40839 rows and 9 columns."
   ]
  },
  {
   "cell_type": "code",
   "execution_count": 453,
   "metadata": {},
   "outputs": [
    {
     "name": "stdout",
     "output_type": "stream",
     "text": [
      "The fifa dataset has 57793 rows and 16 columns.\n"
     ]
    }
   ],
   "source": [
    "# let's use a print function to check the shape of the datasets\n",
    "print('The fifa dataset has {} rows and {} columns.'.format(fifa_df.shape[0], fifa_df.shape[1]))"
   ]
  },
  {
   "cell_type": "markdown",
   "metadata": {},
   "source": [
    "> The second dataset has 57793 rows and 16 columns."
   ]
  },
  {
   "cell_type": "code",
   "execution_count": 454,
   "metadata": {},
   "outputs": [
    {
     "data": {
      "text/plain": [
       "date          object\n",
       "home_team     object\n",
       "away_team     object\n",
       "home_score     int64\n",
       "away_score     int64\n",
       "tournament    object\n",
       "city          object\n",
       "country       object\n",
       "neutral         bool\n",
       "dtype: object"
      ]
     },
     "execution_count": 454,
     "metadata": {},
     "output_type": "execute_result"
    }
   ],
   "source": [
    "# let's check the data types of the datasets\n",
    "results_df.dtypes"
   ]
  },
  {
   "cell_type": "markdown",
   "metadata": {},
   "source": [
    "> These are the columns of the first dataset."
   ]
  },
  {
   "cell_type": "code",
   "execution_count": 455,
   "metadata": {},
   "outputs": [
    {
     "data": {
      "text/plain": [
       "rank                         int64\n",
       "country_full                object\n",
       "country_abrv                object\n",
       "total_points               float64\n",
       "previous_points              int64\n",
       "rank_change                  int64\n",
       "cur_year_avg               float64\n",
       "cur_year_avg_weighted      float64\n",
       "last_year_avg              float64\n",
       "last_year_avg_weighted     float64\n",
       "two_year_ago_avg           float64\n",
       "two_year_ago_weighted      float64\n",
       "three_year_ago_avg         float64\n",
       "three_year_ago_weighted    float64\n",
       "confederation               object\n",
       "rank_date                   object\n",
       "dtype: object"
      ]
     },
     "execution_count": 455,
     "metadata": {},
     "output_type": "execute_result"
    }
   ],
   "source": [
    "# let's check the data types of the datasets\n",
    "fifa_df.dtypes"
   ]
  },
  {
   "cell_type": "markdown",
   "metadata": {},
   "source": [
    "> These are the columns of the second dataset."
   ]
  },
  {
   "cell_type": "code",
   "execution_count": 456,
   "metadata": {},
   "outputs": [
    {
     "data": {
      "text/html": [
       "<div>\n",
       "<style scoped>\n",
       "    .dataframe tbody tr th:only-of-type {\n",
       "        vertical-align: middle;\n",
       "    }\n",
       "\n",
       "    .dataframe tbody tr th {\n",
       "        vertical-align: top;\n",
       "    }\n",
       "\n",
       "    .dataframe thead th {\n",
       "        text-align: right;\n",
       "    }\n",
       "</style>\n",
       "<table border=\"1\" class=\"dataframe\">\n",
       "  <thead>\n",
       "    <tr style=\"text-align: right;\">\n",
       "      <th></th>\n",
       "      <th>home_score</th>\n",
       "      <th>away_score</th>\n",
       "    </tr>\n",
       "  </thead>\n",
       "  <tbody>\n",
       "    <tr>\n",
       "      <th>count</th>\n",
       "      <td>40839.000000</td>\n",
       "      <td>40839.000000</td>\n",
       "    </tr>\n",
       "    <tr>\n",
       "      <th>mean</th>\n",
       "      <td>1.745709</td>\n",
       "      <td>1.188105</td>\n",
       "    </tr>\n",
       "    <tr>\n",
       "      <th>std</th>\n",
       "      <td>1.749145</td>\n",
       "      <td>1.405120</td>\n",
       "    </tr>\n",
       "    <tr>\n",
       "      <th>min</th>\n",
       "      <td>0.000000</td>\n",
       "      <td>0.000000</td>\n",
       "    </tr>\n",
       "    <tr>\n",
       "      <th>25%</th>\n",
       "      <td>1.000000</td>\n",
       "      <td>0.000000</td>\n",
       "    </tr>\n",
       "    <tr>\n",
       "      <th>50%</th>\n",
       "      <td>1.000000</td>\n",
       "      <td>1.000000</td>\n",
       "    </tr>\n",
       "    <tr>\n",
       "      <th>75%</th>\n",
       "      <td>2.000000</td>\n",
       "      <td>2.000000</td>\n",
       "    </tr>\n",
       "    <tr>\n",
       "      <th>max</th>\n",
       "      <td>31.000000</td>\n",
       "      <td>21.000000</td>\n",
       "    </tr>\n",
       "  </tbody>\n",
       "</table>\n",
       "</div>"
      ],
      "text/plain": [
       "         home_score    away_score\n",
       "count  40839.000000  40839.000000\n",
       "mean       1.745709      1.188105\n",
       "std        1.749145      1.405120\n",
       "min        0.000000      0.000000\n",
       "25%        1.000000      0.000000\n",
       "50%        1.000000      1.000000\n",
       "75%        2.000000      2.000000\n",
       "max       31.000000     21.000000"
      ]
     },
     "execution_count": 456,
     "metadata": {},
     "output_type": "execute_result"
    }
   ],
   "source": [
    "# let's see a description of the datasets\n",
    "results_df.describe()"
   ]
  },
  {
   "cell_type": "code",
   "execution_count": 457,
   "metadata": {},
   "outputs": [
    {
     "data": {
      "text/html": [
       "<div>\n",
       "<style scoped>\n",
       "    .dataframe tbody tr th:only-of-type {\n",
       "        vertical-align: middle;\n",
       "    }\n",
       "\n",
       "    .dataframe tbody tr th {\n",
       "        vertical-align: top;\n",
       "    }\n",
       "\n",
       "    .dataframe thead th {\n",
       "        text-align: right;\n",
       "    }\n",
       "</style>\n",
       "<table border=\"1\" class=\"dataframe\">\n",
       "  <thead>\n",
       "    <tr style=\"text-align: right;\">\n",
       "      <th></th>\n",
       "      <th>rank</th>\n",
       "      <th>total_points</th>\n",
       "      <th>previous_points</th>\n",
       "      <th>rank_change</th>\n",
       "      <th>cur_year_avg</th>\n",
       "      <th>cur_year_avg_weighted</th>\n",
       "      <th>last_year_avg</th>\n",
       "      <th>last_year_avg_weighted</th>\n",
       "      <th>two_year_ago_avg</th>\n",
       "      <th>two_year_ago_weighted</th>\n",
       "      <th>three_year_ago_avg</th>\n",
       "      <th>three_year_ago_weighted</th>\n",
       "    </tr>\n",
       "  </thead>\n",
       "  <tbody>\n",
       "    <tr>\n",
       "      <th>count</th>\n",
       "      <td>57793.000000</td>\n",
       "      <td>57793.000000</td>\n",
       "      <td>57793.000000</td>\n",
       "      <td>57793.000000</td>\n",
       "      <td>57793.000000</td>\n",
       "      <td>57793.000000</td>\n",
       "      <td>57793.000000</td>\n",
       "      <td>57793.000000</td>\n",
       "      <td>57793.000000</td>\n",
       "      <td>57793.000000</td>\n",
       "      <td>57793.000000</td>\n",
       "      <td>57793.000000</td>\n",
       "    </tr>\n",
       "    <tr>\n",
       "      <th>mean</th>\n",
       "      <td>101.628086</td>\n",
       "      <td>122.068637</td>\n",
       "      <td>332.302926</td>\n",
       "      <td>-0.009897</td>\n",
       "      <td>61.798602</td>\n",
       "      <td>61.798602</td>\n",
       "      <td>61.004602</td>\n",
       "      <td>30.502377</td>\n",
       "      <td>59.777462</td>\n",
       "      <td>17.933277</td>\n",
       "      <td>59.173916</td>\n",
       "      <td>11.834811</td>\n",
       "    </tr>\n",
       "    <tr>\n",
       "      <th>std</th>\n",
       "      <td>58.618424</td>\n",
       "      <td>260.426863</td>\n",
       "      <td>302.872948</td>\n",
       "      <td>5.804309</td>\n",
       "      <td>138.014883</td>\n",
       "      <td>138.014883</td>\n",
       "      <td>137.688204</td>\n",
       "      <td>68.844143</td>\n",
       "      <td>136.296079</td>\n",
       "      <td>40.888849</td>\n",
       "      <td>135.533343</td>\n",
       "      <td>27.106675</td>\n",
       "    </tr>\n",
       "    <tr>\n",
       "      <th>min</th>\n",
       "      <td>1.000000</td>\n",
       "      <td>0.000000</td>\n",
       "      <td>0.000000</td>\n",
       "      <td>-72.000000</td>\n",
       "      <td>0.000000</td>\n",
       "      <td>0.000000</td>\n",
       "      <td>0.000000</td>\n",
       "      <td>0.000000</td>\n",
       "      <td>0.000000</td>\n",
       "      <td>0.000000</td>\n",
       "      <td>0.000000</td>\n",
       "      <td>0.000000</td>\n",
       "    </tr>\n",
       "    <tr>\n",
       "      <th>25%</th>\n",
       "      <td>51.000000</td>\n",
       "      <td>0.000000</td>\n",
       "      <td>56.000000</td>\n",
       "      <td>-2.000000</td>\n",
       "      <td>0.000000</td>\n",
       "      <td>0.000000</td>\n",
       "      <td>0.000000</td>\n",
       "      <td>0.000000</td>\n",
       "      <td>0.000000</td>\n",
       "      <td>0.000000</td>\n",
       "      <td>0.000000</td>\n",
       "      <td>0.000000</td>\n",
       "    </tr>\n",
       "    <tr>\n",
       "      <th>50%</th>\n",
       "      <td>101.000000</td>\n",
       "      <td>0.000000</td>\n",
       "      <td>272.000000</td>\n",
       "      <td>0.000000</td>\n",
       "      <td>0.000000</td>\n",
       "      <td>0.000000</td>\n",
       "      <td>0.000000</td>\n",
       "      <td>0.000000</td>\n",
       "      <td>0.000000</td>\n",
       "      <td>0.000000</td>\n",
       "      <td>0.000000</td>\n",
       "      <td>0.000000</td>\n",
       "    </tr>\n",
       "    <tr>\n",
       "      <th>75%</th>\n",
       "      <td>152.000000</td>\n",
       "      <td>92.790000</td>\n",
       "      <td>525.000000</td>\n",
       "      <td>1.000000</td>\n",
       "      <td>32.250000</td>\n",
       "      <td>32.250000</td>\n",
       "      <td>26.660000</td>\n",
       "      <td>13.330000</td>\n",
       "      <td>21.500000</td>\n",
       "      <td>6.450000</td>\n",
       "      <td>21.250000</td>\n",
       "      <td>4.250000</td>\n",
       "    </tr>\n",
       "    <tr>\n",
       "      <th>max</th>\n",
       "      <td>209.000000</td>\n",
       "      <td>1775.030000</td>\n",
       "      <td>1920.000000</td>\n",
       "      <td>92.000000</td>\n",
       "      <td>1158.660000</td>\n",
       "      <td>1158.660000</td>\n",
       "      <td>1169.570000</td>\n",
       "      <td>584.790000</td>\n",
       "      <td>1159.710000</td>\n",
       "      <td>347.910000</td>\n",
       "      <td>1200.770000</td>\n",
       "      <td>240.150000</td>\n",
       "    </tr>\n",
       "  </tbody>\n",
       "</table>\n",
       "</div>"
      ],
      "text/plain": [
       "               rank  total_points  previous_points   rank_change  \\\n",
       "count  57793.000000  57793.000000     57793.000000  57793.000000   \n",
       "mean     101.628086    122.068637       332.302926     -0.009897   \n",
       "std       58.618424    260.426863       302.872948      5.804309   \n",
       "min        1.000000      0.000000         0.000000    -72.000000   \n",
       "25%       51.000000      0.000000        56.000000     -2.000000   \n",
       "50%      101.000000      0.000000       272.000000      0.000000   \n",
       "75%      152.000000     92.790000       525.000000      1.000000   \n",
       "max      209.000000   1775.030000      1920.000000     92.000000   \n",
       "\n",
       "       cur_year_avg  cur_year_avg_weighted  last_year_avg  \\\n",
       "count  57793.000000           57793.000000   57793.000000   \n",
       "mean      61.798602              61.798602      61.004602   \n",
       "std      138.014883             138.014883     137.688204   \n",
       "min        0.000000               0.000000       0.000000   \n",
       "25%        0.000000               0.000000       0.000000   \n",
       "50%        0.000000               0.000000       0.000000   \n",
       "75%       32.250000              32.250000      26.660000   \n",
       "max     1158.660000            1158.660000    1169.570000   \n",
       "\n",
       "       last_year_avg_weighted  two_year_ago_avg  two_year_ago_weighted  \\\n",
       "count            57793.000000      57793.000000           57793.000000   \n",
       "mean                30.502377         59.777462              17.933277   \n",
       "std                 68.844143        136.296079              40.888849   \n",
       "min                  0.000000          0.000000               0.000000   \n",
       "25%                  0.000000          0.000000               0.000000   \n",
       "50%                  0.000000          0.000000               0.000000   \n",
       "75%                 13.330000         21.500000               6.450000   \n",
       "max                584.790000       1159.710000             347.910000   \n",
       "\n",
       "       three_year_ago_avg  three_year_ago_weighted  \n",
       "count        57793.000000             57793.000000  \n",
       "mean            59.173916                11.834811  \n",
       "std            135.533343                27.106675  \n",
       "min              0.000000                 0.000000  \n",
       "25%              0.000000                 0.000000  \n",
       "50%              0.000000                 0.000000  \n",
       "75%             21.250000                 4.250000  \n",
       "max           1200.770000               240.150000  "
      ]
     },
     "execution_count": 457,
     "metadata": {},
     "output_type": "execute_result"
    }
   ],
   "source": [
    "# let's see a description of the datasets\n",
    "fifa_df.describe()"
   ]
  },
  {
   "cell_type": "markdown",
   "metadata": {},
   "source": [
    "### 4. External Data Source Validation"
   ]
  },
  {
   "cell_type": "markdown",
   "metadata": {},
   "source": [
    "> The teams that are playing in the game have been verified from the FIFA website and the matches actually played."
   ]
  },
  {
   "cell_type": "markdown",
   "metadata": {},
   "source": [
    "### 5. Tidying the Dataset"
   ]
  },
  {
   "cell_type": "code",
   "execution_count": 458,
   "metadata": {},
   "outputs": [
    {
     "data": {
      "text/plain": [
       "False"
      ]
     },
     "execution_count": 458,
     "metadata": {},
     "output_type": "execute_result"
    }
   ],
   "source": [
    "# let's check for null values\n",
    "results_df.isnull().sum().any()"
   ]
  },
  {
   "cell_type": "markdown",
   "metadata": {},
   "source": [
    "> The first dataset does not have any null values"
   ]
  },
  {
   "cell_type": "code",
   "execution_count": 459,
   "metadata": {},
   "outputs": [
    {
     "data": {
      "text/plain": [
       "False"
      ]
     },
     "execution_count": 459,
     "metadata": {},
     "output_type": "execute_result"
    }
   ],
   "source": [
    "# let's check for null values\n",
    "fifa_df.isnull().sum().any()"
   ]
  },
  {
   "cell_type": "markdown",
   "metadata": {},
   "source": [
    "> The second dataset has no null values"
   ]
  },
  {
   "cell_type": "code",
   "execution_count": 460,
   "metadata": {},
   "outputs": [
    {
     "data": {
      "text/plain": [
       "False"
      ]
     },
     "execution_count": 460,
     "metadata": {},
     "output_type": "execute_result"
    }
   ],
   "source": [
    "# let's check for anomalies\n",
    "results_df.duplicated().sum().any()"
   ]
  },
  {
   "cell_type": "markdown",
   "metadata": {},
   "source": [
    "> There is no duplicate data in the first dataset"
   ]
  },
  {
   "cell_type": "code",
   "execution_count": 461,
   "metadata": {},
   "outputs": [
    {
     "data": {
      "text/plain": [
       "True"
      ]
     },
     "execution_count": 461,
     "metadata": {},
     "output_type": "execute_result"
    }
   ],
   "source": [
    "# let's check for anomalies\n",
    "fifa_df.duplicated().sum().any()"
   ]
  },
  {
   "cell_type": "code",
   "execution_count": 462,
   "metadata": {},
   "outputs": [
    {
     "data": {
      "text/plain": [
       "False"
      ]
     },
     "execution_count": 462,
     "metadata": {},
     "output_type": "execute_result"
    }
   ],
   "source": [
    "# let's drop the duplicated data\n",
    "fifa_df.drop_duplicates(inplace=True)\n",
    "# checking for duplicated data again\n",
    "fifa_df.duplicated().sum().any()"
   ]
  },
  {
   "cell_type": "markdown",
   "metadata": {},
   "source": [
    "> The second dataset however has some duplicate data"
   ]
  },
  {
   "cell_type": "code",
   "execution_count": 463,
   "metadata": {},
   "outputs": [],
   "source": [
    "# Outliers\n",
    "# let's create a function that checks for the percentage of outliers in a dataset using Interquartile range\n",
    "def check_outliers(df):\n",
    "    # instantiate the quantile variables\n",
    "    Quantile_1, Quantile_2, Quantile_3 = 0, 0, 0\n",
    "\n",
    "    # converting to dataframe\n",
    "    check_outliers = pd.DataFrame()\n",
    "\n",
    "    # let's get the numerical columns\n",
    "    num_cols = df.select_dtypes(include=['int64', 'float64'])\n",
    "\n",
    "    # getting the quantiles from the numerical columns\n",
    "    Quantile_1 = num_cols.quantile(0.25)\n",
    "    Quantile_3 = num_cols.quantile(0.75)\n",
    "\n",
    "    # let's get the IQR\n",
    "    IQR = Quantile_3 - Quantile_1\n",
    "\n",
    "    # let's get the outliers\n",
    "    check_outliers = num_cols[((num_cols < (Quantile_1 - 1.5 * IQR)) | (num_cols > (Quantile_3 + 1.5 * IQR))).any(axis=1)]\n",
    "\n",
    "    # printing the number of outliers and the percentage of outliers\n",
    "    print('There are {} outliers in the dataset.'.format(check_outliers.shape[0]))\n",
    "    print('The percentage of outliers in the dataset is {}%.'.format(round((check_outliers.shape[0] / df.shape[0]) * 100, 2)))\n",
    "\n",
    "    # reusable #"
   ]
  },
  {
   "cell_type": "code",
   "execution_count": 464,
   "metadata": {},
   "outputs": [
    {
     "name": "stdout",
     "output_type": "stream",
     "text": [
      "There are 5683 outliers in the dataset.\n",
      "The percentage of outliers in the dataset is 13.92%.\n"
     ]
    }
   ],
   "source": [
    "# outliers in the results dataset\n",
    "check_outliers(results_df)"
   ]
  },
  {
   "cell_type": "code",
   "execution_count": 465,
   "metadata": {},
   "outputs": [
    {
     "name": "stdout",
     "output_type": "stream",
     "text": [
      "There are 21235 outliers in the dataset.\n",
      "The percentage of outliers in the dataset is 36.77%.\n"
     ]
    }
   ],
   "source": [
    "# outliers in the fifa dataset\n",
    "check_outliers(fifa_df)"
   ]
  },
  {
   "cell_type": "markdown",
   "metadata": {},
   "source": [
    "> We wont be dropping any outliers for both datasets as these are crucial datasets"
   ]
  },
  {
   "cell_type": "code",
   "execution_count": 466,
   "metadata": {},
   "outputs": [],
   "source": [
    "# let's copy the fifa dataset to a new dataset in order to ranks for the away team during merging\n",
    "fifa_df_copy = fifa_df.copy()\n",
    "\n",
    "# let's merge the two datasets\n",
    "main_merged = pd.merge(pd.merge(results_df, fifa_df, left_on=['date', 'home_team'], how = 'inner', right_on = ['rank_date', 'country_full']), fifa_df_copy, left_on=['date', 'away_team'], how = 'inner', right_on = ['rank_date', 'country_full'])"
   ]
  },
  {
   "cell_type": "code",
   "execution_count": 467,
   "metadata": {},
   "outputs": [
    {
     "data": {
      "text/html": [
       "<div>\n",
       "<style scoped>\n",
       "    .dataframe tbody tr th:only-of-type {\n",
       "        vertical-align: middle;\n",
       "    }\n",
       "\n",
       "    .dataframe tbody tr th {\n",
       "        vertical-align: top;\n",
       "    }\n",
       "\n",
       "    .dataframe thead th {\n",
       "        text-align: right;\n",
       "    }\n",
       "</style>\n",
       "<table border=\"1\" class=\"dataframe\">\n",
       "  <thead>\n",
       "    <tr style=\"text-align: right;\">\n",
       "      <th></th>\n",
       "      <th>date</th>\n",
       "      <th>home_team</th>\n",
       "      <th>away_team</th>\n",
       "      <th>home_score</th>\n",
       "      <th>away_score</th>\n",
       "      <th>tournament</th>\n",
       "      <th>home_team_rank</th>\n",
       "      <th>away_team_rank</th>\n",
       "    </tr>\n",
       "  </thead>\n",
       "  <tbody>\n",
       "    <tr>\n",
       "      <th>0</th>\n",
       "      <td>1993-08-08</td>\n",
       "      <td>Bolivia</td>\n",
       "      <td>Uruguay</td>\n",
       "      <td>3</td>\n",
       "      <td>1</td>\n",
       "      <td>FIFA World Cup qualification</td>\n",
       "      <td>59</td>\n",
       "      <td>22</td>\n",
       "    </tr>\n",
       "    <tr>\n",
       "      <th>1</th>\n",
       "      <td>1993-08-08</td>\n",
       "      <td>Brazil</td>\n",
       "      <td>Mexico</td>\n",
       "      <td>1</td>\n",
       "      <td>1</td>\n",
       "      <td>Friendly</td>\n",
       "      <td>8</td>\n",
       "      <td>14</td>\n",
       "    </tr>\n",
       "    <tr>\n",
       "      <th>2</th>\n",
       "      <td>1993-08-08</td>\n",
       "      <td>Ecuador</td>\n",
       "      <td>Venezuela</td>\n",
       "      <td>5</td>\n",
       "      <td>0</td>\n",
       "      <td>FIFA World Cup qualification</td>\n",
       "      <td>35</td>\n",
       "      <td>94</td>\n",
       "    </tr>\n",
       "    <tr>\n",
       "      <th>3</th>\n",
       "      <td>1993-08-08</td>\n",
       "      <td>Guinea</td>\n",
       "      <td>Sierra Leone</td>\n",
       "      <td>1</td>\n",
       "      <td>0</td>\n",
       "      <td>Friendly</td>\n",
       "      <td>65</td>\n",
       "      <td>86</td>\n",
       "    </tr>\n",
       "    <tr>\n",
       "      <th>4</th>\n",
       "      <td>1993-08-08</td>\n",
       "      <td>Paraguay</td>\n",
       "      <td>Argentina</td>\n",
       "      <td>1</td>\n",
       "      <td>3</td>\n",
       "      <td>FIFA World Cup qualification</td>\n",
       "      <td>67</td>\n",
       "      <td>5</td>\n",
       "    </tr>\n",
       "  </tbody>\n",
       "</table>\n",
       "</div>"
      ],
      "text/plain": [
       "         date home_team     away_team  home_score  away_score  \\\n",
       "0  1993-08-08   Bolivia       Uruguay           3           1   \n",
       "1  1993-08-08    Brazil        Mexico           1           1   \n",
       "2  1993-08-08   Ecuador     Venezuela           5           0   \n",
       "3  1993-08-08    Guinea  Sierra Leone           1           0   \n",
       "4  1993-08-08  Paraguay     Argentina           1           3   \n",
       "\n",
       "                     tournament  home_team_rank  away_team_rank  \n",
       "0  FIFA World Cup qualification              59              22  \n",
       "1                      Friendly               8              14  \n",
       "2  FIFA World Cup qualification              35              94  \n",
       "3                      Friendly              65              86  \n",
       "4  FIFA World Cup qualification              67               5  "
      ]
     },
     "execution_count": 467,
     "metadata": {},
     "output_type": "execute_result"
    }
   ],
   "source": [
    "# let's merge the two fifa dataframes using an inner join\n",
    "merged_df = pd.merge(pd.merge(results_df, fifa_df[['rank', 'country_full', 'rank_date']], how='inner', \n",
    "            left_on=['date', 'home_team'], \n",
    "            right_on=['rank_date', 'country_full']), fifa_df_copy[['rank', 'country_full', 'rank_date']], how='inner',\n",
    "            left_on=['date', 'away_team'],\n",
    "            right_on=['rank_date', 'country_full'])\n",
    "\n",
    "# let's check the shape of the merged dataframe\n",
    "merged_df.shape\n",
    "\n",
    "# preview the merged dataframe\n",
    "merged_df.head()\n",
    "\n",
    "# let's drop the duplicate columns\n",
    "merged_df.drop(['rank_date_x', 'rank_date_y', 'country_full_x', 'country_full_y', 'neutral', 'country', 'city'], axis=1, inplace=True)\n",
    "\n",
    "# let's rename the rank_x and rank_y columns to home_team_rank and away_team_rank\n",
    "merged_df.rename(columns={'rank_x': 'home_team_rank', 'rank_y': 'away_team_rank'}, inplace=True)\n",
    "\n",
    "# preview the merged dataframe\n",
    "merged_df.head(5)"
   ]
  },
  {
   "cell_type": "code",
   "execution_count": 468,
   "metadata": {},
   "outputs": [
    {
     "data": {
      "text/html": [
       "<div>\n",
       "<style scoped>\n",
       "    .dataframe tbody tr th:only-of-type {\n",
       "        vertical-align: middle;\n",
       "    }\n",
       "\n",
       "    .dataframe tbody tr th {\n",
       "        vertical-align: top;\n",
       "    }\n",
       "\n",
       "    .dataframe thead th {\n",
       "        text-align: right;\n",
       "    }\n",
       "</style>\n",
       "<table border=\"1\" class=\"dataframe\">\n",
       "  <thead>\n",
       "    <tr style=\"text-align: right;\">\n",
       "      <th></th>\n",
       "      <th>date</th>\n",
       "      <th>home_team</th>\n",
       "      <th>away_team</th>\n",
       "      <th>home_score</th>\n",
       "      <th>away_score</th>\n",
       "      <th>tournament</th>\n",
       "      <th>home_team_rank</th>\n",
       "      <th>away_team_rank</th>\n",
       "      <th>results</th>\n",
       "    </tr>\n",
       "  </thead>\n",
       "  <tbody>\n",
       "    <tr>\n",
       "      <th>866</th>\n",
       "      <td>2018-06-07</td>\n",
       "      <td>England</td>\n",
       "      <td>Costa Rica</td>\n",
       "      <td>2</td>\n",
       "      <td>0</td>\n",
       "      <td>Friendly</td>\n",
       "      <td>12</td>\n",
       "      <td>23</td>\n",
       "      <td>W</td>\n",
       "    </tr>\n",
       "    <tr>\n",
       "      <th>867</th>\n",
       "      <td>2018-06-07</td>\n",
       "      <td>Uruguay</td>\n",
       "      <td>Uzbekistan</td>\n",
       "      <td>3</td>\n",
       "      <td>0</td>\n",
       "      <td>Friendly</td>\n",
       "      <td>14</td>\n",
       "      <td>95</td>\n",
       "      <td>W</td>\n",
       "    </tr>\n",
       "    <tr>\n",
       "      <th>868</th>\n",
       "      <td>2018-06-07</td>\n",
       "      <td>Portugal</td>\n",
       "      <td>Algeria</td>\n",
       "      <td>3</td>\n",
       "      <td>0</td>\n",
       "      <td>Friendly</td>\n",
       "      <td>4</td>\n",
       "      <td>66</td>\n",
       "      <td>W</td>\n",
       "    </tr>\n",
       "    <tr>\n",
       "      <th>869</th>\n",
       "      <td>2018-06-07</td>\n",
       "      <td>Iceland</td>\n",
       "      <td>Ghana</td>\n",
       "      <td>2</td>\n",
       "      <td>2</td>\n",
       "      <td>Friendly</td>\n",
       "      <td>22</td>\n",
       "      <td>47</td>\n",
       "      <td>D</td>\n",
       "    </tr>\n",
       "    <tr>\n",
       "      <th>870</th>\n",
       "      <td>2018-06-07</td>\n",
       "      <td>India</td>\n",
       "      <td>New Zealand</td>\n",
       "      <td>1</td>\n",
       "      <td>2</td>\n",
       "      <td>Intercontinental Cup</td>\n",
       "      <td>97</td>\n",
       "      <td>120</td>\n",
       "      <td>L</td>\n",
       "    </tr>\n",
       "  </tbody>\n",
       "</table>\n",
       "</div>"
      ],
      "text/plain": [
       "           date home_team    away_team  home_score  away_score  \\\n",
       "866  2018-06-07   England   Costa Rica           2           0   \n",
       "867  2018-06-07   Uruguay   Uzbekistan           3           0   \n",
       "868  2018-06-07  Portugal      Algeria           3           0   \n",
       "869  2018-06-07   Iceland        Ghana           2           2   \n",
       "870  2018-06-07     India  New Zealand           1           2   \n",
       "\n",
       "               tournament  home_team_rank  away_team_rank results  \n",
       "866              Friendly              12              23       W  \n",
       "867              Friendly              14              95       W  \n",
       "868              Friendly               4              66       W  \n",
       "869              Friendly              22              47       D  \n",
       "870  Intercontinental Cup              97             120       L  "
      ]
     },
     "execution_count": 468,
     "metadata": {},
     "output_type": "execute_result"
    }
   ],
   "source": [
    "# let's add a results column to the merged dataframe to help us \n",
    "# compute the points and to know whether or not a team won by appending a W for won, a D for draw and a L for lost based on the home team's goals\n",
    "merged_df['results'] = merged_df.apply(lambda row: 'W' if row['home_score'] > row['away_score'] else ('D' if row['home_score'] == row['away_score'] else 'L'), axis=1)\n",
    "\n",
    "# preview the changes to dataframe\n",
    "merged_df.tail(5)"
   ]
  },
  {
   "cell_type": "markdown",
   "metadata": {},
   "source": [
    "### 6. Exploratory Analysis"
   ]
  },
  {
   "cell_type": "markdown",
   "metadata": {},
   "source": [
    "##### Univariate Analysis"
   ]
  },
  {
   "cell_type": "code",
   "execution_count": 469,
   "metadata": {},
   "outputs": [
    {
     "data": {
      "text/plain": [
       "['home_score', 'away_score', 'home_team_rank', 'away_team_rank']"
      ]
     },
     "execution_count": 469,
     "metadata": {},
     "output_type": "execute_result"
    }
   ],
   "source": [
    "# let's see the numerical columns of the merged dataframe as a list\n",
    "numerical = merged_df.select_dtypes(include=['int64', 'float64']).columns.tolist()\n",
    "numerical"
   ]
  },
  {
   "cell_type": "code",
   "execution_count": 470,
   "metadata": {},
   "outputs": [
    {
     "data": {
      "text/plain": [
       "['home_score', 'away_score', 'home_team_rank', 'away_team_rank']"
      ]
     },
     "execution_count": 470,
     "metadata": {},
     "output_type": "execute_result"
    }
   ],
   "source": [
    "# let's see the categorical columns of the merged dataframe as a list\n",
    "categorical = merged_df.select_dtypes(include=['object']).columns.tolist()\n",
    "categorical\n",
    "\n",
    "# let's exclude date\n",
    "#numerical.remove('date')\n",
    "numerical"
   ]
  },
  {
   "cell_type": "code",
   "execution_count": 472,
   "metadata": {},
   "outputs": [
    {
     "data": {
      "text/plain": [
       "Friendly                                      574\n",
       "FIFA World Cup qualification                  134\n",
       "UEFA Euro qualification                        37\n",
       "AFC Asian Cup qualification                    31\n",
       "Cyprus International Tournament                 8\n",
       "Gulf Cup                                        7\n",
       "AFF Championship                                7\n",
       "CECAFA Cup                                      6\n",
       "Copa América                                    6\n",
       "African Cup of Nations qualification            5\n",
       "Gold Cup                                        5\n",
       "African Cup of Nations                          4\n",
       "AFC Asian Cup                                   4\n",
       "SAFF Cup                                        4\n",
       "African Nations Championship                    3\n",
       "Malta International Tournament                  3\n",
       "United Arab Emirates Friendship Tournament      3\n",
       "King's Cup                                      3\n",
       "CFU Caribbean Cup                               2\n",
       "Merdeka Tournament                              2\n",
       "Oceania Nations Cup                             2\n",
       "UNCAF Cup                                       2\n",
       "Prime Minister's Cup                            2\n",
       "Confederations Cup                              2\n",
       "CFU Caribbean Cup qualification                 2\n",
       "EAFF Championship                               1\n",
       "Windward Islands Tournament                     1\n",
       "Copa del Pacífico                               1\n",
       "South Pacific Games                             1\n",
       "AFC Challenge Cup qualification                 1\n",
       "Nehru Cup                                       1\n",
       "COSAFA Cup                                      1\n",
       "Gold Cup qualification                          1\n",
       "Korea Cup                                       1\n",
       "UAFA Cup                                        1\n",
       "USA Cup                                         1\n",
       "Millennium Cup                                  1\n",
       "Intercontinental Cup                            1\n",
       "Name: tournament, dtype: int64"
      ]
     },
     "execution_count": 472,
     "metadata": {},
     "output_type": "execute_result"
    }
   ],
   "source": [
    "# let's see the value counts for tournaments\n",
    "merged_df['tournament'].value_counts()"
   ]
  },
  {
   "cell_type": "markdown",
   "metadata": {},
   "source": [
    "> Friendlies were the most played tournament followed by the Fifa world cup qualifications."
   ]
  },
  {
   "cell_type": "code",
   "execution_count": 473,
   "metadata": {},
   "outputs": [
    {
     "data": {
      "text/plain": [
       "W    420\n",
       "D    226\n",
       "L    225\n",
       "Name: results, dtype: int64"
      ]
     },
     "execution_count": 473,
     "metadata": {},
     "output_type": "execute_result"
    }
   ],
   "source": [
    "# let's see the value counts for results\n",
    "merged_df['results'].value_counts()"
   ]
  },
  {
   "cell_type": "markdown",
   "metadata": {},
   "source": [
    "> In most cases, the home team won the game based on our analysis as shown below:"
   ]
  },
  {
   "cell_type": "code",
   "execution_count": 474,
   "metadata": {},
   "outputs": [
    {
     "data": {
      "image/png": "[encoded data removed]",
      "text/plain": [
       "<Figure size 720x360 with 1 Axes>"
      ]
     },
     "metadata": {},
     "output_type": "display_data"
    }
   ],
   "source": [
    "# let's see the value counts for results \n",
    "fig,ax  = plt.subplots(figsize = (10,5))\n",
    "sns.countplot(merged_df['results'])\n",
    "plt.title('Plot of match results', fontsize=20, y = 1.05)\n",
    "plt.xlabel('results', fontsize=15)\n",
    "plt.ylabel('Count', fontsize=15)\n",
    "plt.show()"
   ]
  },
  {
   "cell_type": "code",
   "execution_count": 475,
   "metadata": {},
   "outputs": [
    {
     "data": {
      "text/plain": [
       "Mexico          23\n",
       "Estonia         15\n",
       "Saudi Arabia    15\n",
       "Portugal        15\n",
       "Greece          14\n",
       "                ..\n",
       "Haiti            1\n",
       "Canada           1\n",
       "Indonesia        1\n",
       "Palestine        1\n",
       "Grenada          1\n",
       "Name: home_team, Length: 160, dtype: int64"
      ]
     },
     "execution_count": 475,
     "metadata": {},
     "output_type": "execute_result"
    }
   ],
   "source": [
    "# value counts for home team\n",
    "merged_df['home_team'].value_counts()"
   ]
  },
  {
   "cell_type": "markdown",
   "metadata": {},
   "source": [
    "> Mexico evidently had the highest number of games played by teams as the home team."
   ]
  },
  {
   "cell_type": "code",
   "execution_count": 476,
   "metadata": {},
   "outputs": [
    {
     "data": {
      "text/plain": [
       "Uruguay                     15\n",
       "Argentina                   15\n",
       "Kuwait                      14\n",
       "Israel                      13\n",
       "Bulgaria                    13\n",
       "                            ..\n",
       "Eritrea                      1\n",
       "Tajikistan                   1\n",
       "Turks and Caicos Islands     1\n",
       "Sierra Leone                 1\n",
       "Mongolia                     1\n",
       "Name: away_team, Length: 159, dtype: int64"
      ]
     },
     "execution_count": 476,
     "metadata": {},
     "output_type": "execute_result"
    }
   ],
   "source": [
    "# value counts for away team\n",
    "merged_df['away_team'].value_counts()"
   ]
  },
  {
   "cell_type": "markdown",
   "metadata": {},
   "source": [
    "> Uruguay had the highest number of games played by teams as the away team."
   ]
  },
  {
   "cell_type": "code",
   "execution_count": 477,
   "metadata": {},
   "outputs": [
    {
     "data": {
      "text/plain": [
       "home_score         1.632606\n",
       "away_score         1.004592\n",
       "home_team_rank    65.549943\n",
       "away_team_rank    69.918485\n",
       "dtype: float64"
      ]
     },
     "execution_count": 477,
     "metadata": {},
     "output_type": "execute_result"
    }
   ],
   "source": [
    "# let's get the mean of the numerical columns\n",
    "merged_df.mean()"
   ]
  },
  {
   "cell_type": "code",
   "execution_count": 478,
   "metadata": {},
   "outputs": [
    {
     "data": {
      "text/plain": [
       "home_score         1.0\n",
       "away_score         1.0\n",
       "home_team_rank    58.0\n",
       "away_team_rank    61.0\n",
       "dtype: float64"
      ]
     },
     "execution_count": 478,
     "metadata": {},
     "output_type": "execute_result"
    }
   ],
   "source": [
    "# let's get the median of the numerical columns\n",
    "merged_df.median()"
   ]
  },
  {
   "cell_type": "code",
   "execution_count": 479,
   "metadata": {},
   "outputs": [
    {
     "name": "stdout",
     "output_type": "stream",
     "text": [
      "There are 32 outliers in the dataset.\n",
      "The percentage of outliers in the dataset is 3.67%.\n"
     ]
    }
   ],
   "source": [
    "# let's see the outliers in the merged dataframe\n",
    "check_outliers(merged_df)"
   ]
  },
  {
   "cell_type": "markdown",
   "metadata": {},
   "source": [
    "> Outliers form a small percentage of the dataframe so removing them won't adversly affect our results."
   ]
  },
  {
   "cell_type": "code",
   "execution_count": 480,
   "metadata": {},
   "outputs": [
    {
     "data": {
      "text/plain": [
       "(854, 9)"
      ]
     },
     "execution_count": 480,
     "metadata": {},
     "output_type": "execute_result"
    }
   ],
   "source": [
    "# let's remove the outliers using quantile method\n",
    "Q_1 = merged_df[numerical].quantile(0.10)\n",
    "Q_3 = merged_df[numerical].quantile(0.90)\n",
    "IQR = Q_3 - Q_1\n",
    "\n",
    "# removing the outliers\n",
    "Merged_df = merged_df[~((merged_df[numerical] < (Q_1 - 1.5 * IQR)) | (merged_df[numerical] > (Q_3 + 1.5 * IQR))).any(axis=1)]\n",
    "\n",
    "# let's check the shape after removing the outliers\n",
    "Merged_df.shape"
   ]
  },
  {
   "cell_type": "code",
   "execution_count": 481,
   "metadata": {},
   "outputs": [],
   "source": [
    "# let's create a function to output boxplots of numerical columns\n",
    "def Numerical_boxplot(column, df1, df2):\n",
    "    fig, ax = plt.subplots(2, 2, figsize=(15,12))\n",
    "\n",
    "    # for distribution plots for outliers:\n",
    "    sns.distplot(df1[column], ax=ax[0,0], color='blue', hist=True)\n",
    "    ax[0,0].set_title('Distribution Plot of {}'.format(column), fontsize=15)\n",
    "    ax[0,0].set_xlabel('{}'.format(column), fontsize=15)\n",
    "    ax[0,0].set_ylabel('Count', fontsize=15)\n",
    "\n",
    "    # for boxplots for outliers:\n",
    "    sns.boxplot(y=df1[column], ax=ax[0,1], color='blue')\n",
    "    ax[0,1].set_title('Boxplot of {}'.format(column), fontsize=15)\n",
    "    ax[0,1].set_xlabel('{}'.format(column), fontsize=15)\n",
    "\n",
    "    # for distribution plots for non-outliers:\n",
    "    sns.distplot(df2[column], ax=ax[1,0], color='green', hist=True)\n",
    "    ax[1,0].set_title('Distribution Plot without outliers for {}'.format(column), fontsize=15)\n",
    "    ax[1,0].set_xlabel('{}'.format(column), fontsize=15)\n",
    "    ax[1,0].set_ylabel('Count', fontsize=15)\n",
    "\n",
    "    # for boxplots for non-outliers:\n",
    "    sns.boxplot(y=df2[column], ax=ax[1,1], color='green')\n",
    "    ax[1,1].set_title('Boxplot without outliers for {}'.format(column), fontsize=15)\n",
    "    ax[1,1].set_xlabel('{}'.format(column), fontsize=15)\n",
    "    plt.show()"
   ]
  },
  {
   "cell_type": "code",
   "execution_count": 482,
   "metadata": {},
   "outputs": [
    {
     "data": {
      "text/plain": [
       "['home_score', 'away_score', 'home_team_rank', 'away_team_rank']"
      ]
     },
     "execution_count": 482,
     "metadata": {},
     "output_type": "execute_result"
    }
   ],
   "source": [
    "# let's see our numerical columns\n",
    "numerical"
   ]
  },
  {
   "cell_type": "code",
   "execution_count": 483,
   "metadata": {},
   "outputs": [
    {
     "data": {
      "image/png": "[encoded data removed]",
      "text/plain": [
       "<Figure size 1080x864 with 4 Axes>"
      ]
     },
     "metadata": {},
     "output_type": "display_data"
    }
   ],
   "source": [
    "# let's create a boxplot and distribution of before and after removing outliers for home team \n",
    "Numerical_boxplot(numerical[0], merged_df, Merged_df)"
   ]
  },
  {
   "cell_type": "code",
   "execution_count": 484,
   "metadata": {},
   "outputs": [
    {
     "data": {
      "image/png": "[encoded data removed]",
      "text/plain": [
       "<Figure size 1080x864 with 4 Axes>"
      ]
     },
     "metadata": {},
     "output_type": "display_data"
    }
   ],
   "source": [
    "# let's create a boxplot and distribution of before and after removing outliers for away team\n",
    "Numerical_boxplot(numerical[1], merged_df, Merged_df)"
   ]
  },
  {
   "cell_type": "code",
   "execution_count": 485,
   "metadata": {},
   "outputs": [
    {
     "data": {
      "image/png": "[encoded data removed]",
      "text/plain": [
       "<Figure size 1080x864 with 4 Axes>"
      ]
     },
     "metadata": {},
     "output_type": "display_data"
    }
   ],
   "source": [
    "# below is a boxplot and a distribution plot of home team rank before removing outliers\n",
    "Numerical_boxplot(numerical[2], merged_df, Merged_df)"
   ]
  },
  {
   "cell_type": "code",
   "execution_count": 486,
   "metadata": {},
   "outputs": [
    {
     "data": {
      "image/png": "[encoded data removed]",
      "text/plain": [
       "<Figure size 1080x864 with 4 Axes>"
      ]
     },
     "metadata": {},
     "output_type": "display_data"
    }
   ],
   "source": [
    "# below is a boxplot and a distribution plot of away team rank before removing outliers\n",
    "Numerical_boxplot(numerical[3], merged_df, Merged_df)"
   ]
  },
  {
   "cell_type": "markdown",
   "metadata": {},
   "source": [
    "##### Bivariate Analysis"
   ]
  },
  {
   "cell_type": "code",
   "execution_count": 487,
   "metadata": {},
   "outputs": [],
   "source": [
    "# we will create functions to help in bivariate analysis\n",
    "# categorical categorical columns\n",
    "\n",
    "# i) a function to generate a crosstab\n",
    "def crosstab(x, y, df):\n",
    "    ct = pd.crosstab(df[x], df[y])\n",
    "    ct.plot.bar(stacked=True, figsize=(10,5))\n",
    "    plt.title('Crosstab of {} and {}'.format(x, y), fontsize=15)\n",
    "    plt.xlabel('{}'.format(x), fontsize=15)\n",
    "    plt.ylabel('Count', fontsize=15)\n",
    "    plt.show()\n",
    "\n",
    "# ii) a function to generate a countplot\n",
    "def countplot(x, df):\n",
    "    fig, ax = plt.subplots(figsize=(10,5))\n",
    "    sns.countplot(df[x])\n",
    "    plt.title('Countplot of {}'.format(x), fontsize=15)\n",
    "    plt.xlabel('{}'.format(x), fontsize=15)\n",
    "    plt.ylabel('Count', fontsize=15)\n",
    "    plt.show()\n",
    "\n",
    "# numerical numerical columns\n",
    "\n",
    "# i) a function to generate a line scatter plot\n",
    "def line_scatter(x, y, df):\n",
    "    fig, ax = plt.subplots(figsize=(10,5))\n",
    "    sns.regplot(x=x, y=y, data=df, ax=ax)\n",
    "    plt.title('Line Scatter Plot of {} and {}'.format(x, y), fontsize=15)\n",
    "    plt.xlabel('{}'.format(x), fontsize=15)\n",
    "    plt.ylabel('{}'.format(y), fontsize=15)\n",
    "    plt.show()\n",
    "\n",
    "# ii) a function to generate a heatmap\n",
    "def heatmap(x, y, df):\n",
    "    fig, ax = plt.subplots(figsize=(10,5))\n",
    "    sns.heatmap(df.corr(), annot=True, ax=ax)\n",
    "    plt.title('Heatmap of {} and {}'.format(x, y), fontsize=15)\n",
    "    plt.xlabel('{}'.format(x), fontsize=15)\n",
    "    plt.ylabel('{}'.format(y), fontsize=15)\n",
    "    plt.show()\n",
    "\n",
    "# pearson correlation\n",
    "def corr(x, y, df):\n",
    "    print('Pearson correlation of {} and {} is {}'.format(x, y, df[x].corr(df[y])))"
   ]
  },
  {
   "cell_type": "code",
   "execution_count": 488,
   "metadata": {},
   "outputs": [
    {
     "data": {
      "text/plain": [
       "['home_score', 'away_score', 'home_team_rank', 'away_team_rank']"
      ]
     },
     "execution_count": 488,
     "metadata": {},
     "output_type": "execute_result"
    }
   ],
   "source": [
    "# let's see our numerical columns\n",
    "numerical"
   ]
  },
  {
   "cell_type": "code",
   "execution_count": 489,
   "metadata": {},
   "outputs": [
    {
     "data": {
      "image/png": "[encoded data removed]",
      "text/plain": [
       "<Figure size 720x360 with 1 Axes>"
      ]
     },
     "metadata": {},
     "output_type": "display_data"
    }
   ],
   "source": [
    "# let's create a line scatter plot for home team vs rank\n",
    "line_scatter(numerical[0], numerical[2], Merged_df)"
   ]
  },
  {
   "cell_type": "code",
   "execution_count": 490,
   "metadata": {},
   "outputs": [
    {
     "data": {
      "image/png": "[encoded data removed]",
      "text/plain": [
       "<Figure size 720x360 with 1 Axes>"
      ]
     },
     "metadata": {},
     "output_type": "display_data"
    }
   ],
   "source": [
    "# let's create a line scatter plot for away team vs rank\n",
    "line_scatter(numerical[1], numerical[3], Merged_df)"
   ]
  },
  {
   "cell_type": "code",
   "execution_count": 491,
   "metadata": {},
   "outputs": [
    {
     "name": "stdout",
     "output_type": "stream",
     "text": [
      "Pearson correlation of home_score and home_team_rank is -0.08813422585625434\n"
     ]
    }
   ],
   "source": [
    "# let's see the pearson correlation \n",
    "corr(numerical[0], numerical[2], Merged_df)"
   ]
  },
  {
   "cell_type": "markdown",
   "metadata": {},
   "source": [
    "> The correlation between the home and away team's goals scored is a very weak and negative correlation."
   ]
  },
  {
   "cell_type": "code",
   "execution_count": 492,
   "metadata": {},
   "outputs": [
    {
     "name": "stdout",
     "output_type": "stream",
     "text": [
      "Pearson correlation of away_score and away_team_rank is -0.18334471105556022\n"
     ]
    }
   ],
   "source": [
    "# let's see the pearson correlation\n",
    "corr(numerical[1], numerical[3], Merged_df)"
   ]
  },
  {
   "cell_type": "markdown",
   "metadata": {},
   "source": [
    "> The correlation between the home and away team's goals conceded is a very weak and negative correlation."
   ]
  },
  {
   "cell_type": "code",
   "execution_count": 493,
   "metadata": {},
   "outputs": [
    {
     "name": "stdout",
     "output_type": "stream",
     "text": [
      "Pearson correlation of home_score and away_team_rank is 0.27211957504456985\n"
     ]
    }
   ],
   "source": [
    "# pearsons correlation for home team score vs away team rank\n",
    "corr(numerical[0], numerical[3], Merged_df)"
   ]
  },
  {
   "cell_type": "markdown",
   "metadata": {},
   "source": [
    "> The correlation between the home and away team's goals conceded is a very weak and positive correlation."
   ]
  },
  {
   "cell_type": "code",
   "execution_count": 494,
   "metadata": {},
   "outputs": [
    {
     "name": "stdout",
     "output_type": "stream",
     "text": [
      "Pearson correlation of away_score and home_team_rank is 0.0859150604781305\n"
     ]
    }
   ],
   "source": [
    "# pearsons correlation for away team score vs home team rank\n",
    "corr(numerical[1], numerical[2], Merged_df)"
   ]
  },
  {
   "cell_type": "markdown",
   "metadata": {},
   "source": [
    "> The correlation between the home and away team's goals conceded is a very strong and positive correlation."
   ]
  },
  {
   "cell_type": "markdown",
   "metadata": {},
   "source": [
    "##### Encoding the Data"
   ]
  },
  {
   "cell_type": "markdown",
   "metadata": {},
   "source": [
    "##### We will convert the categorical variables to dummy variables using dict vectorizer"
   ]
  },
  {
   "cell_type": "code",
   "execution_count": 495,
   "metadata": {},
   "outputs": [
    {
     "name": "stdout",
     "output_type": "stream",
     "text": [
      "date : 156\n",
      "home_team : 156\n",
      "away_team : 156\n",
      "tournament : 38\n",
      "results : 3\n"
     ]
    }
   ],
   "source": [
    "# let's check the unique categories in categorical column using a for loop\n",
    "categorical\n",
    "\n",
    "# let's remove date\n",
    "#categorical.remove('date')\n",
    "\n",
    "# preview\n",
    "categorical\n",
    "\n",
    "# let's check the unique categories in categorical column using a for loop\n",
    "\n",
    "for i in categorical:\n",
    "    print(f'{i} : {len(Merged_df[i].unique())}')"
   ]
  },
  {
   "cell_type": "code",
   "execution_count": 496,
   "metadata": {},
   "outputs": [
    {
     "data": {
      "text/plain": [
       "date              datetime64[ns]\n",
       "home_team                 object\n",
       "away_team                 object\n",
       "home_score                 int64\n",
       "away_score                 int64\n",
       "tournament                object\n",
       "home_team_rank             int64\n",
       "away_team_rank             int64\n",
       "results                   object\n",
       "dtype: object"
      ]
     },
     "execution_count": 496,
     "metadata": {},
     "output_type": "execute_result"
    }
   ],
   "source": [
    "# let's convert date column to datetime\n",
    "Merged_df['date'] = pd.to_datetime(Merged_df['date'])\n",
    "Merged_df.dtypes"
   ]
  },
  {
   "cell_type": "code",
   "execution_count": 497,
   "metadata": {},
   "outputs": [
    {
     "data": {
      "text/html": [
       "<div>\n",
       "<style scoped>\n",
       "    .dataframe tbody tr th:only-of-type {\n",
       "        vertical-align: middle;\n",
       "    }\n",
       "\n",
       "    .dataframe tbody tr th {\n",
       "        vertical-align: top;\n",
       "    }\n",
       "\n",
       "    .dataframe thead th {\n",
       "        text-align: right;\n",
       "    }\n",
       "</style>\n",
       "<table border=\"1\" class=\"dataframe\">\n",
       "  <thead>\n",
       "    <tr style=\"text-align: right;\">\n",
       "      <th></th>\n",
       "      <th>home_team</th>\n",
       "      <th>away_team</th>\n",
       "      <th>home_score</th>\n",
       "      <th>away_score</th>\n",
       "      <th>tournament</th>\n",
       "      <th>home_team_rank</th>\n",
       "      <th>away_team_rank</th>\n",
       "      <th>results</th>\n",
       "      <th>year</th>\n",
       "      <th>month</th>\n",
       "      <th>day</th>\n",
       "    </tr>\n",
       "  </thead>\n",
       "  <tbody>\n",
       "    <tr>\n",
       "      <th>0</th>\n",
       "      <td>Bolivia</td>\n",
       "      <td>Uruguay</td>\n",
       "      <td>3</td>\n",
       "      <td>1</td>\n",
       "      <td>FIFA World Cup qualification</td>\n",
       "      <td>59</td>\n",
       "      <td>22</td>\n",
       "      <td>W</td>\n",
       "      <td>1993</td>\n",
       "      <td>8</td>\n",
       "      <td>8</td>\n",
       "    </tr>\n",
       "    <tr>\n",
       "      <th>1</th>\n",
       "      <td>Brazil</td>\n",
       "      <td>Mexico</td>\n",
       "      <td>1</td>\n",
       "      <td>1</td>\n",
       "      <td>Friendly</td>\n",
       "      <td>8</td>\n",
       "      <td>14</td>\n",
       "      <td>D</td>\n",
       "      <td>1993</td>\n",
       "      <td>8</td>\n",
       "      <td>8</td>\n",
       "    </tr>\n",
       "    <tr>\n",
       "      <th>2</th>\n",
       "      <td>Ecuador</td>\n",
       "      <td>Venezuela</td>\n",
       "      <td>5</td>\n",
       "      <td>0</td>\n",
       "      <td>FIFA World Cup qualification</td>\n",
       "      <td>35</td>\n",
       "      <td>94</td>\n",
       "      <td>W</td>\n",
       "      <td>1993</td>\n",
       "      <td>8</td>\n",
       "      <td>8</td>\n",
       "    </tr>\n",
       "    <tr>\n",
       "      <th>3</th>\n",
       "      <td>Guinea</td>\n",
       "      <td>Sierra Leone</td>\n",
       "      <td>1</td>\n",
       "      <td>0</td>\n",
       "      <td>Friendly</td>\n",
       "      <td>65</td>\n",
       "      <td>86</td>\n",
       "      <td>W</td>\n",
       "      <td>1993</td>\n",
       "      <td>8</td>\n",
       "      <td>8</td>\n",
       "    </tr>\n",
       "    <tr>\n",
       "      <th>4</th>\n",
       "      <td>Paraguay</td>\n",
       "      <td>Argentina</td>\n",
       "      <td>1</td>\n",
       "      <td>3</td>\n",
       "      <td>FIFA World Cup qualification</td>\n",
       "      <td>67</td>\n",
       "      <td>5</td>\n",
       "      <td>L</td>\n",
       "      <td>1993</td>\n",
       "      <td>8</td>\n",
       "      <td>8</td>\n",
       "    </tr>\n",
       "    <tr>\n",
       "      <th>...</th>\n",
       "      <td>...</td>\n",
       "      <td>...</td>\n",
       "      <td>...</td>\n",
       "      <td>...</td>\n",
       "      <td>...</td>\n",
       "      <td>...</td>\n",
       "      <td>...</td>\n",
       "      <td>...</td>\n",
       "      <td>...</td>\n",
       "      <td>...</td>\n",
       "      <td>...</td>\n",
       "    </tr>\n",
       "    <tr>\n",
       "      <th>866</th>\n",
       "      <td>England</td>\n",
       "      <td>Costa Rica</td>\n",
       "      <td>2</td>\n",
       "      <td>0</td>\n",
       "      <td>Friendly</td>\n",
       "      <td>12</td>\n",
       "      <td>23</td>\n",
       "      <td>W</td>\n",
       "      <td>2018</td>\n",
       "      <td>6</td>\n",
       "      <td>7</td>\n",
       "    </tr>\n",
       "    <tr>\n",
       "      <th>867</th>\n",
       "      <td>Uruguay</td>\n",
       "      <td>Uzbekistan</td>\n",
       "      <td>3</td>\n",
       "      <td>0</td>\n",
       "      <td>Friendly</td>\n",
       "      <td>14</td>\n",
       "      <td>95</td>\n",
       "      <td>W</td>\n",
       "      <td>2018</td>\n",
       "      <td>6</td>\n",
       "      <td>7</td>\n",
       "    </tr>\n",
       "    <tr>\n",
       "      <th>868</th>\n",
       "      <td>Portugal</td>\n",
       "      <td>Algeria</td>\n",
       "      <td>3</td>\n",
       "      <td>0</td>\n",
       "      <td>Friendly</td>\n",
       "      <td>4</td>\n",
       "      <td>66</td>\n",
       "      <td>W</td>\n",
       "      <td>2018</td>\n",
       "      <td>6</td>\n",
       "      <td>7</td>\n",
       "    </tr>\n",
       "    <tr>\n",
       "      <th>869</th>\n",
       "      <td>Iceland</td>\n",
       "      <td>Ghana</td>\n",
       "      <td>2</td>\n",
       "      <td>2</td>\n",
       "      <td>Friendly</td>\n",
       "      <td>22</td>\n",
       "      <td>47</td>\n",
       "      <td>D</td>\n",
       "      <td>2018</td>\n",
       "      <td>6</td>\n",
       "      <td>7</td>\n",
       "    </tr>\n",
       "    <tr>\n",
       "      <th>870</th>\n",
       "      <td>India</td>\n",
       "      <td>New Zealand</td>\n",
       "      <td>1</td>\n",
       "      <td>2</td>\n",
       "      <td>Intercontinental Cup</td>\n",
       "      <td>97</td>\n",
       "      <td>120</td>\n",
       "      <td>L</td>\n",
       "      <td>2018</td>\n",
       "      <td>6</td>\n",
       "      <td>7</td>\n",
       "    </tr>\n",
       "  </tbody>\n",
       "</table>\n",
       "<p>854 rows × 11 columns</p>\n",
       "</div>"
      ],
      "text/plain": [
       "    home_team     away_team  home_score  away_score  \\\n",
       "0     Bolivia       Uruguay           3           1   \n",
       "1      Brazil        Mexico           1           1   \n",
       "2     Ecuador     Venezuela           5           0   \n",
       "3      Guinea  Sierra Leone           1           0   \n",
       "4    Paraguay     Argentina           1           3   \n",
       "..        ...           ...         ...         ...   \n",
       "866   England    Costa Rica           2           0   \n",
       "867   Uruguay    Uzbekistan           3           0   \n",
       "868  Portugal       Algeria           3           0   \n",
       "869   Iceland         Ghana           2           2   \n",
       "870     India   New Zealand           1           2   \n",
       "\n",
       "                       tournament  home_team_rank  away_team_rank results  \\\n",
       "0    FIFA World Cup qualification              59              22       W   \n",
       "1                        Friendly               8              14       D   \n",
       "2    FIFA World Cup qualification              35              94       W   \n",
       "3                        Friendly              65              86       W   \n",
       "4    FIFA World Cup qualification              67               5       L   \n",
       "..                            ...             ...             ...     ...   \n",
       "866                      Friendly              12              23       W   \n",
       "867                      Friendly              14              95       W   \n",
       "868                      Friendly               4              66       W   \n",
       "869                      Friendly              22              47       D   \n",
       "870          Intercontinental Cup              97             120       L   \n",
       "\n",
       "     year  month  day  \n",
       "0    1993      8    8  \n",
       "1    1993      8    8  \n",
       "2    1993      8    8  \n",
       "3    1993      8    8  \n",
       "4    1993      8    8  \n",
       "..    ...    ...  ...  \n",
       "866  2018      6    7  \n",
       "867  2018      6    7  \n",
       "868  2018      6    7  \n",
       "869  2018      6    7  \n",
       "870  2018      6    7  \n",
       "\n",
       "[854 rows x 11 columns]"
      ]
     },
     "execution_count": 497,
     "metadata": {},
     "output_type": "execute_result"
    }
   ],
   "source": [
    "# let's set a copy of the merged dataframe and split the date column into year, month and day and use year\n",
    "\n",
    "merged_copy = Merged_df.copy()\n",
    "\n",
    "\n",
    "# let's split the date column into year, month and day\n",
    "merged_copy['year'] = merged_copy.date.dt.year\n",
    "merged_copy['month'] = merged_copy.date.dt.month\n",
    "merged_copy['day'] = merged_copy.date.dt.day\n",
    "\n",
    "# preview the changes\n",
    "merged_copy.head()\n",
    "\n",
    "# let's drop the date column\n",
    "merged_copy.drop('date', axis=1, inplace=True)\n",
    "merged_copy"
   ]
  },
  {
   "cell_type": "markdown",
   "metadata": {},
   "source": [
    "#### Multicollinearity"
   ]
  },
  {
   "cell_type": "code",
   "execution_count": 498,
   "metadata": {},
   "outputs": [
    {
     "data": {
      "text/html": [
       "<div>\n",
       "<style scoped>\n",
       "    .dataframe tbody tr th:only-of-type {\n",
       "        vertical-align: middle;\n",
       "    }\n",
       "\n",
       "    .dataframe tbody tr th {\n",
       "        vertical-align: top;\n",
       "    }\n",
       "\n",
       "    .dataframe thead th {\n",
       "        text-align: right;\n",
       "    }\n",
       "</style>\n",
       "<table border=\"1\" class=\"dataframe\">\n",
       "  <thead>\n",
       "    <tr style=\"text-align: right;\">\n",
       "      <th></th>\n",
       "      <th>home_score</th>\n",
       "      <th>away_score</th>\n",
       "      <th>home_team_rank</th>\n",
       "      <th>away_team_rank</th>\n",
       "      <th>year</th>\n",
       "      <th>month</th>\n",
       "      <th>day</th>\n",
       "    </tr>\n",
       "  </thead>\n",
       "  <tbody>\n",
       "    <tr>\n",
       "      <th>home_score</th>\n",
       "      <td>1.187413</td>\n",
       "      <td>-0.006158</td>\n",
       "      <td>0.383345</td>\n",
       "      <td>-0.554213</td>\n",
       "      <td>0.109893</td>\n",
       "      <td>0.027673</td>\n",
       "      <td>0.028028</td>\n",
       "    </tr>\n",
       "    <tr>\n",
       "      <th>away_score</th>\n",
       "      <td>-0.006158</td>\n",
       "      <td>1.089102</td>\n",
       "      <td>-0.285010</td>\n",
       "      <td>0.348138</td>\n",
       "      <td>0.025506</td>\n",
       "      <td>0.010509</td>\n",
       "      <td>0.003187</td>\n",
       "    </tr>\n",
       "    <tr>\n",
       "      <th>home_team_rank</th>\n",
       "      <td>0.383345</td>\n",
       "      <td>-0.285010</td>\n",
       "      <td>1.627707</td>\n",
       "      <td>-1.007967</td>\n",
       "      <td>-0.119714</td>\n",
       "      <td>0.111992</td>\n",
       "      <td>-0.098898</td>\n",
       "    </tr>\n",
       "    <tr>\n",
       "      <th>away_team_rank</th>\n",
       "      <td>-0.554213</td>\n",
       "      <td>0.348138</td>\n",
       "      <td>-1.007967</td>\n",
       "      <td>1.828005</td>\n",
       "      <td>-0.245235</td>\n",
       "      <td>-0.052028</td>\n",
       "      <td>0.061313</td>\n",
       "    </tr>\n",
       "    <tr>\n",
       "      <th>year</th>\n",
       "      <td>0.109893</td>\n",
       "      <td>0.025506</td>\n",
       "      <td>-0.119714</td>\n",
       "      <td>-0.245235</td>\n",
       "      <td>1.421611</td>\n",
       "      <td>-0.000766</td>\n",
       "      <td>0.661629</td>\n",
       "    </tr>\n",
       "    <tr>\n",
       "      <th>month</th>\n",
       "      <td>0.027673</td>\n",
       "      <td>0.010509</td>\n",
       "      <td>0.111992</td>\n",
       "      <td>-0.052028</td>\n",
       "      <td>-0.000766</td>\n",
       "      <td>1.026999</td>\n",
       "      <td>-0.137946</td>\n",
       "    </tr>\n",
       "    <tr>\n",
       "      <th>day</th>\n",
       "      <td>0.028028</td>\n",
       "      <td>0.003187</td>\n",
       "      <td>-0.098898</td>\n",
       "      <td>0.061313</td>\n",
       "      <td>0.661629</td>\n",
       "      <td>-0.137946</td>\n",
       "      <td>1.348942</td>\n",
       "    </tr>\n",
       "  </tbody>\n",
       "</table>\n",
       "</div>"
      ],
      "text/plain": [
       "                home_score  away_score  home_team_rank  away_team_rank  \\\n",
       "home_score        1.187413   -0.006158        0.383345       -0.554213   \n",
       "away_score       -0.006158    1.089102       -0.285010        0.348138   \n",
       "home_team_rank    0.383345   -0.285010        1.627707       -1.007967   \n",
       "away_team_rank   -0.554213    0.348138       -1.007967        1.828005   \n",
       "year              0.109893    0.025506       -0.119714       -0.245235   \n",
       "month             0.027673    0.010509        0.111992       -0.052028   \n",
       "day               0.028028    0.003187       -0.098898        0.061313   \n",
       "\n",
       "                    year     month       day  \n",
       "home_score      0.109893  0.027673  0.028028  \n",
       "away_score      0.025506  0.010509  0.003187  \n",
       "home_team_rank -0.119714  0.111992 -0.098898  \n",
       "away_team_rank -0.245235 -0.052028  0.061313  \n",
       "year            1.421611 -0.000766  0.661629  \n",
       "month          -0.000766  1.026999 -0.137946  \n",
       "day             0.661629 -0.137946  1.348942  "
      ]
     },
     "execution_count": 498,
     "metadata": {},
     "output_type": "execute_result"
    }
   ],
   "source": [
    "# let's get the VIF for each numerical column\n",
    "correlation = merged_copy.corr()\n",
    "  \n",
    "inverse_correlation = pd.DataFrame(np.linalg.inv(correlation.values), index = correlation.index, columns=correlation.columns)\n",
    "\n",
    "inverse_correlation"
   ]
  },
  {
   "cell_type": "markdown",
   "metadata": {},
   "source": [
    "> There is no VIF greater than 5. This is a good indicator that the data is not multicollinear."
   ]
  },
  {
   "cell_type": "markdown",
   "metadata": {},
   "source": [
    "#### Model Building"
   ]
  },
  {
   "cell_type": "code",
   "execution_count": 499,
   "metadata": {},
   "outputs": [
    {
     "name": "stdout",
     "output_type": "stream",
     "text": [
      "home_team : 156\n",
      "away_team : 156\n",
      "tournament : 38\n",
      "results : 3\n",
      "==================================================\n"
     ]
    },
    {
     "data": {
      "text/plain": [
       "['home_score',\n",
       " 'away_score',\n",
       " 'home_team_rank',\n",
       " 'away_team_rank',\n",
       " 'year',\n",
       " 'month',\n",
       " 'day']"
      ]
     },
     "execution_count": 499,
     "metadata": {},
     "output_type": "execute_result"
    }
   ],
   "source": [
    "# let's select categorical columns in the dataframe\n",
    "categorical_df = list(merged_copy.select_dtypes(include=['object']).columns)\n",
    "\n",
    "# let's see the unique values in each categorical column\n",
    "for i in categorical_df:\n",
    "    print(f'{i} : {len(merged_copy[i].unique())}')\n",
    "\n",
    "print('==================================================')\n",
    "\n",
    "# let's select numerical columns in the dataframe\n",
    "numerical_df = list(merged_copy.select_dtypes(include=['float64', 'int64']).columns)\n",
    "numerical_df"
   ]
  },
  {
   "cell_type": "code",
   "execution_count": 500,
   "metadata": {},
   "outputs": [
    {
     "data": {
      "text/html": [
       "<div>\n",
       "<style scoped>\n",
       "    .dataframe tbody tr th:only-of-type {\n",
       "        vertical-align: middle;\n",
       "    }\n",
       "\n",
       "    .dataframe tbody tr th {\n",
       "        vertical-align: top;\n",
       "    }\n",
       "\n",
       "    .dataframe thead th {\n",
       "        text-align: right;\n",
       "    }\n",
       "</style>\n",
       "<table border=\"1\" class=\"dataframe\">\n",
       "  <thead>\n",
       "    <tr style=\"text-align: right;\">\n",
       "      <th></th>\n",
       "      <th>home_team</th>\n",
       "      <th>away_team</th>\n",
       "      <th>home_score</th>\n",
       "      <th>away_score</th>\n",
       "      <th>tournament</th>\n",
       "      <th>home_team_rank</th>\n",
       "      <th>away_team_rank</th>\n",
       "      <th>results</th>\n",
       "      <th>year</th>\n",
       "      <th>month</th>\n",
       "      <th>day</th>\n",
       "    </tr>\n",
       "  </thead>\n",
       "  <tbody>\n",
       "    <tr>\n",
       "      <th>0</th>\n",
       "      <td>19</td>\n",
       "      <td>147</td>\n",
       "      <td>3</td>\n",
       "      <td>1</td>\n",
       "      <td>16</td>\n",
       "      <td>59</td>\n",
       "      <td>22</td>\n",
       "      <td>2</td>\n",
       "      <td>1993</td>\n",
       "      <td>8</td>\n",
       "      <td>8</td>\n",
       "    </tr>\n",
       "    <tr>\n",
       "      <th>1</th>\n",
       "      <td>22</td>\n",
       "      <td>88</td>\n",
       "      <td>1</td>\n",
       "      <td>1</td>\n",
       "      <td>17</td>\n",
       "      <td>8</td>\n",
       "      <td>14</td>\n",
       "      <td>0</td>\n",
       "      <td>1993</td>\n",
       "      <td>8</td>\n",
       "      <td>8</td>\n",
       "    </tr>\n",
       "    <tr>\n",
       "      <th>2</th>\n",
       "      <td>39</td>\n",
       "      <td>150</td>\n",
       "      <td>5</td>\n",
       "      <td>0</td>\n",
       "      <td>16</td>\n",
       "      <td>35</td>\n",
       "      <td>94</td>\n",
       "      <td>2</td>\n",
       "      <td>1993</td>\n",
       "      <td>8</td>\n",
       "      <td>8</td>\n",
       "    </tr>\n",
       "    <tr>\n",
       "      <th>3</th>\n",
       "      <td>58</td>\n",
       "      <td>122</td>\n",
       "      <td>1</td>\n",
       "      <td>0</td>\n",
       "      <td>17</td>\n",
       "      <td>65</td>\n",
       "      <td>86</td>\n",
       "      <td>2</td>\n",
       "      <td>1993</td>\n",
       "      <td>8</td>\n",
       "      <td>8</td>\n",
       "    </tr>\n",
       "    <tr>\n",
       "      <th>4</th>\n",
       "      <td>108</td>\n",
       "      <td>6</td>\n",
       "      <td>1</td>\n",
       "      <td>3</td>\n",
       "      <td>16</td>\n",
       "      <td>67</td>\n",
       "      <td>5</td>\n",
       "      <td>1</td>\n",
       "      <td>1993</td>\n",
       "      <td>8</td>\n",
       "      <td>8</td>\n",
       "    </tr>\n",
       "  </tbody>\n",
       "</table>\n",
       "</div>"
      ],
      "text/plain": [
       "   home_team  away_team  home_score  away_score  tournament  home_team_rank  \\\n",
       "0         19        147           3           1          16              59   \n",
       "1         22         88           1           1          17               8   \n",
       "2         39        150           5           0          16              35   \n",
       "3         58        122           1           0          17              65   \n",
       "4        108          6           1           3          16              67   \n",
       "\n",
       "   away_team_rank  results  year  month  day  \n",
       "0              22        2  1993      8    8  \n",
       "1              14        0  1993      8    8  \n",
       "2              94        2  1993      8    8  \n",
       "3              86        2  1993      8    8  \n",
       "4               5        1  1993      8    8  "
      ]
     },
     "execution_count": 500,
     "metadata": {},
     "output_type": "execute_result"
    }
   ],
   "source": [
    "# let's apply label encoding to categorical columns\n",
    "merged_copy[categorical_df] = merged_copy[categorical_df].apply(LabelEncoder().fit_transform)\n",
    "merged_copy.head()"
   ]
  },
  {
   "cell_type": "markdown",
   "metadata": {},
   "source": [
    "##### Polynomial Regression"
   ]
  },
  {
   "cell_type": "code",
   "execution_count": 501,
   "metadata": {},
   "outputs": [],
   "source": [
    "# let's first create functions to help compute rmse\n",
    "def Lda(degree, X_train, X_test, y_train, y_test, components = None):\n",
    "  sc = StandardScaler()\n",
    "  X_train = sc.fit_transform(X_train)\n",
    "  X_test = sc.transform(X_test)\n",
    "  lda = LDA(n_components= components)\n",
    "  X_train = lda.fit_transform(X_train, y_train)\n",
    "  X_test = lda.transform(X_test)\n",
    "  print(f'RMSE: {Polynomial(degree, X_train, X_test, y_train, y_test)}')\n",
    "\n",
    "\n",
    "\n",
    "def Lda_noscale(degree, X_train, X_test, y_train, y_test, components = None):\n",
    "  lda = LDA(n_components= components)\n",
    "  X_train = lda.fit_transform(X_train, y_train)\n",
    "  X_test = lda.transform(X_test)\n",
    "  print(f'RMSE: {Polynomial(degree, X_train, X_test, y_train, y_test)}')"
   ]
  },
  {
   "cell_type": "code",
   "execution_count": 502,
   "metadata": {},
   "outputs": [],
   "source": [
    "def Residuals_Heteroskedasticity_LDA(degree, X_train, X_test, y_train, y_test, components = None):\n",
    "  # LDA\n",
    "  sc = StandardScaler()\n",
    "  X_train = sc.fit_transform(X_train)\n",
    "  X_test = sc.transform(X_test)\n",
    "  lda = LDA(n_components= components)\n",
    "  X_train = lda.fit_transform(X_train, y_train)\n",
    "  X_test = lda.transform(X_test)\n",
    "  # Polynomial regression\n",
    "  polynomial = PolynomialFeatures(degree = degree)\n",
    "  X_train_poly = polynomial.fit_transform(X_train)\n",
    "  X_test_poly =  polynomial.transform(X_test)\n",
    "  # Regression\n",
    "  poly_reg = LinearRegression()\n",
    "  poly_reg.fit(X_train_poly, y_train)\n",
    "  # Predictions\n",
    "  y_pred_poly = poly_reg.predict(X_test_poly)\n",
    "  # Obtaining ID arrays\n",
    "  ypred = y_pred_poly.flatten()\n",
    "  ytest = y_test.flatten()\n",
    "  # Residuals\n",
    "  residuals = np.subtract(ypred, ytest)\n",
    "  print('Residuals Description')\n",
    "  print(pd.DataFrame(residuals).describe())\n",
    "  mean = residuals.mean()\n",
    "  print(f'\\nResiduals mean: {mean}')\n",
    "  \n",
    "  # Residual plot\n",
    "  plt.scatter(ypred, residuals, color='black')\n",
    "  plt.ylabel('Residuals')\n",
    "  plt.xlabel('Fitted Values')\n",
    "  plt.axhline(y= mean, color='red', linewidth=1)\n",
    "  plt.show()\n",
    "\n",
    "  # Bartlett's test\n",
    "  test_statistic, p_value = bartlett(ypred, residuals)\n",
    "  print(f'\\nP_Vlaue = {p_value}')\n",
    "  print(f'test_statistic = {test_statistic}')\n",
    "\n",
    "  # Degrees of freedom\n",
    "  df = len(ypred - 1)\n",
    "  probability = 1 - p_value\n",
    "  # Critical value\n",
    "  critical_value = chi2.ppf(probability, df)\n",
    "  print(f'Critical Value: {critical_value}')\n",
    "  if (p_value < 0.05) and (test_statistic > critical_value ):\n",
    "    print('Variances are unequal')\n",
    "  else:\n",
    "    print('Variances are equal')"
   ]
  },
  {
   "cell_type": "code",
   "execution_count": 503,
   "metadata": {},
   "outputs": [],
   "source": [
    "def Residuals_Heteroskedasticity(degree, X_train, X_test, y_train, y_test, components = None):\n",
    "  # Scaling\n",
    "  sc = StandardScaler()\n",
    "  X_train = sc.fit_transform(X_train)\n",
    "  X_test = sc.transform(X_test)\n",
    "  # Polynomial regression\n",
    "  polynomial = PolynomialFeatures(degree = degree)\n",
    "  X_train_poly = polynomial.fit_transform(X_train)\n",
    "  X_test_poly =  polynomial.transform(X_test)\n",
    "  # Regression\n",
    "  poly_reg = LinearRegression()\n",
    "  poly_reg.fit(X_train_poly, y_train)\n",
    "  # Predictions\n",
    "  y_pred_poly = poly_reg.predict(X_test_poly)\n",
    "  # Obtaining ID arrays\n",
    "  ypred = y_pred_poly.flatten()\n",
    "  ytest = y_test.flatten()\n",
    "  # Residuals\n",
    "  residuals = np.subtract(ypred, ytest)\n",
    "  print('Residuals Description')\n",
    "  print(pd.DataFrame(residuals).describe())\n",
    "  mean = residuals.mean()\n",
    "  print(f'\\nResiduals mean: {mean}')\n",
    "  \n",
    "  # Residual plot\n",
    "  plt.scatter(ypred, residuals, color='black')\n",
    "  plt.ylabel('Residuals')\n",
    "  plt.xlabel('Fitted Values')\n",
    "  plt.axhline(y= mean, color='red', linewidth=1)\n",
    "  plt.show()\n",
    "\n",
    "  # Bartlett's test\n",
    "  test_statistic, p_value = bartlett(ypred, residuals)\n",
    "  print(f'\\nP_Vlaue = {p_value}')\n",
    "  print(f'test_statistic = {test_statistic}')\n",
    "\n",
    "  # Degrees of freedom\n",
    "  df = len(ypred - 1)\n",
    "  probability = 1 - p_value\n",
    "  # Critical value\n",
    "  critical_value = chi2.ppf(probability, df)\n",
    "  print(f'Critical Value: {critical_value}')\n",
    "  if (p_value < 0.05) and (test_statistic > critical_value ):\n",
    "    print('Variances are unequal')\n",
    "  else:\n",
    "    print('Variances are equal')"
   ]
  },
  {
   "cell_type": "code",
   "execution_count": 504,
   "metadata": {},
   "outputs": [],
   "source": [
    "def Polynomial(degrees, X_train, X_test, y_train, y_test):\n",
    "  # Polynomial regression\n",
    "  polynomial = PolynomialFeatures(degree = degrees)\n",
    "  X_train_poly = polynomial.fit_transform(X_train)\n",
    "  X_test_poly =  polynomial.transform(X_test)\n",
    "  # Regression\n",
    "  poly_reg = LinearRegression()\n",
    "  poly_reg.fit(X_train_poly, y_train)\n",
    "  # Predictions\n",
    "  y_pred_poly = poly_reg.predict(X_test_poly)\n",
    "  # Model accuracy\n",
    "  rmse_poly = mean_squared_error(y_test, y_pred_poly , squared = False)\n",
    "  return rmse_poly"
   ]
  },
  {
   "cell_type": "code",
   "execution_count": 505,
   "metadata": {},
   "outputs": [],
   "source": [
    "def LogisticReg_LDA(X_train, X_test, y_train, y_test, components = None):\n",
    "  # Scaling\n",
    "  sc = StandardScaler()\n",
    "  X_train = sc.fit_transform(X_train)\n",
    "  X_test = sc.transform(X_test)\n",
    "  # Dimensionality reduction  \n",
    "  lda = LDA(n_components= components)\n",
    "  X_train = lda.fit_transform(X_train, y_train)\n",
    "  X_test = lda.transform(X_test)\n",
    "  # Model fitting\n",
    "  log_reg = LogisticRegression(multi_class='auto', solver='lbfgs')\n",
    "  log_reg.fit(X_train, y_train)\n",
    "  # Prediction\n",
    "  y_pred = log_reg.predict(X_test)\n",
    "  # Evaluation\n",
    "  score = accuracy_score(y_test, y_pred)\n",
    "  report = classification_report(y_test, y_pred)\n",
    "  print(f'Accuracy score: {score}')\n",
    "  print('\\nClassification Report')\n",
    "  print(report)\n",
    "  confusion= confusion_matrix(y_test, y_pred)\n",
    "  print('\\nConfusion Matrix')\n",
    "  print(confusion)\n",
    "\n",
    "def LogisticReg(X_train, X_test, y_train, y_test):\n",
    "  # Scaling\n",
    "  sc = StandardScaler()\n",
    "  X_train = sc.fit_transform(X_train)\n",
    "  X_test = sc.transform(X_test)\n",
    "  # Model fitting\n",
    "  log_reg = LogisticRegression(multi_class='auto', solver='lbfgs')\n",
    "  log_reg.fit(X_train, y_train)\n",
    "  # Prediction\n",
    "  y_pred = log_reg.predict(X_test)\n",
    "  # Evaluation\n",
    "  score = accuracy_score(y_test, y_pred)\n",
    "  report = classification_report(y_test, y_pred)\n",
    "  print(f'Accuracy score: {score}')\n",
    "  print('\\nClassification Report')\n",
    "  confusion= confusion_matrix(y_test, y_pred)\n",
    "  print('\\nConfusion Matrix')\n",
    "  print(confusion)"
   ]
  },
  {
   "cell_type": "code",
   "execution_count": 506,
   "metadata": {},
   "outputs": [
    {
     "data": {
      "text/html": [
       "<div>\n",
       "<style scoped>\n",
       "    .dataframe tbody tr th:only-of-type {\n",
       "        vertical-align: middle;\n",
       "    }\n",
       "\n",
       "    .dataframe tbody tr th {\n",
       "        vertical-align: top;\n",
       "    }\n",
       "\n",
       "    .dataframe thead th {\n",
       "        text-align: right;\n",
       "    }\n",
       "</style>\n",
       "<table border=\"1\" class=\"dataframe\">\n",
       "  <thead>\n",
       "    <tr style=\"text-align: right;\">\n",
       "      <th></th>\n",
       "      <th>home_team</th>\n",
       "      <th>away_team</th>\n",
       "      <th>home_score</th>\n",
       "      <th>away_score</th>\n",
       "      <th>tournament</th>\n",
       "      <th>home_team_rank</th>\n",
       "      <th>away_team_rank</th>\n",
       "      <th>results</th>\n",
       "      <th>year</th>\n",
       "      <th>month</th>\n",
       "      <th>day</th>\n",
       "    </tr>\n",
       "  </thead>\n",
       "  <tbody>\n",
       "    <tr>\n",
       "      <th>0</th>\n",
       "      <td>19</td>\n",
       "      <td>147</td>\n",
       "      <td>3</td>\n",
       "      <td>1</td>\n",
       "      <td>16</td>\n",
       "      <td>59</td>\n",
       "      <td>22</td>\n",
       "      <td>2</td>\n",
       "      <td>1993</td>\n",
       "      <td>8</td>\n",
       "      <td>8</td>\n",
       "    </tr>\n",
       "    <tr>\n",
       "      <th>1</th>\n",
       "      <td>22</td>\n",
       "      <td>88</td>\n",
       "      <td>1</td>\n",
       "      <td>1</td>\n",
       "      <td>17</td>\n",
       "      <td>8</td>\n",
       "      <td>14</td>\n",
       "      <td>0</td>\n",
       "      <td>1993</td>\n",
       "      <td>8</td>\n",
       "      <td>8</td>\n",
       "    </tr>\n",
       "    <tr>\n",
       "      <th>2</th>\n",
       "      <td>39</td>\n",
       "      <td>150</td>\n",
       "      <td>5</td>\n",
       "      <td>0</td>\n",
       "      <td>16</td>\n",
       "      <td>35</td>\n",
       "      <td>94</td>\n",
       "      <td>2</td>\n",
       "      <td>1993</td>\n",
       "      <td>8</td>\n",
       "      <td>8</td>\n",
       "    </tr>\n",
       "    <tr>\n",
       "      <th>3</th>\n",
       "      <td>58</td>\n",
       "      <td>122</td>\n",
       "      <td>1</td>\n",
       "      <td>0</td>\n",
       "      <td>17</td>\n",
       "      <td>65</td>\n",
       "      <td>86</td>\n",
       "      <td>2</td>\n",
       "      <td>1993</td>\n",
       "      <td>8</td>\n",
       "      <td>8</td>\n",
       "    </tr>\n",
       "    <tr>\n",
       "      <th>4</th>\n",
       "      <td>108</td>\n",
       "      <td>6</td>\n",
       "      <td>1</td>\n",
       "      <td>3</td>\n",
       "      <td>16</td>\n",
       "      <td>67</td>\n",
       "      <td>5</td>\n",
       "      <td>1</td>\n",
       "      <td>1993</td>\n",
       "      <td>8</td>\n",
       "      <td>8</td>\n",
       "    </tr>\n",
       "    <tr>\n",
       "      <th>...</th>\n",
       "      <td>...</td>\n",
       "      <td>...</td>\n",
       "      <td>...</td>\n",
       "      <td>...</td>\n",
       "      <td>...</td>\n",
       "      <td>...</td>\n",
       "      <td>...</td>\n",
       "      <td>...</td>\n",
       "      <td>...</td>\n",
       "      <td>...</td>\n",
       "      <td>...</td>\n",
       "    </tr>\n",
       "    <tr>\n",
       "      <th>866</th>\n",
       "      <td>42</td>\n",
       "      <td>34</td>\n",
       "      <td>2</td>\n",
       "      <td>0</td>\n",
       "      <td>17</td>\n",
       "      <td>12</td>\n",
       "      <td>23</td>\n",
       "      <td>2</td>\n",
       "      <td>2018</td>\n",
       "      <td>6</td>\n",
       "      <td>7</td>\n",
       "    </tr>\n",
       "    <tr>\n",
       "      <th>867</th>\n",
       "      <td>147</td>\n",
       "      <td>148</td>\n",
       "      <td>3</td>\n",
       "      <td>0</td>\n",
       "      <td>17</td>\n",
       "      <td>14</td>\n",
       "      <td>95</td>\n",
       "      <td>2</td>\n",
       "      <td>2018</td>\n",
       "      <td>6</td>\n",
       "      <td>7</td>\n",
       "    </tr>\n",
       "    <tr>\n",
       "      <th>868</th>\n",
       "      <td>112</td>\n",
       "      <td>2</td>\n",
       "      <td>3</td>\n",
       "      <td>0</td>\n",
       "      <td>17</td>\n",
       "      <td>4</td>\n",
       "      <td>66</td>\n",
       "      <td>2</td>\n",
       "      <td>2018</td>\n",
       "      <td>6</td>\n",
       "      <td>7</td>\n",
       "    </tr>\n",
       "    <tr>\n",
       "      <th>869</th>\n",
       "      <td>64</td>\n",
       "      <td>54</td>\n",
       "      <td>2</td>\n",
       "      <td>2</td>\n",
       "      <td>17</td>\n",
       "      <td>22</td>\n",
       "      <td>47</td>\n",
       "      <td>0</td>\n",
       "      <td>2018</td>\n",
       "      <td>6</td>\n",
       "      <td>7</td>\n",
       "    </tr>\n",
       "    <tr>\n",
       "      <th>870</th>\n",
       "      <td>65</td>\n",
       "      <td>96</td>\n",
       "      <td>1</td>\n",
       "      <td>2</td>\n",
       "      <td>21</td>\n",
       "      <td>97</td>\n",
       "      <td>120</td>\n",
       "      <td>1</td>\n",
       "      <td>2018</td>\n",
       "      <td>6</td>\n",
       "      <td>7</td>\n",
       "    </tr>\n",
       "  </tbody>\n",
       "</table>\n",
       "<p>854 rows × 11 columns</p>\n",
       "</div>"
      ],
      "text/plain": [
       "     home_team  away_team  home_score  away_score  tournament  home_team_rank  \\\n",
       "0           19        147           3           1          16              59   \n",
       "1           22         88           1           1          17               8   \n",
       "2           39        150           5           0          16              35   \n",
       "3           58        122           1           0          17              65   \n",
       "4          108          6           1           3          16              67   \n",
       "..         ...        ...         ...         ...         ...             ...   \n",
       "866         42         34           2           0          17              12   \n",
       "867        147        148           3           0          17              14   \n",
       "868        112          2           3           0          17               4   \n",
       "869         64         54           2           2          17              22   \n",
       "870         65         96           1           2          21              97   \n",
       "\n",
       "     away_team_rank  results  year  month  day  \n",
       "0                22        2  1993      8    8  \n",
       "1                14        0  1993      8    8  \n",
       "2                94        2  1993      8    8  \n",
       "3                86        2  1993      8    8  \n",
       "4                 5        1  1993      8    8  \n",
       "..              ...      ...   ...    ...  ...  \n",
       "866              23        2  2018      6    7  \n",
       "867              95        2  2018      6    7  \n",
       "868              66        2  2018      6    7  \n",
       "869              47        0  2018      6    7  \n",
       "870             120        1  2018      6    7  \n",
       "\n",
       "[854 rows x 11 columns]"
      ]
     },
     "execution_count": 506,
     "metadata": {},
     "output_type": "execute_result"
    }
   ],
   "source": [
    "merged_copy"
   ]
  },
  {
   "cell_type": "code",
   "execution_count": 507,
   "metadata": {},
   "outputs": [],
   "source": [
    "# let's declare our x and y trains and tests to be used in the model\n",
    "# Home team\n",
    "X1 = merged_copy.drop('home_score', axis = 1).values\n",
    "y1 = merged_copy.home_score.values.reshape(-1,1)\n",
    "\n",
    "# Away team\n",
    "X2 = merged_copy.drop('away_score', axis = 1).values\n",
    "y2 = merged_copy.away_score.values.reshape(-1,1)\n",
    "\n",
    "# result prediction\n",
    "X3 = merged_copy.drop('results', axis = 1).values\n",
    "y3 = merged_copy.results.values.reshape(-1,1)"
   ]
  },
  {
   "cell_type": "code",
   "execution_count": 508,
   "metadata": {},
   "outputs": [],
   "source": [
    "# train test splits\n",
    "X1_train, X1_test, y1_train, y1_test = train_test_split(X1, y1, test_size = 0.2, random_state = 0)\n",
    "X2_train, X2_test, y2_train, y2_test = train_test_split(X2, y2, test_size = 0.2, random_state = 0)\n",
    "X3_train, X3_test, y3_train, y3_test = train_test_split(X3, y3, test_size = 0.2, random_state = 0)"
   ]
  },
  {
   "cell_type": "code",
   "execution_count": 509,
   "metadata": {},
   "outputs": [
    {
     "data": {
      "text/plain": [
       "1.1101566795149114"
      ]
     },
     "execution_count": 509,
     "metadata": {},
     "output_type": "execute_result"
    }
   ],
   "source": [
    "# polynomial regression for home team degree 1\n",
    "Polynomial(1, X1_train, X1_test, y1_train, y1_test)"
   ]
  },
  {
   "cell_type": "code",
   "execution_count": 510,
   "metadata": {},
   "outputs": [
    {
     "data": {
      "text/plain": [
       "0.9156027427587402"
      ]
     },
     "execution_count": 510,
     "metadata": {},
     "output_type": "execute_result"
    }
   ],
   "source": [
    "# polynomial regression for home team degree 2\n",
    "Polynomial(2, X1_train, X1_test, y1_train, y1_test)"
   ]
  },
  {
   "cell_type": "code",
   "execution_count": 511,
   "metadata": {},
   "outputs": [
    {
     "data": {
      "text/plain": [
       "1.393217679017037"
      ]
     },
     "execution_count": 511,
     "metadata": {},
     "output_type": "execute_result"
    }
   ],
   "source": [
    "# polynomial regression for home team degree 3\n",
    "Polynomial(3, X1_train, X1_test, y1_train, y1_test)"
   ]
  },
  {
   "cell_type": "markdown",
   "metadata": {},
   "source": [
    "> For home tea goal prediction model with a degree of 2 has the lowest RMSE. This is a good model to use as its optimal equation is y = a + bx + cx^2. A linear equation."
   ]
  },
  {
   "cell_type": "code",
   "execution_count": 512,
   "metadata": {},
   "outputs": [
    {
     "data": {
      "text/plain": [
       "1.0251540025272505"
      ]
     },
     "execution_count": 512,
     "metadata": {},
     "output_type": "execute_result"
    }
   ],
   "source": [
    "# polynomial regression for away team degree 1\n",
    "Polynomial(1, X2_train, X2_test, y2_train, y2_test)"
   ]
  },
  {
   "cell_type": "code",
   "execution_count": 513,
   "metadata": {},
   "outputs": [
    {
     "data": {
      "text/plain": [
       "0.7085649160611622"
      ]
     },
     "execution_count": 513,
     "metadata": {},
     "output_type": "execute_result"
    }
   ],
   "source": [
    "# polynomial regression for away team degree 2\n",
    "Polynomial(2, X2_train, X2_test, y2_train, y2_test)"
   ]
  },
  {
   "cell_type": "code",
   "execution_count": 514,
   "metadata": {},
   "outputs": [
    {
     "data": {
      "text/plain": [
       "1.1987285211736018"
      ]
     },
     "execution_count": 514,
     "metadata": {},
     "output_type": "execute_result"
    }
   ],
   "source": [
    "# polynomial regression for away team degree 3\n",
    "Polynomial(3, X2_train, X2_test, y2_train, y2_test)"
   ]
  },
  {
   "cell_type": "markdown",
   "metadata": {},
   "source": [
    "> For away team goal prediction model with a degree of 2 has the lowest RMSE. This is a good model to use as its optimal equation is y = a + bx + cx^2. A linear equation."
   ]
  },
  {
   "cell_type": "code",
   "execution_count": 515,
   "metadata": {},
   "outputs": [
    {
     "name": "stdout",
     "output_type": "stream",
     "text": [
      "Accuracy score: 1.0\n",
      "\n",
      "Classification Report\n",
      "\n",
      "Confusion Matrix\n",
      "[[51  0  0]\n",
      " [ 0 39  0]\n",
      " [ 0  0 81]]\n"
     ]
    }
   ],
   "source": [
    "# let's predict the results\n",
    "LogisticReg(X3_train, X3_test, y3_train, y3_test)"
   ]
  },
  {
   "cell_type": "markdown",
   "metadata": {},
   "source": [
    "> The model has 0 incorrect predictions. It might be because oof overfitting, we therefore conduct more analysis."
   ]
  },
  {
   "cell_type": "code",
   "execution_count": 516,
   "metadata": {},
   "outputs": [
    {
     "name": "stdout",
     "output_type": "stream",
     "text": [
      "Accuracy score: 0.9824561403508771\n",
      "\n",
      "Classification Report\n",
      "              precision    recall  f1-score   support\n",
      "\n",
      "           0       0.94      1.00      0.97        51\n",
      "           1       1.00      1.00      1.00        39\n",
      "           2       1.00      0.96      0.98        81\n",
      "\n",
      "    accuracy                           0.98       171\n",
      "   macro avg       0.98      0.99      0.98       171\n",
      "weighted avg       0.98      0.98      0.98       171\n",
      "\n",
      "\n",
      "Confusion Matrix\n",
      "[[51  0  0]\n",
      " [ 0 39  0]\n",
      " [ 3  0 78]]\n"
     ]
    }
   ],
   "source": [
    "LogisticReg_LDA(X3_train, X3_test, y3_train, y3_test, components = 1)"
   ]
  },
  {
   "cell_type": "markdown",
   "metadata": {},
   "source": [
    "> Accuracy : 98%"
   ]
  },
  {
   "cell_type": "markdown",
   "metadata": {},
   "source": [
    "##### Heteroscedasticity and Residuals Analysis"
   ]
  },
  {
   "cell_type": "code",
   "execution_count": 517,
   "metadata": {},
   "outputs": [
    {
     "name": "stdout",
     "output_type": "stream",
     "text": [
      "Residuals Description\n",
      "                0\n",
      "count  171.000000\n",
      "mean     0.003063\n",
      "std      1.047166\n",
      "min     -4.344675\n",
      "25%     -0.468594\n",
      "50%      0.224358\n",
      "75%      0.716154\n",
      "max      2.596620\n",
      "\n",
      "Residuals mean: 0.0030629129583273408\n"
     ]
    },
    {
     "data": {
      "image/png": "[encoded data removed]",
      "text/plain": [
       "<Figure size 2160x1080 with 1 Axes>"
      ]
     },
     "metadata": {},
     "output_type": "display_data"
    },
    {
     "name": "stdout",
     "output_type": "stream",
     "text": [
      "\n",
      "P_Vlaue = 0.033401402102440914\n",
      "test_statistic = 4.525085728286975\n",
      "Critical Value: 206.43011345246524\n",
      "Variances are equal\n"
     ]
    }
   ],
   "source": [
    "# for the home team\n",
    "Residuals_Heteroskedasticity_LDA(2, X1_train, X1_test, y1_train, y1_test, 2)"
   ]
  },
  {
   "cell_type": "markdown",
   "metadata": {},
   "source": [
    "> We have equal variances from the Bartlett test and the p-value is less than 0.05. This is a good indicator that the data is not heteroscedastic. However a pattern can be observed"
   ]
  },
  {
   "cell_type": "code",
   "execution_count": 518,
   "metadata": {},
   "outputs": [
    {
     "name": "stdout",
     "output_type": "stream",
     "text": [
      "Residuals Description\n",
      "                0\n",
      "count  171.000000\n",
      "mean    -0.032104\n",
      "std      0.917727\n",
      "min     -4.107564\n",
      "25%     -0.344636\n",
      "50%      0.024130\n",
      "75%      0.529104\n",
      "max      3.025291\n",
      "\n",
      "Residuals mean: -0.032103799458994386\n"
     ]
    },
    {
     "data": {
      "image/png": "[encoded data removed]",
      "text/plain": [
       "<Figure size 2160x1080 with 1 Axes>"
      ]
     },
     "metadata": {},
     "output_type": "display_data"
    },
    {
     "name": "stdout",
     "output_type": "stream",
     "text": [
      "\n",
      "P_Vlaue = 0.006602702097828257\n",
      "test_statistic = 7.377987334395319\n",
      "Critical Value: 220.24058733073107\n",
      "Variances are equal\n"
     ]
    }
   ],
   "source": [
    "# for away team\n",
    "Residuals_Heteroskedasticity(2, X1_train, X1_test, y1_train, y1_test, 1)"
   ]
  },
  {
   "cell_type": "markdown",
   "metadata": {},
   "source": [
    "> We have equal variances from the Bartlett test and the p-value is less than 0.05. This is a good indicator that the data is not heteroscedastic. However a pattern can be observed"
   ]
  },
  {
   "cell_type": "markdown",
   "metadata": {},
   "source": [
    "### 8. Challenging the solution"
   ]
  },
  {
   "cell_type": "code",
   "execution_count": 233,
   "metadata": {},
   "outputs": [],
   "source": [
    "# Reviewing the Solution \n",
    "#"
   ]
  },
  {
   "cell_type": "markdown",
   "metadata": {},
   "source": [
    "### 9. Follow up questions"
   ]
  },
  {
   "cell_type": "markdown",
   "metadata": {},
   "source": [
    "##### a). Did we have the right data?"
   ]
  },
  {
   "cell_type": "markdown",
   "metadata": {},
   "source": [
    "##### b). Do we need other data to answer our question?"
   ]
  },
  {
   "cell_type": "markdown",
   "metadata": {},
   "source": [
    "##### c). Did we have the right question?"
   ]
  }
 ],
 "metadata": {
  "interpreter": {
   "hash": "aee8b7b246df8f9039afb4144a1f6fd8d2ca17a180786b69acc140d282b71a49"
  },
  "kernelspec": {
   "display_name": "Python 3.9.1 64-bit",
   "language": "python",
   "name": "python3"
  },
  "language_info": {
   "codemirror_mode": {
    "name": "ipython",
    "version": 3
   },
   "file_extension": ".py",
   "mimetype": "text/x-python",
   "name": "python",
   "nbconvert_exporter": "python",
   "pygments_lexer": "ipython3",
   "version": "3.9.1"
  },
  "orig_nbformat": 4
 },
 "nbformat": 4,
 "nbformat_minor": 2
}
