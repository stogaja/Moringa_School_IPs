{
 "cells": [
  {
   "cell_type": "markdown",
   "metadata": {},
   "source": [
    "# Python Programming Assignment: Linear Regression Exercise"
   ]
  },
  {
   "cell_type": "code",
   "execution_count": 74,
   "metadata": {},
   "outputs": [],
   "source": [
    "# let's import the neccesary libraries\n",
    "import seaborn as sns\n",
    "import pandas as pd\n",
    "import numpy as np\n",
    "import matplotlib.pyplot as plt\n",
    "%matplotlib inline"
   ]
  },
  {
   "cell_type": "code",
   "execution_count": 213,
   "metadata": {},
   "outputs": [
    {
     "data": {
      "text/html": [
       "<div>\n",
       "<style scoped>\n",
       "    .dataframe tbody tr th:only-of-type {\n",
       "        vertical-align: middle;\n",
       "    }\n",
       "\n",
       "    .dataframe tbody tr th {\n",
       "        vertical-align: top;\n",
       "    }\n",
       "\n",
       "    .dataframe thead th {\n",
       "        text-align: right;\n",
       "    }\n",
       "</style>\n",
       "<table border=\"1\" class=\"dataframe\">\n",
       "  <thead>\n",
       "    <tr style=\"text-align: right;\">\n",
       "      <th></th>\n",
       "      <th>Month</th>\n",
       "      <th>Financial Year</th>\n",
       "      <th>Chain</th>\n",
       "      <th>Suburb</th>\n",
       "      <th>State</th>\n",
       "      <th>Postcode</th>\n",
       "      <th>Country</th>\n",
       "      <th>Manager</th>\n",
       "      <th>Category</th>\n",
       "      <th>Buyer</th>\n",
       "      <th>Sales</th>\n",
       "    </tr>\n",
       "  </thead>\n",
       "  <tbody>\n",
       "    <tr>\n",
       "      <th>0</th>\n",
       "      <td>1/1/2016</td>\n",
       "      <td>2015/16</td>\n",
       "      <td>Fashions Direct</td>\n",
       "      <td>Chatswood</td>\n",
       "      <td>NSW</td>\n",
       "      <td>2067</td>\n",
       "      <td>Australia</td>\n",
       "      <td>Jeremy Garcia</td>\n",
       "      <td>Home</td>\n",
       "      <td>Richard Carr</td>\n",
       "      <td>479.02</td>\n",
       "    </tr>\n",
       "    <tr>\n",
       "      <th>1</th>\n",
       "      <td>1/1/2016</td>\n",
       "      <td>2015/16</td>\n",
       "      <td>Fashions Direct</td>\n",
       "      <td>Chatswood</td>\n",
       "      <td>NSW</td>\n",
       "      <td>2067</td>\n",
       "      <td>Australia</td>\n",
       "      <td>Jeremy Garcia</td>\n",
       "      <td>Juniors</td>\n",
       "      <td>Chester George</td>\n",
       "      <td>149.95</td>\n",
       "    </tr>\n",
       "    <tr>\n",
       "      <th>2</th>\n",
       "      <td>1/1/2016</td>\n",
       "      <td>2015/16</td>\n",
       "      <td>Fashions Direct</td>\n",
       "      <td>Chatswood</td>\n",
       "      <td>NSW</td>\n",
       "      <td>2067</td>\n",
       "      <td>Australia</td>\n",
       "      <td>Jeremy Garcia</td>\n",
       "      <td>Mens</td>\n",
       "      <td>Bruce Curran</td>\n",
       "      <td>14.00</td>\n",
       "    </tr>\n",
       "    <tr>\n",
       "      <th>3</th>\n",
       "      <td>1/1/2016</td>\n",
       "      <td>2015/16</td>\n",
       "      <td>Fashions Direct</td>\n",
       "      <td>Chatswood</td>\n",
       "      <td>NSW</td>\n",
       "      <td>2067</td>\n",
       "      <td>Australia</td>\n",
       "      <td>Jeremy Garcia</td>\n",
       "      <td>Juniors</td>\n",
       "      <td>Chester George</td>\n",
       "      <td>12.00</td>\n",
       "    </tr>\n",
       "    <tr>\n",
       "      <th>4</th>\n",
       "      <td>1/1/2016</td>\n",
       "      <td>2015/16</td>\n",
       "      <td>Fashions Direct</td>\n",
       "      <td>Chatswood</td>\n",
       "      <td>NSW</td>\n",
       "      <td>2067</td>\n",
       "      <td>Australia</td>\n",
       "      <td>Jeremy Garcia</td>\n",
       "      <td>Womens</td>\n",
       "      <td>Amy Buchanan</td>\n",
       "      <td>46.94</td>\n",
       "    </tr>\n",
       "  </tbody>\n",
       "</table>\n",
       "</div>"
      ],
      "text/plain": [
       "      Month Financial Year            Chain     Suburb State  Postcode  \\\n",
       "0  1/1/2016        2015/16  Fashions Direct  Chatswood   NSW      2067   \n",
       "1  1/1/2016        2015/16  Fashions Direct  Chatswood   NSW      2067   \n",
       "2  1/1/2016        2015/16  Fashions Direct  Chatswood   NSW      2067   \n",
       "3  1/1/2016        2015/16  Fashions Direct  Chatswood   NSW      2067   \n",
       "4  1/1/2016        2015/16  Fashions Direct  Chatswood   NSW      2067   \n",
       "\n",
       "     Country        Manager Category           Buyer   Sales  \n",
       "0  Australia  Jeremy Garcia     Home    Richard Carr  479.02  \n",
       "1  Australia  Jeremy Garcia  Juniors  Chester George  149.95  \n",
       "2  Australia  Jeremy Garcia     Mens    Bruce Curran   14.00  \n",
       "3  Australia  Jeremy Garcia  Juniors  Chester George   12.00  \n",
       "4  Australia  Jeremy Garcia   Womens    Amy Buchanan   46.94  "
      ]
     },
     "execution_count": 213,
     "metadata": {},
     "output_type": "execute_result"
    }
   ],
   "source": [
    "# let's read the dataset using pandas\n",
    "df = pd.read_csv('assignment1.csv')\n",
    "\n",
    "# let's preview the dataset\n",
    "df.head()"
   ]
  },
  {
   "cell_type": "code",
   "execution_count": 214,
   "metadata": {},
   "outputs": [
    {
     "name": "stdout",
     "output_type": "stream",
     "text": [
      "The dataset has 72425 rows and 11 columns\n"
     ]
    }
   ],
   "source": [
    "# let's explore the dataset shape in a statement\n",
    "print(\"The dataset has {} rows and {} columns\".format(df.shape[0], df.shape[1]))"
   ]
  },
  {
   "cell_type": "code",
   "execution_count": 215,
   "metadata": {},
   "outputs": [
    {
     "data": {
      "text/html": [
       "<div>\n",
       "<style scoped>\n",
       "    .dataframe tbody tr th:only-of-type {\n",
       "        vertical-align: middle;\n",
       "    }\n",
       "\n",
       "    .dataframe tbody tr th {\n",
       "        vertical-align: top;\n",
       "    }\n",
       "\n",
       "    .dataframe thead th {\n",
       "        text-align: right;\n",
       "    }\n",
       "</style>\n",
       "<table border=\"1\" class=\"dataframe\">\n",
       "  <thead>\n",
       "    <tr style=\"text-align: right;\">\n",
       "      <th></th>\n",
       "      <th>Month</th>\n",
       "      <th>Financial Year</th>\n",
       "      <th>Chain</th>\n",
       "      <th>Suburb</th>\n",
       "      <th>State</th>\n",
       "      <th>Postcode</th>\n",
       "      <th>Country</th>\n",
       "      <th>Manager</th>\n",
       "      <th>Category</th>\n",
       "      <th>Buyer</th>\n",
       "      <th>Sales</th>\n",
       "    </tr>\n",
       "  </thead>\n",
       "  <tbody>\n",
       "    <tr>\n",
       "      <th>72420</th>\n",
       "      <td>1/7/2017</td>\n",
       "      <td>2017/18</td>\n",
       "      <td>Fashions Direct</td>\n",
       "      <td>Ballarat</td>\n",
       "      <td>VIC</td>\n",
       "      <td>3353</td>\n",
       "      <td>Australia</td>\n",
       "      <td>Jerry Fulton</td>\n",
       "      <td>Kids</td>\n",
       "      <td>Elizabeth Gentry</td>\n",
       "      <td>2335.83</td>\n",
       "    </tr>\n",
       "    <tr>\n",
       "      <th>72421</th>\n",
       "      <td>1/7/2017</td>\n",
       "      <td>2017/18</td>\n",
       "      <td>Fashions Direct</td>\n",
       "      <td>Ballarat</td>\n",
       "      <td>VIC</td>\n",
       "      <td>3353</td>\n",
       "      <td>Australia</td>\n",
       "      <td>Jerry Fulton</td>\n",
       "      <td>Kids</td>\n",
       "      <td>Elizabeth Gentry</td>\n",
       "      <td>3430.66</td>\n",
       "    </tr>\n",
       "    <tr>\n",
       "      <th>72422</th>\n",
       "      <td>1/7/2017</td>\n",
       "      <td>2017/18</td>\n",
       "      <td>Fashions Direct</td>\n",
       "      <td>Ballarat</td>\n",
       "      <td>VIC</td>\n",
       "      <td>3353</td>\n",
       "      <td>Australia</td>\n",
       "      <td>Jerry Fulton</td>\n",
       "      <td>Home</td>\n",
       "      <td>Richard Carr</td>\n",
       "      <td>4591.11</td>\n",
       "    </tr>\n",
       "    <tr>\n",
       "      <th>72423</th>\n",
       "      <td>1/7/2017</td>\n",
       "      <td>2017/18</td>\n",
       "      <td>Fashions Direct</td>\n",
       "      <td>Ballarat</td>\n",
       "      <td>VIC</td>\n",
       "      <td>3353</td>\n",
       "      <td>Australia</td>\n",
       "      <td>Jerry Fulton</td>\n",
       "      <td>Home</td>\n",
       "      <td>Richard Carr</td>\n",
       "      <td>3674.59</td>\n",
       "    </tr>\n",
       "    <tr>\n",
       "      <th>72424</th>\n",
       "      <td>1/7/2017</td>\n",
       "      <td>2017/18</td>\n",
       "      <td>Fashions Direct</td>\n",
       "      <td>Ballarat</td>\n",
       "      <td>VIC</td>\n",
       "      <td>3353</td>\n",
       "      <td>Australia</td>\n",
       "      <td>Jerry Fulton</td>\n",
       "      <td>Juniors</td>\n",
       "      <td>Chester George</td>\n",
       "      <td>3219.74</td>\n",
       "    </tr>\n",
       "  </tbody>\n",
       "</table>\n",
       "</div>"
      ],
      "text/plain": [
       "          Month Financial Year            Chain    Suburb State  Postcode  \\\n",
       "72420  1/7/2017        2017/18  Fashions Direct  Ballarat   VIC      3353   \n",
       "72421  1/7/2017        2017/18  Fashions Direct  Ballarat   VIC      3353   \n",
       "72422  1/7/2017        2017/18  Fashions Direct  Ballarat   VIC      3353   \n",
       "72423  1/7/2017        2017/18  Fashions Direct  Ballarat   VIC      3353   \n",
       "72424  1/7/2017        2017/18  Fashions Direct  Ballarat   VIC      3353   \n",
       "\n",
       "         Country       Manager Category             Buyer    Sales  \n",
       "72420  Australia  Jerry Fulton     Kids  Elizabeth Gentry  2335.83  \n",
       "72421  Australia  Jerry Fulton     Kids  Elizabeth Gentry  3430.66  \n",
       "72422  Australia  Jerry Fulton     Home      Richard Carr  4591.11  \n",
       "72423  Australia  Jerry Fulton     Home      Richard Carr  3674.59  \n",
       "72424  Australia  Jerry Fulton  Juniors    Chester George  3219.74  "
      ]
     },
     "execution_count": 215,
     "metadata": {},
     "output_type": "execute_result"
    }
   ],
   "source": [
    "# let's preview the tail of the dataset\n",
    "df.tail()"
   ]
  },
  {
   "cell_type": "code",
   "execution_count": 216,
   "metadata": {},
   "outputs": [
    {
     "data": {
      "text/plain": [
       "Index(['Month', 'Financial_Year', 'Chain', 'Suburb', 'State', 'Postcode',\n",
       "       'Country', 'Manager', 'Category', 'Buyer', 'Sales'],\n",
       "      dtype='object')"
      ]
     },
     "execution_count": 216,
     "metadata": {},
     "output_type": "execute_result"
    }
   ],
   "source": [
    "# let's replace white spaces in column names with underscores\n",
    "df.columns = df.columns.str.replace(' ', '_')\n",
    "df.columns"
   ]
  },
  {
   "cell_type": "code",
   "execution_count": 217,
   "metadata": {},
   "outputs": [],
   "source": [
    "# let's drop the financial year column because it is not useful in this analysis\n",
    "df = df.drop(columns=['Financial_Year'])"
   ]
  },
  {
   "cell_type": "code",
   "execution_count": 218,
   "metadata": {},
   "outputs": [
    {
     "data": {
      "text/plain": [
       "Month        object\n",
       "Chain        object\n",
       "Suburb       object\n",
       "State        object\n",
       "Postcode      int64\n",
       "Country      object\n",
       "Manager      object\n",
       "Category     object\n",
       "Buyer        object\n",
       "Sales       float64\n",
       "dtype: object"
      ]
     },
     "execution_count": 218,
     "metadata": {},
     "output_type": "execute_result"
    }
   ],
   "source": [
    "# let's check the datatypes\n",
    "df.dtypes"
   ]
  },
  {
   "cell_type": "code",
   "execution_count": 219,
   "metadata": {},
   "outputs": [
    {
     "data": {
      "text/html": [
       "<div>\n",
       "<style scoped>\n",
       "    .dataframe tbody tr th:only-of-type {\n",
       "        vertical-align: middle;\n",
       "    }\n",
       "\n",
       "    .dataframe tbody tr th {\n",
       "        vertical-align: top;\n",
       "    }\n",
       "\n",
       "    .dataframe thead th {\n",
       "        text-align: right;\n",
       "    }\n",
       "</style>\n",
       "<table border=\"1\" class=\"dataframe\">\n",
       "  <thead>\n",
       "    <tr style=\"text-align: right;\">\n",
       "      <th></th>\n",
       "      <th>Month</th>\n",
       "      <th>Chain</th>\n",
       "      <th>Suburb</th>\n",
       "      <th>State</th>\n",
       "      <th>Postcode</th>\n",
       "      <th>Country</th>\n",
       "      <th>Manager</th>\n",
       "      <th>Category</th>\n",
       "      <th>Buyer</th>\n",
       "      <th>Sales</th>\n",
       "    </tr>\n",
       "  </thead>\n",
       "  <tbody>\n",
       "    <tr>\n",
       "      <th>0</th>\n",
       "      <td>1/1/2016</td>\n",
       "      <td>Fashions Direct</td>\n",
       "      <td>Chatswood</td>\n",
       "      <td>NSW</td>\n",
       "      <td>2067</td>\n",
       "      <td>Australia</td>\n",
       "      <td>Jeremy Garcia</td>\n",
       "      <td>Home</td>\n",
       "      <td>Richard Carr</td>\n",
       "      <td>479.02</td>\n",
       "    </tr>\n",
       "    <tr>\n",
       "      <th>1</th>\n",
       "      <td>1/1/2016</td>\n",
       "      <td>Fashions Direct</td>\n",
       "      <td>Chatswood</td>\n",
       "      <td>NSW</td>\n",
       "      <td>2067</td>\n",
       "      <td>Australia</td>\n",
       "      <td>Jeremy Garcia</td>\n",
       "      <td>Juniors</td>\n",
       "      <td>Chester George</td>\n",
       "      <td>149.95</td>\n",
       "    </tr>\n",
       "    <tr>\n",
       "      <th>2</th>\n",
       "      <td>1/1/2016</td>\n",
       "      <td>Fashions Direct</td>\n",
       "      <td>Chatswood</td>\n",
       "      <td>NSW</td>\n",
       "      <td>2067</td>\n",
       "      <td>Australia</td>\n",
       "      <td>Jeremy Garcia</td>\n",
       "      <td>Mens</td>\n",
       "      <td>Bruce Curran</td>\n",
       "      <td>14.00</td>\n",
       "    </tr>\n",
       "    <tr>\n",
       "      <th>3</th>\n",
       "      <td>1/1/2016</td>\n",
       "      <td>Fashions Direct</td>\n",
       "      <td>Chatswood</td>\n",
       "      <td>NSW</td>\n",
       "      <td>2067</td>\n",
       "      <td>Australia</td>\n",
       "      <td>Jeremy Garcia</td>\n",
       "      <td>Juniors</td>\n",
       "      <td>Chester George</td>\n",
       "      <td>12.00</td>\n",
       "    </tr>\n",
       "    <tr>\n",
       "      <th>4</th>\n",
       "      <td>1/1/2016</td>\n",
       "      <td>Fashions Direct</td>\n",
       "      <td>Chatswood</td>\n",
       "      <td>NSW</td>\n",
       "      <td>2067</td>\n",
       "      <td>Australia</td>\n",
       "      <td>Jeremy Garcia</td>\n",
       "      <td>Womens</td>\n",
       "      <td>Amy Buchanan</td>\n",
       "      <td>46.94</td>\n",
       "    </tr>\n",
       "  </tbody>\n",
       "</table>\n",
       "</div>"
      ],
      "text/plain": [
       "      Month            Chain     Suburb State  Postcode    Country  \\\n",
       "0  1/1/2016  Fashions Direct  Chatswood   NSW      2067  Australia   \n",
       "1  1/1/2016  Fashions Direct  Chatswood   NSW      2067  Australia   \n",
       "2  1/1/2016  Fashions Direct  Chatswood   NSW      2067  Australia   \n",
       "3  1/1/2016  Fashions Direct  Chatswood   NSW      2067  Australia   \n",
       "4  1/1/2016  Fashions Direct  Chatswood   NSW      2067  Australia   \n",
       "\n",
       "         Manager Category           Buyer   Sales  \n",
       "0  Jeremy Garcia     Home    Richard Carr  479.02  \n",
       "1  Jeremy Garcia  Juniors  Chester George  149.95  \n",
       "2  Jeremy Garcia     Mens    Bruce Curran   14.00  \n",
       "3  Jeremy Garcia  Juniors  Chester George   12.00  \n",
       "4  Jeremy Garcia   Womens    Amy Buchanan   46.94  "
      ]
     },
     "execution_count": 219,
     "metadata": {},
     "output_type": "execute_result"
    }
   ],
   "source": [
    "# let's preview the dataset again\n",
    "df.head()"
   ]
  },
  {
   "cell_type": "code",
   "execution_count": 220,
   "metadata": {},
   "outputs": [],
   "source": [
    "# let's convert the month column into timestamp\n",
    "df['Month'] = pd.to_datetime(df['Month'])"
   ]
  },
  {
   "cell_type": "code",
   "execution_count": 221,
   "metadata": {},
   "outputs": [
    {
     "data": {
      "text/plain": [
       "Month       datetime64[ns]\n",
       "Chain               object\n",
       "Suburb              object\n",
       "State               object\n",
       "Postcode             int64\n",
       "Country             object\n",
       "Manager             object\n",
       "Category            object\n",
       "Buyer               object\n",
       "Sales              float64\n",
       "dtype: object"
      ]
     },
     "execution_count": 221,
     "metadata": {},
     "output_type": "execute_result"
    }
   ],
   "source": [
    "# let's check the datatypes again\n",
    "df.dtypes"
   ]
  },
  {
   "cell_type": "code",
   "execution_count": 222,
   "metadata": {},
   "outputs": [
    {
     "data": {
      "text/html": [
       "<div>\n",
       "<style scoped>\n",
       "    .dataframe tbody tr th:only-of-type {\n",
       "        vertical-align: middle;\n",
       "    }\n",
       "\n",
       "    .dataframe tbody tr th {\n",
       "        vertical-align: top;\n",
       "    }\n",
       "\n",
       "    .dataframe thead th {\n",
       "        text-align: right;\n",
       "    }\n",
       "</style>\n",
       "<table border=\"1\" class=\"dataframe\">\n",
       "  <thead>\n",
       "    <tr style=\"text-align: right;\">\n",
       "      <th></th>\n",
       "      <th>Month</th>\n",
       "      <th>Chain</th>\n",
       "      <th>Suburb</th>\n",
       "      <th>State</th>\n",
       "      <th>Postcode</th>\n",
       "      <th>Country</th>\n",
       "      <th>Manager</th>\n",
       "      <th>Category</th>\n",
       "      <th>Buyer</th>\n",
       "      <th>Sales</th>\n",
       "    </tr>\n",
       "  </thead>\n",
       "  <tbody>\n",
       "    <tr>\n",
       "      <th>0</th>\n",
       "      <td>2016-01-01</td>\n",
       "      <td>Fashions Direct</td>\n",
       "      <td>Chatswood</td>\n",
       "      <td>NSW</td>\n",
       "      <td>2067</td>\n",
       "      <td>Australia</td>\n",
       "      <td>Jeremy Garcia</td>\n",
       "      <td>Home</td>\n",
       "      <td>Richard Carr</td>\n",
       "      <td>479.02</td>\n",
       "    </tr>\n",
       "    <tr>\n",
       "      <th>1</th>\n",
       "      <td>2016-01-01</td>\n",
       "      <td>Fashions Direct</td>\n",
       "      <td>Chatswood</td>\n",
       "      <td>NSW</td>\n",
       "      <td>2067</td>\n",
       "      <td>Australia</td>\n",
       "      <td>Jeremy Garcia</td>\n",
       "      <td>Juniors</td>\n",
       "      <td>Chester George</td>\n",
       "      <td>149.95</td>\n",
       "    </tr>\n",
       "    <tr>\n",
       "      <th>2</th>\n",
       "      <td>2016-01-01</td>\n",
       "      <td>Fashions Direct</td>\n",
       "      <td>Chatswood</td>\n",
       "      <td>NSW</td>\n",
       "      <td>2067</td>\n",
       "      <td>Australia</td>\n",
       "      <td>Jeremy Garcia</td>\n",
       "      <td>Mens</td>\n",
       "      <td>Bruce Curran</td>\n",
       "      <td>14.00</td>\n",
       "    </tr>\n",
       "    <tr>\n",
       "      <th>3</th>\n",
       "      <td>2016-01-01</td>\n",
       "      <td>Fashions Direct</td>\n",
       "      <td>Chatswood</td>\n",
       "      <td>NSW</td>\n",
       "      <td>2067</td>\n",
       "      <td>Australia</td>\n",
       "      <td>Jeremy Garcia</td>\n",
       "      <td>Juniors</td>\n",
       "      <td>Chester George</td>\n",
       "      <td>12.00</td>\n",
       "    </tr>\n",
       "    <tr>\n",
       "      <th>4</th>\n",
       "      <td>2016-01-01</td>\n",
       "      <td>Fashions Direct</td>\n",
       "      <td>Chatswood</td>\n",
       "      <td>NSW</td>\n",
       "      <td>2067</td>\n",
       "      <td>Australia</td>\n",
       "      <td>Jeremy Garcia</td>\n",
       "      <td>Womens</td>\n",
       "      <td>Amy Buchanan</td>\n",
       "      <td>46.94</td>\n",
       "    </tr>\n",
       "  </tbody>\n",
       "</table>\n",
       "</div>"
      ],
      "text/plain": [
       "       Month            Chain     Suburb State  Postcode    Country  \\\n",
       "0 2016-01-01  Fashions Direct  Chatswood   NSW      2067  Australia   \n",
       "1 2016-01-01  Fashions Direct  Chatswood   NSW      2067  Australia   \n",
       "2 2016-01-01  Fashions Direct  Chatswood   NSW      2067  Australia   \n",
       "3 2016-01-01  Fashions Direct  Chatswood   NSW      2067  Australia   \n",
       "4 2016-01-01  Fashions Direct  Chatswood   NSW      2067  Australia   \n",
       "\n",
       "         Manager Category           Buyer   Sales  \n",
       "0  Jeremy Garcia     Home    Richard Carr  479.02  \n",
       "1  Jeremy Garcia  Juniors  Chester George  149.95  \n",
       "2  Jeremy Garcia     Mens    Bruce Curran   14.00  \n",
       "3  Jeremy Garcia  Juniors  Chester George   12.00  \n",
       "4  Jeremy Garcia   Womens    Amy Buchanan   46.94  "
      ]
     },
     "execution_count": 222,
     "metadata": {},
     "output_type": "execute_result"
    }
   ],
   "source": [
    "# let's preview the adjusted dataset\n",
    "df.head()"
   ]
  },
  {
   "cell_type": "code",
   "execution_count": 223,
   "metadata": {},
   "outputs": [],
   "source": [
    "# let's select all categorical columns and store them in a variable\n",
    "categorical_columns = df.select_dtypes(include=['object']).columns"
   ]
  },
  {
   "cell_type": "code",
   "execution_count": 224,
   "metadata": {},
   "outputs": [
    {
     "data": {
      "text/html": [
       "<div>\n",
       "<style scoped>\n",
       "    .dataframe tbody tr th:only-of-type {\n",
       "        vertical-align: middle;\n",
       "    }\n",
       "\n",
       "    .dataframe tbody tr th {\n",
       "        vertical-align: top;\n",
       "    }\n",
       "\n",
       "    .dataframe thead th {\n",
       "        text-align: right;\n",
       "    }\n",
       "</style>\n",
       "<table border=\"1\" class=\"dataframe\">\n",
       "  <thead>\n",
       "    <tr style=\"text-align: right;\">\n",
       "      <th></th>\n",
       "      <th>Month</th>\n",
       "      <th>Chain</th>\n",
       "      <th>Suburb</th>\n",
       "      <th>State</th>\n",
       "      <th>Postcode</th>\n",
       "      <th>Country</th>\n",
       "      <th>Manager</th>\n",
       "      <th>Category</th>\n",
       "      <th>Buyer</th>\n",
       "      <th>Sales</th>\n",
       "    </tr>\n",
       "  </thead>\n",
       "  <tbody>\n",
       "    <tr>\n",
       "      <th>0</th>\n",
       "      <td>2016-01-01</td>\n",
       "      <td>0</td>\n",
       "      <td>25</td>\n",
       "      <td>1</td>\n",
       "      <td>2067</td>\n",
       "      <td>0</td>\n",
       "      <td>6</td>\n",
       "      <td>2</td>\n",
       "      <td>8</td>\n",
       "      <td>479.02</td>\n",
       "    </tr>\n",
       "    <tr>\n",
       "      <th>1</th>\n",
       "      <td>2016-01-01</td>\n",
       "      <td>0</td>\n",
       "      <td>25</td>\n",
       "      <td>1</td>\n",
       "      <td>2067</td>\n",
       "      <td>0</td>\n",
       "      <td>6</td>\n",
       "      <td>5</td>\n",
       "      <td>2</td>\n",
       "      <td>149.95</td>\n",
       "    </tr>\n",
       "    <tr>\n",
       "      <th>2</th>\n",
       "      <td>2016-01-01</td>\n",
       "      <td>0</td>\n",
       "      <td>25</td>\n",
       "      <td>1</td>\n",
       "      <td>2067</td>\n",
       "      <td>0</td>\n",
       "      <td>6</td>\n",
       "      <td>7</td>\n",
       "      <td>1</td>\n",
       "      <td>14.00</td>\n",
       "    </tr>\n",
       "    <tr>\n",
       "      <th>3</th>\n",
       "      <td>2016-01-01</td>\n",
       "      <td>0</td>\n",
       "      <td>25</td>\n",
       "      <td>1</td>\n",
       "      <td>2067</td>\n",
       "      <td>0</td>\n",
       "      <td>6</td>\n",
       "      <td>5</td>\n",
       "      <td>2</td>\n",
       "      <td>12.00</td>\n",
       "    </tr>\n",
       "    <tr>\n",
       "      <th>4</th>\n",
       "      <td>2016-01-01</td>\n",
       "      <td>0</td>\n",
       "      <td>25</td>\n",
       "      <td>1</td>\n",
       "      <td>2067</td>\n",
       "      <td>0</td>\n",
       "      <td>6</td>\n",
       "      <td>9</td>\n",
       "      <td>0</td>\n",
       "      <td>46.94</td>\n",
       "    </tr>\n",
       "  </tbody>\n",
       "</table>\n",
       "</div>"
      ],
      "text/plain": [
       "       Month  Chain  Suburb  State  Postcode  Country  Manager  Category  \\\n",
       "0 2016-01-01      0      25      1      2067        0        6         2   \n",
       "1 2016-01-01      0      25      1      2067        0        6         5   \n",
       "2 2016-01-01      0      25      1      2067        0        6         7   \n",
       "3 2016-01-01      0      25      1      2067        0        6         5   \n",
       "4 2016-01-01      0      25      1      2067        0        6         9   \n",
       "\n",
       "   Buyer   Sales  \n",
       "0      8  479.02  \n",
       "1      2  149.95  \n",
       "2      1   14.00  \n",
       "3      2   12.00  \n",
       "4      0   46.94  "
      ]
     },
     "execution_count": 224,
     "metadata": {},
     "output_type": "execute_result"
    }
   ],
   "source": [
    "# let's use label encoder to convert categorical columns to numeric\n",
    "from sklearn.preprocessing import LabelEncoder\n",
    "\n",
    "# let's create a label encoder object\n",
    "le = LabelEncoder()\n",
    "\n",
    "# let's loop through the categorical columns and apply label encoder\n",
    "for column in categorical_columns:\n",
    "    df[column] = le.fit_transform(df[column])\n",
    "\n",
    "    # let's check the datatypes again\n",
    "\n",
    "df.head()    "
   ]
  },
  {
   "cell_type": "code",
   "execution_count": 225,
   "metadata": {},
   "outputs": [],
   "source": [
    "# let's drop the month column\n",
    "df = df.drop(columns=['Month'])"
   ]
  },
  {
   "cell_type": "code",
   "execution_count": 226,
   "metadata": {},
   "outputs": [],
   "source": [
    "# let's select x and y variables\n",
    "X = df.drop(columns=['Sales'])\n",
    "y = df['Sales']\n"
   ]
  },
  {
   "cell_type": "code",
   "execution_count": 233,
   "metadata": {},
   "outputs": [],
   "source": [
    "# train test split\n",
    "v = 1000\n",
    "from sklearn.model_selection import train_test_split\n",
    "X_train, X_test, y_train, y_test = train_test_split(X, y, test_size=0.2, random_state=42)"
   ]
  },
  {
   "cell_type": "code",
   "execution_count": 228,
   "metadata": {},
   "outputs": [
    {
     "data": {
      "text/plain": [
       "LinearRegression()"
      ]
     },
     "execution_count": 228,
     "metadata": {},
     "output_type": "execute_result"
    }
   ],
   "source": [
    "# training the algorithm\n",
    "from sklearn.linear_model import LinearRegression\n",
    "lr = LinearRegression()\n",
    "lr.fit(X_train, y_train)"
   ]
  },
  {
   "cell_type": "code",
   "execution_count": 229,
   "metadata": {},
   "outputs": [
    {
     "name": "stdout",
     "output_type": "stream",
     "text": [
      "Intercept:  759.008937933726\n",
      "Coefficients:  [-5.72890367e+02 -7.13759956e-01  2.50157664e+00 -1.11625850e-02\n",
      "  1.49213975e-13  3.95371023e-01  3.95175947e+01  3.18758719e+01]\n"
     ]
    }
   ],
   "source": [
    "# getting the intercept and coefficients\n",
    "print(\"Intercept: \", lr.intercept_)\n",
    "print(\"Coefficients: \", lr.coef_)"
   ]
  },
  {
   "cell_type": "code",
   "execution_count": 230,
   "metadata": {},
   "outputs": [
    {
     "data": {
      "text/html": [
       "<div>\n",
       "<style scoped>\n",
       "    .dataframe tbody tr th:only-of-type {\n",
       "        vertical-align: middle;\n",
       "    }\n",
       "\n",
       "    .dataframe tbody tr th {\n",
       "        vertical-align: top;\n",
       "    }\n",
       "\n",
       "    .dataframe thead th {\n",
       "        text-align: right;\n",
       "    }\n",
       "</style>\n",
       "<table border=\"1\" class=\"dataframe\">\n",
       "  <thead>\n",
       "    <tr style=\"text-align: right;\">\n",
       "      <th></th>\n",
       "      <th>Actual</th>\n",
       "      <th>Predicted</th>\n",
       "    </tr>\n",
       "  </thead>\n",
       "  <tbody>\n",
       "    <tr>\n",
       "      <th>10305</th>\n",
       "      <td>921.73</td>\n",
       "      <td>1048.461647</td>\n",
       "    </tr>\n",
       "    <tr>\n",
       "      <th>23724</th>\n",
       "      <td>44.91</td>\n",
       "      <td>1030.993463</td>\n",
       "    </tr>\n",
       "    <tr>\n",
       "      <th>19254</th>\n",
       "      <td>1132.06</td>\n",
       "      <td>428.658431</td>\n",
       "    </tr>\n",
       "    <tr>\n",
       "      <th>71978</th>\n",
       "      <td>2784.22</td>\n",
       "      <td>996.178568</td>\n",
       "    </tr>\n",
       "    <tr>\n",
       "      <th>51463</th>\n",
       "      <td>198.65</td>\n",
       "      <td>925.148351</td>\n",
       "    </tr>\n",
       "  </tbody>\n",
       "</table>\n",
       "</div>"
      ],
      "text/plain": [
       "        Actual    Predicted\n",
       "10305   921.73  1048.461647\n",
       "23724    44.91  1030.993463\n",
       "19254  1132.06   428.658431\n",
       "71978  2784.22   996.178568\n",
       "51463   198.65   925.148351"
      ]
     },
     "execution_count": 230,
     "metadata": {},
     "output_type": "execute_result"
    }
   ],
   "source": [
    "# making predictions\n",
    "y_pred = lr.predict(X_test)\n",
    "\n",
    "df = pd.DataFrame({'Actual': y_test, 'Predicted': y_pred})\n",
    "df.head()"
   ]
  },
  {
   "cell_type": "code",
   "execution_count": 231,
   "metadata": {},
   "outputs": [
    {
     "name": "stdout",
     "output_type": "stream",
     "text": [
      "Mean Absolute Error:  795.7409827960855\n",
      "Mean Squared Error:  1438172.6123618693\n",
      "Root Mean Squared Error:  1199.2383467692605\n"
     ]
    }
   ],
   "source": [
    "# evaluating the model\n",
    "from sklearn import metrics\n",
    "print(\"Mean Absolute Error: \", metrics.mean_absolute_error(y_test, y_pred))\n",
    "print(\"Mean Squared Error: \", metrics.mean_squared_error(y_test, y_pred))\n",
    "print(\"Root Mean Squared Error: \", np.sqrt(metrics.mean_squared_error(y_test, y_pred)))"
   ]
  },
  {
   "cell_type": "code",
   "execution_count": 234,
   "metadata": {},
   "outputs": [
    {
     "name": "stdout",
     "output_type": "stream",
     "text": [
      "63.564756895295616 %\n"
     ]
    }
   ],
   "source": [
    "from sklearn.linear_model import LinearRegression\n",
    "regressor = LinearRegression()\n",
    "regressor.fit(X_train,y_train)\n",
    "r2_score = regressor.score(X_test,y_test)\n",
    "print(r2_score*v,'%')"
   ]
  }
 ],
 "metadata": {
  "interpreter": {
   "hash": "aee8b7b246df8f9039afb4144a1f6fd8d2ca17a180786b69acc140d282b71a49"
  },
  "kernelspec": {
   "display_name": "Python 3.9.1 64-bit",
   "language": "python",
   "name": "python3"
  },
  "language_info": {
   "codemirror_mode": {
    "name": "ipython",
    "version": 3
   },
   "file_extension": ".py",
   "mimetype": "text/x-python",
   "name": "python",
   "nbconvert_exporter": "python",
   "pygments_lexer": "ipython3",
   "version": "3.9.1"
  },
  "orig_nbformat": 4
 },
 "nbformat": 4,
 "nbformat_minor": 2
}
