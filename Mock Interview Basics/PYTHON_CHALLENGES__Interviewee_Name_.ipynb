{
  "cells": [
    {
      "cell_type": "markdown",
      "metadata": {
        "id": "wprhiQtnvplf"
      },
      "source": [
        "## Question 1\n",
        "**[6 MARKS]**\n",
        "\n",
        "* Write a function that accepts a `List` of integers as a parameter and then finds and **returns** the maximum value in the list.  \n",
        "* Print the result to the screen.\n",
        "* You should not use the built-in python `max` function.\n",
        "\n",
        "**Input data:**\n",
        "\n",
        "* Create a `List` of integer values \n",
        "\n",
        "```python\n",
        "to_search = [0, 1000, 2, 999, 5, 100, 54]  \n",
        "```\n",
        "**Expected Output**\n",
        "* 1000\n",
        "\n",
        "\n",
        "\n"
      ]
    },
    {
      "cell_type": "code",
      "execution_count": 2,
      "metadata": {
        "id": "ByZBNg-xv3tA"
      },
      "outputs": [],
      "source": [
        "# let's create a funnction that takes in a list of numbers and returns the maximum of all the numbers in the list\n",
        "\n",
        "li = [1,2,3,4,5,6,7,8,9,10, 11, 12, 13, 14, 15, 16, 17, 18, 19, 20]\n",
        "\n",
        "def max_list_iter(int_list):\n",
        "    \"\"\"\n",
        "    Assumes that int_list is a list of integers\n",
        "    Returns the largest integer in int_list\n",
        "    \"\"\"\n",
        "    if len(int_list) == 0:\n",
        "        return None\n",
        "    else:\n",
        "        max_num = int_list[0]\n",
        "        for i in int_list:\n",
        "            if i > max_num:\n",
        "                max_num = i\n",
        "        return max_num"
      ]
    },
    {
      "cell_type": "code",
      "execution_count": 3,
      "metadata": {},
      "outputs": [
        {
          "data": {
            "text/plain": [
              "20"
            ]
          },
          "execution_count": 3,
          "metadata": {},
          "output_type": "execute_result"
        }
      ],
      "source": [
        "max_list_iter(li)"
      ]
    },
    {
      "cell_type": "markdown",
      "metadata": {
        "id": "Il2_1sJCvVR6"
      },
      "source": [
        "## Question 2\n",
        "\n",
        "**[5 marks]**\n",
        "\n",
        "The variable `list_of_lists` represents a multi-dimensional array i.e. it is a list containing smaller lists. \n",
        "\n",
        "```python\n",
        "list_of_lists = [[8, 2, 1], [9, 1, 2], [4, 5, 100]]\n",
        "```\n",
        "\n",
        "Code a python programme to **flatten** the list. The output of your programme should be a 1 dimensional list i.e.\n",
        "\n",
        "```\n",
        "result = [8, 2, 1, 9, 1, 2, 4, 5, 100]\n",
        "```\n"
      ]
    },
    {
      "cell_type": "code",
      "execution_count": 5,
      "metadata": {
        "id": "U5SOel5J2QLn"
      },
      "outputs": [],
      "source": [
        "# let's create a function that takes in a miltidimensional list and returns a flattened list\n",
        "\n",
        "list_2 = [[8, 2, 1], [9, 1, 2], [4, 5, 100]]\n",
        "\n",
        "def flatten(variable):\n",
        "    \"\"\"\n",
        "    Assumes li is a list of lists\n",
        "    Returns a flattened list\n",
        "    \"\"\"\n",
        "    if len(variable) == 0:\n",
        "        return []\n",
        "    else:\n",
        "        if isinstance(variable[0], list):\n",
        "            return flatten(variable[0]) + flatten(variable[1:])\n",
        "        else:\n",
        "            return [variable[0]] + flatten(variable[1:])"
      ]
    },
    {
      "cell_type": "code",
      "execution_count": 6,
      "metadata": {},
      "outputs": [
        {
          "data": {
            "text/plain": [
              "[8, 2, 1, 9, 1, 2, 4, 5, 100]"
            ]
          },
          "execution_count": 6,
          "metadata": {},
          "output_type": "execute_result"
        }
      ],
      "source": [
        "flatten(list_2)"
      ]
    },
    {
      "cell_type": "markdown",
      "metadata": {
        "id": "d9GB3_ew055g"
      },
      "source": [
        "## Question 3\n",
        "\n",
        "**[6 marks]**\n",
        "\n",
        "You are given a list of comics:\n",
        "\n",
        "```python\n",
        "comics = ['Iron-man', 'Captain America', 'Spider-man', 'Thor', 'Deadpool']\n",
        "```\n",
        "\n",
        "**Tasks:**\n",
        "\n",
        "* slice and then print the first and second list items\n",
        "* slices and the print the second to fourth list items\n",
        "* slice and then print the fourth and fifth list items\n",
        "* append \"Doctor Strange\" to the list. Print the updated list\n",
        "* insert \"Headpool\" before \"Deadpool\" in the list.  Print the updated list\n",
        "* delete \"Iron-man\". Print the updated list\n"
      ]
    },
    {
      "cell_type": "code",
      "execution_count": 13,
      "metadata": {},
      "outputs": [],
      "source": [
        "comics = ['Iron-man', 'Captain America', 'Spider-man', 'Thor', 'Deadpool']"
      ]
    },
    {
      "cell_type": "code",
      "execution_count": 14,
      "metadata": {
        "id": "Oy7B16Bi2UUn"
      },
      "outputs": [],
      "source": [
        "# let's create a function to slice a list and return the first and second elements\n",
        "\n",
        "def slice_list(list_var, start, end):\n",
        "    \"\"\"\n",
        "    Assumes list_var is a list\n",
        "    Returns a list of elements from list_var between start and end\n",
        "    \"\"\"\n",
        "    if start == end:\n",
        "        return []\n",
        "    else:\n",
        "        return [list_var[start]] + slice_list(list_var, start + 1, end)\n"
      ]
    },
    {
      "cell_type": "code",
      "execution_count": 19,
      "metadata": {},
      "outputs": [
        {
          "data": {
            "text/plain": [
              "['Iron-man', 'Captain America']"
            ]
          },
          "execution_count": 19,
          "metadata": {},
          "output_type": "execute_result"
        }
      ],
      "source": [
        "# let's call the function and print the result\n",
        "slice_list(comics, 0, 2)"
      ]
    },
    {
      "cell_type": "code",
      "execution_count": 21,
      "metadata": {},
      "outputs": [
        {
          "data": {
            "text/plain": [
              "['Captain America', 'Spider-man', 'Thor']"
            ]
          },
          "execution_count": 21,
          "metadata": {},
          "output_type": "execute_result"
        }
      ],
      "source": [
        "# let's print the second to  fourth elements of the list\n",
        "slice_list(comics, 1, 4)"
      ]
    },
    {
      "cell_type": "code",
      "execution_count": 22,
      "metadata": {},
      "outputs": [
        {
          "data": {
            "text/plain": [
              "['Thor', 'Deadpool']"
            ]
          },
          "execution_count": 22,
          "metadata": {},
          "output_type": "execute_result"
        }
      ],
      "source": [
        "# let's slice and print the fourth and fifth elements of the list\n",
        "slice_list(comics, 3, 5)"
      ]
    },
    {
      "cell_type": "code",
      "execution_count": 23,
      "metadata": {},
      "outputs": [
        {
          "name": "stdout",
          "output_type": "stream",
          "text": [
            "['Iron-man', 'Captain America', 'Spider-man', 'Thor', 'Deadpool', 'Doctor Strange']\n"
          ]
        }
      ],
      "source": [
        "# let's append \"Doctor Strange\" to the list and print the list\n",
        "comics.append('Doctor Strange')\n",
        "print(comics)"
      ]
    },
    {
      "cell_type": "code",
      "execution_count": 24,
      "metadata": {},
      "outputs": [
        {
          "name": "stdout",
          "output_type": "stream",
          "text": [
            "['Iron-man', 'Captain America', 'Spider-man', 'Thor', 'Headpool', 'Deadpool', 'Doctor Strange']\n"
          ]
        }
      ],
      "source": [
        "# let's insert \"Headpool\" before \"Deadpool\" and print the list\n",
        "comics.insert(4, 'Headpool')\n",
        "print(comics)"
      ]
    },
    {
      "cell_type": "code",
      "execution_count": 25,
      "metadata": {},
      "outputs": [
        {
          "name": "stdout",
          "output_type": "stream",
          "text": [
            "['Captain America', 'Spider-man', 'Thor', 'Headpool', 'Deadpool', 'Doctor Strange']\n"
          ]
        }
      ],
      "source": [
        "# let's delete \"Iron-man\" from the list and print the list\n",
        "comics.remove(\"Iron-man\")\n",
        "print(comics)"
      ]
    }
  ],
  "metadata": {
    "colab": {
      "name": "PYTHON CHALLENGES_<Interviewee Name>.ipynb",
      "provenance": []
    },
    "kernelspec": {
      "display_name": "Python 3.9.1 64-bit",
      "language": "python",
      "name": "python3"
    },
    "language_info": {
      "codemirror_mode": {
        "name": "ipython",
        "version": 3
      },
      "file_extension": ".py",
      "mimetype": "text/x-python",
      "name": "python",
      "nbconvert_exporter": "python",
      "pygments_lexer": "ipython3",
      "version": "3.9.1"
    },
    "vscode": {
      "interpreter": {
        "hash": "aee8b7b246df8f9039afb4144a1f6fd8d2ca17a180786b69acc140d282b71a49"
      }
    }
  },
  "nbformat": 4,
  "nbformat_minor": 0
}
