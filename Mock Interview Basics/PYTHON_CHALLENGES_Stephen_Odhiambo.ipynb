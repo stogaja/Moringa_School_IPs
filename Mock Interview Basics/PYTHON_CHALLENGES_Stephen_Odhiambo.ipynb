{
  "nbformat": 4,
  "nbformat_minor": 0,
  "metadata": {
    "colab": {
      "name": "Copy of PYTHON CHALLENGES_Stephen_Odhiambo.ipynb",
      "provenance": [],
      "collapsed_sections": []
    },
    "kernelspec": {
      "name": "python3",
      "display_name": "Python 3"
    },
    "language_info": {
      "name": "python"
    }
  },
  "cells": [
    {
      "cell_type": "markdown",
      "source": [
        "## Question 1\n",
        "**[6 MARKS]**\n",
        "\n",
        "* Write a function that accepts a `List` of integers as a parameter and then finds and **returns** the maximum value in the list.  \n",
        "* Print the result to the screen.\n",
        "* You should not use the built-in python `max` function.\n",
        "\n",
        "**Input data:**\n",
        "\n",
        "* Create a `List` of integer values \n",
        "\n",
        "```python\n",
        "to_search = [0, 1000, 2, 999, 5, 100, 54]  \n",
        "```\n",
        "**Expected Output**\n",
        "* 1000\n",
        "\n",
        "\n",
        "\n"
      ],
      "metadata": {
        "id": "wprhiQtnvplf"
      }
    },
    {
      "cell_type": "code",
      "source": [
        "# let's create a funnction that takes in a list of numbers and returns the maximum of all the numbers in the list\n",
        "\n",
        "li = [1,2,3,4,5,6,7,8,9,10, 11, 12, 13, 14, 15, 16, 17, 18, 19, 20]\n",
        "\n",
        "def max_list_iter(int_list):\n",
        "    \"\"\"\n",
        "    Assumes that int_list is a list of integers\n",
        "    Returns the largest integer in int_list\n",
        "    \"\"\"\n",
        "    if len(int_list) == 0:\n",
        "        return None\n",
        "    else:\n",
        "        max_num = int_list[0]\n",
        "        for i in int_list:\n",
        "            if i > max_num:\n",
        "                max_num = i\n",
        "        return max_num"
      ],
      "metadata": {
        "id": "ByZBNg-xv3tA"
      },
      "execution_count": 1,
      "outputs": []
    },
    {
      "cell_type": "code",
      "source": [
        "max_list_iter(li)"
      ],
      "metadata": {
        "colab": {
          "base_uri": "https://localhost:8080/"
        },
        "id": "_4Jj1D0_5SYh",
        "outputId": "028a2303-16c9-440e-ece8-60f5d13c55f6"
      },
      "execution_count": 2,
      "outputs": [
        {
          "output_type": "execute_result",
          "data": {
            "text/plain": [
              "20"
            ]
          },
          "metadata": {},
          "execution_count": 2
        }
      ]
    },
    {
      "cell_type": "markdown",
      "source": [
        "## Question 2\n",
        "\n",
        "**[5 marks]**\n",
        "\n",
        "The variable `list_of_lists` represents a multi-dimensional array i.e. it is a list containing smaller lists. \n",
        "\n",
        "```python\n",
        "list_of_lists = [[8, 2, 1], [9, 1, 2], [4, 5, 100]]\n",
        "```\n",
        "\n",
        "Code a python programme to **flatten** the list. The output of your programme should be a 1 dimensional list i.e.\n",
        "\n",
        "```\n",
        "result = [8, 2, 1, 9, 1, 2, 4, 5, 100]\n",
        "```\n"
      ],
      "metadata": {
        "id": "Il2_1sJCvVR6"
      }
    },
    {
      "cell_type": "code",
      "source": [
        "# let's create a function that takes in a miltidimensional list and returns a flattened list\n",
        "\n",
        "list_2 = [[8, 2, 1], [9, 1, 2], [4, 5, 100]]\n",
        "\n",
        "def flatten(variable):\n",
        "    \"\"\"\n",
        "    Assumes li is a list of lists\n",
        "    Returns a flattened list\n",
        "    \"\"\"\n",
        "    if len(variable) == 0:\n",
        "        return []\n",
        "    else:\n",
        "        if isinstance(variable[0], list):\n",
        "            return flatten(variable[0]) + flatten(variable[1:])\n",
        "        else:\n",
        "            return [variable[0]] + flatten(variable[1:])"
      ],
      "metadata": {
        "id": "U5SOel5J2QLn"
      },
      "execution_count": 3,
      "outputs": []
    },
    {
      "cell_type": "code",
      "source": [
        "flatten(list_2)"
      ],
      "metadata": {
        "colab": {
          "base_uri": "https://localhost:8080/"
        },
        "id": "6SyWnnzG5ZwE",
        "outputId": "5dbdafc9-78a3-49fa-ddf7-b4278ff011cd"
      },
      "execution_count": 4,
      "outputs": [
        {
          "output_type": "execute_result",
          "data": {
            "text/plain": [
              "[8, 2, 1, 9, 1, 2, 4, 5, 100]"
            ]
          },
          "metadata": {},
          "execution_count": 4
        }
      ]
    },
    {
      "cell_type": "markdown",
      "source": [
        "## Question 3\n",
        "\n",
        "**[6 marks]**\n",
        "\n",
        "You are given a list of comics:\n",
        "\n",
        "```python\n",
        "comics = ['Iron-man', 'Captain America', 'Spider-man', 'Thor', 'Deadpool']\n",
        "```\n",
        "\n",
        "**Tasks:**\n",
        "\n",
        "* slice and then print the first and second list items\n",
        "* slices and the print the second to fourth list items\n",
        "* slice and then print the fourth and fifth list items\n",
        "* append \"Doctor Strange\" to the list. Print the updated list\n",
        "* insert \"Headpool\" before \"Deadpool\" in the list.  Print the updated list\n",
        "* delete \"Iron-man\". Print the updated list\n"
      ],
      "metadata": {
        "id": "d9GB3_ew055g"
      }
    },
    {
      "cell_type": "code",
      "source": [
        "comics = ['Iron-man', 'Captain America', 'Spider-man', 'Thor', 'Deadpool']\n",
        "\n",
        "# let's create a function to slice a list and return the first and second elements\n",
        "\n",
        "def slice_list(list_var, start, end):\n",
        "    \"\"\"\n",
        "    Assumes list_var is a list\n",
        "    Returns a list of elements from list_var between start and end\n",
        "    \"\"\"\n",
        "    if start == end:\n",
        "        return []\n",
        "    else:\n",
        "        return [list_var[start]] + slice_list(list_var, start + 1, end)\n"
      ],
      "metadata": {
        "id": "Oy7B16Bi2UUn"
      },
      "execution_count": 5,
      "outputs": []
    },
    {
      "cell_type": "code",
      "source": [
        "# let's call the function and print the result\n",
        "slice_list(comics, 0, 2)"
      ],
      "metadata": {
        "colab": {
          "base_uri": "https://localhost:8080/"
        },
        "id": "HQ-DIeht5jNt",
        "outputId": "390791ed-db8b-4197-d1a1-ce602a2208df"
      },
      "execution_count": 6,
      "outputs": [
        {
          "output_type": "execute_result",
          "data": {
            "text/plain": [
              "['Iron-man', 'Captain America']"
            ]
          },
          "metadata": {},
          "execution_count": 6
        }
      ]
    },
    {
      "cell_type": "code",
      "source": [
        "# let's print the second to  fourth elements of the list\n",
        "slice_list(comics, 1, 4)"
      ],
      "metadata": {
        "colab": {
          "base_uri": "https://localhost:8080/"
        },
        "id": "UjAkoRYr5l5D",
        "outputId": "26f454ef-2f8c-4ec0-bde3-36abe61d67ad"
      },
      "execution_count": 7,
      "outputs": [
        {
          "output_type": "execute_result",
          "data": {
            "text/plain": [
              "['Captain America', 'Spider-man', 'Thor']"
            ]
          },
          "metadata": {},
          "execution_count": 7
        }
      ]
    },
    {
      "cell_type": "code",
      "source": [
        "# let's slice and print the fourth and fifth elements of the list\n",
        "slice_list(comics, 3, 5)"
      ],
      "metadata": {
        "colab": {
          "base_uri": "https://localhost:8080/"
        },
        "id": "tWLWG-d05pAc",
        "outputId": "edf6c1a1-e0f9-45c5-f43e-fbf523dadeb9"
      },
      "execution_count": 8,
      "outputs": [
        {
          "output_type": "execute_result",
          "data": {
            "text/plain": [
              "['Thor', 'Deadpool']"
            ]
          },
          "metadata": {},
          "execution_count": 8
        }
      ]
    },
    {
      "cell_type": "code",
      "source": [
        "# let's append \"Doctor Strange\" to the list and print the list\n",
        "comics.append('Doctor Strange')\n",
        "print(comics)"
      ],
      "metadata": {
        "colab": {
          "base_uri": "https://localhost:8080/"
        },
        "id": "7lfKKJhE5sFT",
        "outputId": "59a5cd4a-3938-4f3e-b68d-251c83a18edf"
      },
      "execution_count": 9,
      "outputs": [
        {
          "output_type": "stream",
          "name": "stdout",
          "text": [
            "['Iron-man', 'Captain America', 'Spider-man', 'Thor', 'Deadpool', 'Doctor Strange']\n"
          ]
        }
      ]
    },
    {
      "cell_type": "code",
      "source": [
        "# let's insert \"Headpool\" before \"Deadpool\" and print the list\n",
        "comics.insert(4, 'Headpool')\n",
        "print(comics)"
      ],
      "metadata": {
        "colab": {
          "base_uri": "https://localhost:8080/"
        },
        "id": "Xujrz-en5vR0",
        "outputId": "715772db-3193-495c-ddcf-b151e4d3b149"
      },
      "execution_count": 10,
      "outputs": [
        {
          "output_type": "stream",
          "name": "stdout",
          "text": [
            "['Iron-man', 'Captain America', 'Spider-man', 'Thor', 'Headpool', 'Deadpool', 'Doctor Strange']\n"
          ]
        }
      ]
    },
    {
      "cell_type": "code",
      "source": [
        "# let's delete \"Iron-man\" from the list and print the list\n",
        "comics.remove(\"Iron-man\")\n",
        "print(comics)"
      ],
      "metadata": {
        "colab": {
          "base_uri": "https://localhost:8080/"
        },
        "id": "8XtFA1LX5xEg",
        "outputId": "2bd46b14-dcf7-4db3-ffb9-e6f1c29dfa12"
      },
      "execution_count": 11,
      "outputs": [
        {
          "output_type": "stream",
          "name": "stdout",
          "text": [
            "['Captain America', 'Spider-man', 'Thor', 'Headpool', 'Deadpool', 'Doctor Strange']\n"
          ]
        }
      ]
    }
  ]
}