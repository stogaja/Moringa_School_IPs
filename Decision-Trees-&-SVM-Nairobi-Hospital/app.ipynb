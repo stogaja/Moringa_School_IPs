{
 "cells": [
  {
   "cell_type": "markdown",
   "metadata": {},
   "source": [
    "### 1. Defining the Question"
   ]
  },
  {
   "cell_type": "markdown",
   "metadata": {},
   "source": [
    "##### a) Specifying the Question"
   ]
  },
  {
   "cell_type": "markdown",
   "metadata": {},
   "source": [
    "##### b) Defining the Metric for Success"
   ]
  },
  {
   "cell_type": "markdown",
   "metadata": {},
   "source": [
    "##### c) Understanding the Context"
   ]
  },
  {
   "cell_type": "markdown",
   "metadata": {},
   "source": [
    "##### d) Recording the Experimental Design"
   ]
  },
  {
   "cell_type": "markdown",
   "metadata": {},
   "source": [
    "##### e) Data Relevance"
   ]
  },
  {
   "cell_type": "markdown",
   "metadata": {},
   "source": [
    "### 2. Reading Data"
   ]
  },
  {
   "cell_type": "code",
   "execution_count": 1,
   "metadata": {},
   "outputs": [],
   "source": [
    "# let's import the libraries we need\n",
    "from warnings import filterwarnings\n",
    "import pandas as pd\n",
    "import numpy as np\n",
    "from sklearn.tree import DecisionTreeClassifier\n",
    "from sklearn.ensemble import RandomForestClassifier\n",
    "from sklearn.ensemble import GradientBoostingClassifier\n",
    "from sklearn.model_selection import GridSearchCV, RandomizedSearchCV\n",
    "from sklearn.tree import export_graphviz\n",
    "from six import StringIO\n",
    "from IPython.display import Image\n",
    "import pydotplus\n",
    "import matplotlib.pyplot as plt\n",
    "import seaborn as sns\n",
    "from sklearn.model_selection import train_test_split\n",
    "from sklearn.feature_selection import SelectFromModel\n",
    "from sklearn.preprocessing import StandardScaler, LabelEncoder\n",
    "from sklearn.discriminant_analysis import LinearDiscriminantAnalysis as LDA\n",
    "from sklearn.model_selection import train_test_split\n",
    "from sklearn.metrics import mean_squared_error, r2_score, f1_score, precision_score, recall_score, classification_report\n",
    "from sklearn.metrics import accuracy_score\n",
    "from sklearn.metrics import confusion_matrix\n",
    "from sklearn.tree import DecisionTreeClassifier\n",
    "from sklearn.svm import SVC\n",
    "from scipy.stats import bartlett\n",
    "from scipy.stats import levene\n",
    "from scipy.stats import shapiro\n",
    "from scipy.stats import normaltest\n",
    "filterwarnings('ignore')\n",
    "%matplotlib inline"
   ]
  },
  {
   "cell_type": "markdown",
   "metadata": {},
   "source": [
    "##### a) Reading the Data"
   ]
  },
  {
   "cell_type": "code",
   "execution_count": 57,
   "metadata": {},
   "outputs": [],
   "source": [
    "# let's import the dataset\n",
    "Hypothyroid = pd.read_csv('hypothyroid.csv')"
   ]
  },
  {
   "cell_type": "markdown",
   "metadata": {},
   "source": [
    "##### b) Checking the Data"
   ]
  },
  {
   "cell_type": "code",
   "execution_count": 58,
   "metadata": {},
   "outputs": [
    {
     "data": {
      "text/html": [
       "<div>\n",
       "<style scoped>\n",
       "    .dataframe tbody tr th:only-of-type {\n",
       "        vertical-align: middle;\n",
       "    }\n",
       "\n",
       "    .dataframe tbody tr th {\n",
       "        vertical-align: top;\n",
       "    }\n",
       "\n",
       "    .dataframe thead th {\n",
       "        text-align: right;\n",
       "    }\n",
       "</style>\n",
       "<table border=\"1\" class=\"dataframe\">\n",
       "  <thead>\n",
       "    <tr style=\"text-align: right;\">\n",
       "      <th></th>\n",
       "      <th>status</th>\n",
       "      <th>age</th>\n",
       "      <th>sex</th>\n",
       "      <th>on_thyroxine</th>\n",
       "      <th>query_on_thyroxine</th>\n",
       "      <th>on_antithyroid_medication</th>\n",
       "      <th>thyroid_surgery</th>\n",
       "      <th>query_hypothyroid</th>\n",
       "      <th>query_hyperthyroid</th>\n",
       "      <th>pregnant</th>\n",
       "      <th>...</th>\n",
       "      <th>T3_measured</th>\n",
       "      <th>T3</th>\n",
       "      <th>TT4_measured</th>\n",
       "      <th>TT4</th>\n",
       "      <th>T4U_measured</th>\n",
       "      <th>T4U</th>\n",
       "      <th>FTI_measured</th>\n",
       "      <th>FTI</th>\n",
       "      <th>TBG_measured</th>\n",
       "      <th>TBG</th>\n",
       "    </tr>\n",
       "  </thead>\n",
       "  <tbody>\n",
       "    <tr>\n",
       "      <th>0</th>\n",
       "      <td>hypothyroid</td>\n",
       "      <td>72</td>\n",
       "      <td>M</td>\n",
       "      <td>f</td>\n",
       "      <td>f</td>\n",
       "      <td>f</td>\n",
       "      <td>f</td>\n",
       "      <td>f</td>\n",
       "      <td>f</td>\n",
       "      <td>f</td>\n",
       "      <td>...</td>\n",
       "      <td>y</td>\n",
       "      <td>0.60</td>\n",
       "      <td>y</td>\n",
       "      <td>15</td>\n",
       "      <td>y</td>\n",
       "      <td>1.48</td>\n",
       "      <td>y</td>\n",
       "      <td>10</td>\n",
       "      <td>n</td>\n",
       "      <td>?</td>\n",
       "    </tr>\n",
       "    <tr>\n",
       "      <th>1</th>\n",
       "      <td>hypothyroid</td>\n",
       "      <td>15</td>\n",
       "      <td>F</td>\n",
       "      <td>t</td>\n",
       "      <td>f</td>\n",
       "      <td>f</td>\n",
       "      <td>f</td>\n",
       "      <td>f</td>\n",
       "      <td>f</td>\n",
       "      <td>f</td>\n",
       "      <td>...</td>\n",
       "      <td>y</td>\n",
       "      <td>1.70</td>\n",
       "      <td>y</td>\n",
       "      <td>19</td>\n",
       "      <td>y</td>\n",
       "      <td>1.13</td>\n",
       "      <td>y</td>\n",
       "      <td>17</td>\n",
       "      <td>n</td>\n",
       "      <td>?</td>\n",
       "    </tr>\n",
       "    <tr>\n",
       "      <th>2</th>\n",
       "      <td>hypothyroid</td>\n",
       "      <td>24</td>\n",
       "      <td>M</td>\n",
       "      <td>f</td>\n",
       "      <td>f</td>\n",
       "      <td>f</td>\n",
       "      <td>f</td>\n",
       "      <td>f</td>\n",
       "      <td>f</td>\n",
       "      <td>f</td>\n",
       "      <td>...</td>\n",
       "      <td>y</td>\n",
       "      <td>0.20</td>\n",
       "      <td>y</td>\n",
       "      <td>4</td>\n",
       "      <td>y</td>\n",
       "      <td>1</td>\n",
       "      <td>y</td>\n",
       "      <td>0</td>\n",
       "      <td>n</td>\n",
       "      <td>?</td>\n",
       "    </tr>\n",
       "    <tr>\n",
       "      <th>3</th>\n",
       "      <td>hypothyroid</td>\n",
       "      <td>24</td>\n",
       "      <td>F</td>\n",
       "      <td>f</td>\n",
       "      <td>f</td>\n",
       "      <td>f</td>\n",
       "      <td>f</td>\n",
       "      <td>f</td>\n",
       "      <td>f</td>\n",
       "      <td>f</td>\n",
       "      <td>...</td>\n",
       "      <td>y</td>\n",
       "      <td>0.40</td>\n",
       "      <td>y</td>\n",
       "      <td>6</td>\n",
       "      <td>y</td>\n",
       "      <td>1.04</td>\n",
       "      <td>y</td>\n",
       "      <td>6</td>\n",
       "      <td>n</td>\n",
       "      <td>?</td>\n",
       "    </tr>\n",
       "    <tr>\n",
       "      <th>4</th>\n",
       "      <td>hypothyroid</td>\n",
       "      <td>77</td>\n",
       "      <td>M</td>\n",
       "      <td>f</td>\n",
       "      <td>f</td>\n",
       "      <td>f</td>\n",
       "      <td>f</td>\n",
       "      <td>f</td>\n",
       "      <td>f</td>\n",
       "      <td>f</td>\n",
       "      <td>...</td>\n",
       "      <td>y</td>\n",
       "      <td>1.20</td>\n",
       "      <td>y</td>\n",
       "      <td>57</td>\n",
       "      <td>y</td>\n",
       "      <td>1.28</td>\n",
       "      <td>y</td>\n",
       "      <td>44</td>\n",
       "      <td>n</td>\n",
       "      <td>?</td>\n",
       "    </tr>\n",
       "  </tbody>\n",
       "</table>\n",
       "<p>5 rows × 26 columns</p>\n",
       "</div>"
      ],
      "text/plain": [
       "        status age sex on_thyroxine query_on_thyroxine  \\\n",
       "0  hypothyroid  72   M            f                  f   \n",
       "1  hypothyroid  15   F            t                  f   \n",
       "2  hypothyroid  24   M            f                  f   \n",
       "3  hypothyroid  24   F            f                  f   \n",
       "4  hypothyroid  77   M            f                  f   \n",
       "\n",
       "  on_antithyroid_medication thyroid_surgery query_hypothyroid  \\\n",
       "0                         f               f                 f   \n",
       "1                         f               f                 f   \n",
       "2                         f               f                 f   \n",
       "3                         f               f                 f   \n",
       "4                         f               f                 f   \n",
       "\n",
       "  query_hyperthyroid pregnant  ... T3_measured    T3 TT4_measured TT4  \\\n",
       "0                  f        f  ...           y  0.60            y  15   \n",
       "1                  f        f  ...           y  1.70            y  19   \n",
       "2                  f        f  ...           y  0.20            y   4   \n",
       "3                  f        f  ...           y  0.40            y   6   \n",
       "4                  f        f  ...           y  1.20            y  57   \n",
       "\n",
       "  T4U_measured   T4U FTI_measured FTI TBG_measured TBG  \n",
       "0            y  1.48            y  10            n   ?  \n",
       "1            y  1.13            y  17            n   ?  \n",
       "2            y     1            y   0            n   ?  \n",
       "3            y  1.04            y   6            n   ?  \n",
       "4            y  1.28            y  44            n   ?  \n",
       "\n",
       "[5 rows x 26 columns]"
      ]
     },
     "execution_count": 58,
     "metadata": {},
     "output_type": "execute_result"
    }
   ],
   "source": [
    "# let's check the top 5 rows of the dataset\n",
    "Hypothyroid.head()"
   ]
  },
  {
   "cell_type": "code",
   "execution_count": 59,
   "metadata": {},
   "outputs": [
    {
     "data": {
      "text/html": [
       "<div>\n",
       "<style scoped>\n",
       "    .dataframe tbody tr th:only-of-type {\n",
       "        vertical-align: middle;\n",
       "    }\n",
       "\n",
       "    .dataframe tbody tr th {\n",
       "        vertical-align: top;\n",
       "    }\n",
       "\n",
       "    .dataframe thead th {\n",
       "        text-align: right;\n",
       "    }\n",
       "</style>\n",
       "<table border=\"1\" class=\"dataframe\">\n",
       "  <thead>\n",
       "    <tr style=\"text-align: right;\">\n",
       "      <th></th>\n",
       "      <th>status</th>\n",
       "      <th>age</th>\n",
       "      <th>sex</th>\n",
       "      <th>on_thyroxine</th>\n",
       "      <th>query_on_thyroxine</th>\n",
       "      <th>on_antithyroid_medication</th>\n",
       "      <th>thyroid_surgery</th>\n",
       "      <th>query_hypothyroid</th>\n",
       "      <th>query_hyperthyroid</th>\n",
       "      <th>pregnant</th>\n",
       "      <th>...</th>\n",
       "      <th>T3_measured</th>\n",
       "      <th>T3</th>\n",
       "      <th>TT4_measured</th>\n",
       "      <th>TT4</th>\n",
       "      <th>T4U_measured</th>\n",
       "      <th>T4U</th>\n",
       "      <th>FTI_measured</th>\n",
       "      <th>FTI</th>\n",
       "      <th>TBG_measured</th>\n",
       "      <th>TBG</th>\n",
       "    </tr>\n",
       "  </thead>\n",
       "  <tbody>\n",
       "    <tr>\n",
       "      <th>3158</th>\n",
       "      <td>negative</td>\n",
       "      <td>58</td>\n",
       "      <td>F</td>\n",
       "      <td>f</td>\n",
       "      <td>f</td>\n",
       "      <td>f</td>\n",
       "      <td>f</td>\n",
       "      <td>f</td>\n",
       "      <td>f</td>\n",
       "      <td>f</td>\n",
       "      <td>...</td>\n",
       "      <td>y</td>\n",
       "      <td>1.70</td>\n",
       "      <td>y</td>\n",
       "      <td>86</td>\n",
       "      <td>y</td>\n",
       "      <td>0.91</td>\n",
       "      <td>y</td>\n",
       "      <td>95</td>\n",
       "      <td>n</td>\n",
       "      <td>?</td>\n",
       "    </tr>\n",
       "    <tr>\n",
       "      <th>3159</th>\n",
       "      <td>negative</td>\n",
       "      <td>29</td>\n",
       "      <td>F</td>\n",
       "      <td>f</td>\n",
       "      <td>f</td>\n",
       "      <td>f</td>\n",
       "      <td>f</td>\n",
       "      <td>f</td>\n",
       "      <td>f</td>\n",
       "      <td>f</td>\n",
       "      <td>...</td>\n",
       "      <td>y</td>\n",
       "      <td>1.80</td>\n",
       "      <td>y</td>\n",
       "      <td>99</td>\n",
       "      <td>y</td>\n",
       "      <td>1.01</td>\n",
       "      <td>y</td>\n",
       "      <td>98</td>\n",
       "      <td>n</td>\n",
       "      <td>?</td>\n",
       "    </tr>\n",
       "    <tr>\n",
       "      <th>3160</th>\n",
       "      <td>negative</td>\n",
       "      <td>77</td>\n",
       "      <td>M</td>\n",
       "      <td>f</td>\n",
       "      <td>f</td>\n",
       "      <td>f</td>\n",
       "      <td>f</td>\n",
       "      <td>f</td>\n",
       "      <td>f</td>\n",
       "      <td>f</td>\n",
       "      <td>...</td>\n",
       "      <td>y</td>\n",
       "      <td>0.60</td>\n",
       "      <td>y</td>\n",
       "      <td>71</td>\n",
       "      <td>y</td>\n",
       "      <td>0.68</td>\n",
       "      <td>y</td>\n",
       "      <td>104</td>\n",
       "      <td>n</td>\n",
       "      <td>?</td>\n",
       "    </tr>\n",
       "    <tr>\n",
       "      <th>3161</th>\n",
       "      <td>negative</td>\n",
       "      <td>74</td>\n",
       "      <td>F</td>\n",
       "      <td>f</td>\n",
       "      <td>f</td>\n",
       "      <td>f</td>\n",
       "      <td>f</td>\n",
       "      <td>f</td>\n",
       "      <td>f</td>\n",
       "      <td>f</td>\n",
       "      <td>...</td>\n",
       "      <td>y</td>\n",
       "      <td>0.10</td>\n",
       "      <td>y</td>\n",
       "      <td>65</td>\n",
       "      <td>y</td>\n",
       "      <td>0.48</td>\n",
       "      <td>y</td>\n",
       "      <td>137</td>\n",
       "      <td>n</td>\n",
       "      <td>?</td>\n",
       "    </tr>\n",
       "    <tr>\n",
       "      <th>3162</th>\n",
       "      <td>negative</td>\n",
       "      <td>56</td>\n",
       "      <td>F</td>\n",
       "      <td>t</td>\n",
       "      <td>f</td>\n",
       "      <td>f</td>\n",
       "      <td>f</td>\n",
       "      <td>f</td>\n",
       "      <td>f</td>\n",
       "      <td>f</td>\n",
       "      <td>...</td>\n",
       "      <td>y</td>\n",
       "      <td>1.80</td>\n",
       "      <td>y</td>\n",
       "      <td>139</td>\n",
       "      <td>y</td>\n",
       "      <td>0.97</td>\n",
       "      <td>y</td>\n",
       "      <td>143</td>\n",
       "      <td>n</td>\n",
       "      <td>?</td>\n",
       "    </tr>\n",
       "  </tbody>\n",
       "</table>\n",
       "<p>5 rows × 26 columns</p>\n",
       "</div>"
      ],
      "text/plain": [
       "        status age sex on_thyroxine query_on_thyroxine  \\\n",
       "3158  negative  58   F            f                  f   \n",
       "3159  negative  29   F            f                  f   \n",
       "3160  negative  77   M            f                  f   \n",
       "3161  negative  74   F            f                  f   \n",
       "3162  negative  56   F            t                  f   \n",
       "\n",
       "     on_antithyroid_medication thyroid_surgery query_hypothyroid  \\\n",
       "3158                         f               f                 f   \n",
       "3159                         f               f                 f   \n",
       "3160                         f               f                 f   \n",
       "3161                         f               f                 f   \n",
       "3162                         f               f                 f   \n",
       "\n",
       "     query_hyperthyroid pregnant  ... T3_measured    T3 TT4_measured  TT4  \\\n",
       "3158                  f        f  ...           y  1.70            y   86   \n",
       "3159                  f        f  ...           y  1.80            y   99   \n",
       "3160                  f        f  ...           y  0.60            y   71   \n",
       "3161                  f        f  ...           y  0.10            y   65   \n",
       "3162                  f        f  ...           y  1.80            y  139   \n",
       "\n",
       "     T4U_measured   T4U FTI_measured  FTI TBG_measured TBG  \n",
       "3158            y  0.91            y   95            n   ?  \n",
       "3159            y  1.01            y   98            n   ?  \n",
       "3160            y  0.68            y  104            n   ?  \n",
       "3161            y  0.48            y  137            n   ?  \n",
       "3162            y  0.97            y  143            n   ?  \n",
       "\n",
       "[5 rows x 26 columns]"
      ]
     },
     "execution_count": 59,
     "metadata": {},
     "output_type": "execute_result"
    }
   ],
   "source": [
    "# let's preview the bottom 5 rows of the dataset\n",
    "Hypothyroid.tail()"
   ]
  },
  {
   "cell_type": "code",
   "execution_count": 60,
   "metadata": {},
   "outputs": [
    {
     "name": "stdout",
     "output_type": "stream",
     "text": [
      "The dataset has 3163 rows and 26 columns\n"
     ]
    }
   ],
   "source": [
    "# let's check the shape of the dataset\n",
    "print('The dataset has {} rows and {} columns'.format(Hypothyroid.shape[0], Hypothyroid.shape[1]))"
   ]
  },
  {
   "cell_type": "code",
   "execution_count": 61,
   "metadata": {},
   "outputs": [
    {
     "name": "stdout",
     "output_type": "stream",
     "text": [
      "<class 'pandas.core.frame.DataFrame'>\n",
      "RangeIndex: 3163 entries, 0 to 3162\n",
      "Data columns (total 26 columns):\n",
      " #   Column                     Non-Null Count  Dtype \n",
      "---  ------                     --------------  ----- \n",
      " 0   status                     3163 non-null   object\n",
      " 1   age                        3163 non-null   object\n",
      " 2   sex                        3163 non-null   object\n",
      " 3   on_thyroxine               3163 non-null   object\n",
      " 4   query_on_thyroxine         3163 non-null   object\n",
      " 5   on_antithyroid_medication  3163 non-null   object\n",
      " 6   thyroid_surgery            3163 non-null   object\n",
      " 7   query_hypothyroid          3163 non-null   object\n",
      " 8   query_hyperthyroid         3163 non-null   object\n",
      " 9   pregnant                   3163 non-null   object\n",
      " 10  sick                       3163 non-null   object\n",
      " 11  tumor                      3163 non-null   object\n",
      " 12  lithium                    3163 non-null   object\n",
      " 13  goitre                     3163 non-null   object\n",
      " 14  TSH_measured               3163 non-null   object\n",
      " 15  TSH                        3163 non-null   object\n",
      " 16  T3_measured                3163 non-null   object\n",
      " 17  T3                         3163 non-null   object\n",
      " 18  TT4_measured               3163 non-null   object\n",
      " 19  TT4                        3163 non-null   object\n",
      " 20  T4U_measured               3163 non-null   object\n",
      " 21  T4U                        3163 non-null   object\n",
      " 22  FTI_measured               3163 non-null   object\n",
      " 23  FTI                        3163 non-null   object\n",
      " 24  TBG_measured               3163 non-null   object\n",
      " 25  TBG                        3163 non-null   object\n",
      "dtypes: object(26)\n",
      "memory usage: 642.6+ KB\n"
     ]
    }
   ],
   "source": [
    "# let's see information about the dataframe\n",
    "Hypothyroid.info()"
   ]
  },
  {
   "cell_type": "code",
   "execution_count": 62,
   "metadata": {},
   "outputs": [
    {
     "data": {
      "text/plain": [
       "status                       object\n",
       "age                          object\n",
       "sex                          object\n",
       "on_thyroxine                 object\n",
       "query_on_thyroxine           object\n",
       "on_antithyroid_medication    object\n",
       "thyroid_surgery              object\n",
       "query_hypothyroid            object\n",
       "query_hyperthyroid           object\n",
       "pregnant                     object\n",
       "sick                         object\n",
       "tumor                        object\n",
       "lithium                      object\n",
       "goitre                       object\n",
       "TSH_measured                 object\n",
       "TSH                          object\n",
       "T3_measured                  object\n",
       "T3                           object\n",
       "TT4_measured                 object\n",
       "TT4                          object\n",
       "T4U_measured                 object\n",
       "T4U                          object\n",
       "FTI_measured                 object\n",
       "FTI                          object\n",
       "TBG_measured                 object\n",
       "TBG                          object\n",
       "dtype: object"
      ]
     },
     "execution_count": 62,
     "metadata": {},
     "output_type": "execute_result"
    }
   ],
   "source": [
    "# let's check the data types of the columns\n",
    "Hypothyroid.dtypes"
   ]
  },
  {
   "cell_type": "markdown",
   "metadata": {},
   "source": [
    "### 3. External Data Sources Validation"
   ]
  },
  {
   "cell_type": "markdown",
   "metadata": {},
   "source": [
    "### 4. Tidying the Dataframe"
   ]
  },
  {
   "cell_type": "code",
   "execution_count": 63,
   "metadata": {},
   "outputs": [
    {
     "data": {
      "text/plain": [
       "Index(['status', 'age', 'sex', 'on_thyroxine', 'query_on_thyroxine',\n",
       "       'on_antithyroid_medication', 'thyroid_surgery', 'query_hypothyroid',\n",
       "       'query_hyperthyroid', 'pregnant', 'sick', 'tumor', 'lithium', 'goitre',\n",
       "       'TSH_measured', 'TSH', 'T3_measured', 'T3', 'TT4_measured', 'TT4',\n",
       "       'T4U_measured', 'T4U', 'FTI_measured', 'FTI', 'TBG_measured', 'TBG'],\n",
       "      dtype='object')"
      ]
     },
     "execution_count": 63,
     "metadata": {},
     "output_type": "execute_result"
    }
   ],
   "source": [
    "# let's see the columns\n",
    "Hypothyroid.columns"
   ]
  },
  {
   "cell_type": "code",
   "execution_count": 64,
   "metadata": {},
   "outputs": [],
   "source": [
    "# let's replace all ? with NaN in the dataset\n",
    "Hypothyroid.replace('?', np.nan, inplace=True)"
   ]
  },
  {
   "cell_type": "code",
   "execution_count": 66,
   "metadata": {},
   "outputs": [
    {
     "name": "stdout",
     "output_type": "stream",
     "text": [
      "1. status = 0.0%\n",
      "2. age = 14.1005374644325%\n",
      "3. sex = 2.3079355042681002%\n",
      "4. on_thyroxine = 0.0%\n",
      "5. query_on_thyroxine = 0.0%\n",
      "6. on_antithyroid_medication = 0.0%\n",
      "7. thyroid_surgery = 0.0%\n",
      "8. query_hypothyroid = 0.0%\n",
      "9. query_hyperthyroid = 0.0%\n",
      "10. pregnant = 0.0%\n",
      "11. sick = 0.0%\n",
      "12. tumor = 0.0%\n",
      "13. lithium = 0.0%\n",
      "14. goitre = 0.0%\n",
      "15. TSH_measured = 0.0%\n",
      "16. TSH = 14.796079671198228%\n",
      "17. T3_measured = 0.0%\n",
      "18. T3 = 21.97281062282643%\n",
      "19. TT4_measured = 0.0%\n",
      "20. TT4 = 7.872273158393931%\n",
      "21. T4U_measured = 0.0%\n",
      "22. T4U = 7.840657603540942%\n",
      "23. FTI_measured = 0.0%\n",
      "24. FTI = 7.809042048687955%\n",
      "25. TBG_measured = 0.0%\n",
      "26. TBG = 91.77995573822321%\n"
     ]
    }
   ],
   "source": [
    "mising_columns = []\n",
    "for i, col in enumerate(Hypothyroid.columns):\n",
    "  missing = (Hypothyroid[col].isnull().sum()/Hypothyroid.shape[0])*100\n",
    "  if missing > 0:\n",
    "    mising_columns.append(col)\n",
    "  print(\n",
    "      f'{i+1}. {col} = {(Hypothyroid[col].isnull().sum()/Hypothyroid.shape[0])*100}%')\n"
   ]
  },
  {
   "cell_type": "code",
   "execution_count": 67,
   "metadata": {},
   "outputs": [],
   "source": [
    "# let's drop TBG\n",
    "Hypothyroid.drop(['TBG'], axis=1, inplace=True)"
   ]
  },
  {
   "cell_type": "markdown",
   "metadata": {},
   "source": [
    "> We dropped the TBG column because it had 92% missing values."
   ]
  },
  {
   "cell_type": "markdown",
   "metadata": {},
   "source": [
    "> We will foward fill the missing values in the other columns."
   ]
  },
  {
   "cell_type": "code",
   "execution_count": 70,
   "metadata": {},
   "outputs": [
    {
     "data": {
      "text/plain": [
       "status                       object\n",
       "age                          object\n",
       "sex                          object\n",
       "on_thyroxine                 object\n",
       "query_on_thyroxine           object\n",
       "on_antithyroid_medication    object\n",
       "thyroid_surgery              object\n",
       "query_hypothyroid            object\n",
       "query_hyperthyroid           object\n",
       "pregnant                     object\n",
       "sick                         object\n",
       "tumor                        object\n",
       "lithium                      object\n",
       "goitre                       object\n",
       "TSH_measured                 object\n",
       "TSH                          object\n",
       "T3_measured                  object\n",
       "T3                           object\n",
       "TT4_measured                 object\n",
       "TT4                          object\n",
       "T4U_measured                 object\n",
       "T4U                          object\n",
       "FTI_measured                 object\n",
       "FTI                          object\n",
       "TBG_measured                 object\n",
       "dtype: object"
      ]
     },
     "execution_count": 70,
     "metadata": {},
     "output_type": "execute_result"
    }
   ],
   "source": [
    "# let's check the data types of the columns\n",
    "Hypothyroid.dtypes"
   ]
  },
  {
   "cell_type": "code",
   "execution_count": 72,
   "metadata": {},
   "outputs": [
    {
     "data": {
      "text/plain": [
       "<bound method NDFrame._add_numeric_operations.<locals>.any of status                       0\n",
       "age                          0\n",
       "sex                          0\n",
       "on_thyroxine                 0\n",
       "query_on_thyroxine           0\n",
       "on_antithyroid_medication    0\n",
       "thyroid_surgery              0\n",
       "query_hypothyroid            0\n",
       "query_hyperthyroid           0\n",
       "pregnant                     0\n",
       "sick                         0\n",
       "tumor                        0\n",
       "lithium                      0\n",
       "goitre                       0\n",
       "TSH_measured                 0\n",
       "TSH                          0\n",
       "T3_measured                  0\n",
       "T3                           0\n",
       "TT4_measured                 0\n",
       "TT4                          0\n",
       "T4U_measured                 0\n",
       "T4U                          0\n",
       "FTI_measured                 0\n",
       "FTI                          0\n",
       "TBG_measured                 0\n",
       "dtype: int64>"
      ]
     },
     "execution_count": 72,
     "metadata": {},
     "output_type": "execute_result"
    }
   ],
   "source": [
    "# let's foward fill the missing values in the dataset\n",
    "Hypothyroid.fillna(method='ffill', inplace=True)\n",
    "\n",
    "# check for missing values\n",
    "Hypothyroid.isnull().sum().any"
   ]
  },
  {
   "cell_type": "code",
   "execution_count": 73,
   "metadata": {},
   "outputs": [],
   "source": [
    "# let's change the datatypes of the columns using a dictionary\n",
    "Hypothyroid = Hypothyroid.astype({'status': 'object',\n",
    "                                  'age': 'int64',\n",
    "                                  'sex': 'object',\n",
    "                                  'on_thyroxine': 'object',\n",
    "                                  'query_on_thyroxine': 'object',\n",
    "                                  'on_antithyroid_medication': 'object',\n",
    "                                  'thyroid_surgery': 'object',\n",
    "                                  'query_hypothyroid': 'object',\n",
    "                                  'query_hyperthyroid': 'object',\n",
    "                                  'lithium': 'object',\n",
    "                                  'goitre': 'object',\n",
    "                                  'tumor': 'object',\n",
    "                                  'TSH_measured': 'object',\n",
    "                                  'TSH': 'float64',\n",
    "                                  'T3_measured': 'object',\n",
    "                                  'T3': 'float64',\n",
    "                                  'TT4_measured': 'object',\n",
    "                                  'TT4': 'float64',\n",
    "                                  'T4U_measured': 'object',\n",
    "                                  'T4U': 'float64',\n",
    "                                  'FTI_measured': 'object',\n",
    "                                  'FTI': 'float64',\n",
    "                                  'TBG_measured': 'object'})\n"
   ]
  },
  {
   "cell_type": "code",
   "execution_count": 74,
   "metadata": {},
   "outputs": [
    {
     "data": {
      "text/plain": [
       "status                        object\n",
       "age                            int64\n",
       "sex                           object\n",
       "on_thyroxine                  object\n",
       "query_on_thyroxine            object\n",
       "on_antithyroid_medication     object\n",
       "thyroid_surgery               object\n",
       "query_hypothyroid             object\n",
       "query_hyperthyroid            object\n",
       "pregnant                      object\n",
       "sick                          object\n",
       "tumor                         object\n",
       "lithium                       object\n",
       "goitre                        object\n",
       "TSH_measured                  object\n",
       "TSH                          float64\n",
       "T3_measured                   object\n",
       "T3                           float64\n",
       "TT4_measured                  object\n",
       "TT4                          float64\n",
       "T4U_measured                  object\n",
       "T4U                          float64\n",
       "FTI_measured                  object\n",
       "FTI                          float64\n",
       "TBG_measured                  object\n",
       "dtype: object"
      ]
     },
     "execution_count": 74,
     "metadata": {},
     "output_type": "execute_result"
    }
   ],
   "source": [
    "# let's check the data types of the columns\n",
    "Hypothyroid.dtypes"
   ]
  },
  {
   "cell_type": "code",
   "execution_count": 76,
   "metadata": {},
   "outputs": [
    {
     "data": {
      "text/plain": [
       "True"
      ]
     },
     "execution_count": 76,
     "metadata": {},
     "output_type": "execute_result"
    }
   ],
   "source": [
    "# let's check for duplicates in the dataframe\n",
    "Hypothyroid.duplicated().sum().any()"
   ]
  },
  {
   "cell_type": "code",
   "execution_count": 77,
   "metadata": {},
   "outputs": [],
   "source": [
    "# let's drop all the duplicates\n",
    "Hypothyroid.drop_duplicates(inplace=True)"
   ]
  },
  {
   "cell_type": "code",
   "execution_count": 78,
   "metadata": {},
   "outputs": [
    {
     "data": {
      "text/plain": [
       "False"
      ]
     },
     "execution_count": 78,
     "metadata": {},
     "output_type": "execute_result"
    }
   ],
   "source": [
    "# let's check for duplicates in the dataframe\n",
    "Hypothyroid.duplicated().sum().any()"
   ]
  },
  {
   "cell_type": "code",
   "execution_count": 79,
   "metadata": {},
   "outputs": [],
   "source": [
    "# let's create a function that checks for the percentage of outliers in a dataset using Interquartile range\n",
    "\n",
    "def check_outliers(df):\n",
    "    \n",
    "    # instantiate the quantile variables\n",
    "\n",
    "    Quantile_1, Quantile_2, Quantile_3 = 0, 0, 0\n",
    "\n",
    "    # converting to dataframe\n",
    "\n",
    "    check_outliers = pd.DataFrame()\n",
    "\n",
    "    # let's get the numerical columns\n",
    "\n",
    "    num_cols = df.select_dtypes(include=['int64', 'float64'])\n",
    "\n",
    "    # getting the quantiles from the numerical columns\n",
    "\n",
    "    Quantile_1 = num_cols.quantile(0.25)\n",
    "\n",
    "    Quantile_3 = num_cols.quantile(0.75)\n",
    "\n",
    "    # let's get the IQR\n",
    "\n",
    "    IQR = Quantile_3 - Quantile_1\n",
    "\n",
    "    # let's get the outliers\n",
    "\n",
    "    check_outliers = num_cols[((num_cols < (\n",
    "        Quantile_1 - 1.5 * IQR)) | (num_cols > (Quantile_3 + 1.5 * IQR))).any(axis=1)]\n",
    "\n",
    "    # printing the number of outliers and the percentage of outliers\n",
    "\n",
    "    print('There are {} outliers in the dataset.'.format(\n",
    "        check_outliers.shape[0]))\n",
    "\n",
    "    print('The percentage of outliers in the dataset is {}%.'.format(\n",
    "        round((check_outliers.shape[0] / df.shape[0]) * 100, 2)))\n"
   ]
  },
  {
   "cell_type": "code",
   "execution_count": 80,
   "metadata": {},
   "outputs": [
    {
     "name": "stdout",
     "output_type": "stream",
     "text": [
      "There are 820 outliers in the dataset.\n",
      "The percentage of outliers in the dataset is 26.39%.\n"
     ]
    }
   ],
   "source": [
    "# let's check the outliers in the dataset\n",
    "check_outliers(Hypothyroid)"
   ]
  },
  {
   "cell_type": "markdown",
   "metadata": {},
   "source": [
    "> We will use standardization to normalize the data as the outliers are significant."
   ]
  }
 ],
 "metadata": {
  "interpreter": {
   "hash": "aee8b7b246df8f9039afb4144a1f6fd8d2ca17a180786b69acc140d282b71a49"
  },
  "kernelspec": {
   "display_name": "Python 3.9.1 64-bit",
   "language": "python",
   "name": "python3"
  },
  "language_info": {
   "codemirror_mode": {
    "name": "ipython",
    "version": 3
   },
   "file_extension": ".py",
   "mimetype": "text/x-python",
   "name": "python",
   "nbconvert_exporter": "python",
   "pygments_lexer": "ipython3",
   "version": "3.9.1"
  },
  "orig_nbformat": 4
 },
 "nbformat": 4,
 "nbformat_minor": 2
}
