{
 "cells": [
  {
   "cell_type": "markdown",
   "metadata": {},
   "source": [
    "### 1. Defining the Question"
   ]
  },
  {
   "cell_type": "markdown",
   "metadata": {},
   "source": [
    "### 1. Defining the Question\n",
    "##### a) Specifying the Question\n",
    "> You have been recruited as a football analyst in a company - Mchezopesa Ltd and tasked to make a prediction result of a game between team 1 and team 2, based on who's home and who's away, and on whether or not the game is friendly\n",
    "##### b) Defining the Metric for Success\n",
    "> The project will be considered a success if the models created are able to predict results of a game to an accuracy of at least 80%\n",
    "##### c) Understanding the Context\n",
    "> FIFA is a non-profit organization that describes itself as an international governing body of association football, futsal and beach soccer. It is the highest governing body of association football. It is responsible for the rules of association football, the regulation of the sport, the promotion of football across the world.\n",
    "\n",
    "\n",
    "> We are supposed to predict the result of a game between team 1 and 2 based on who's home and who's away, and on whether or not the game is friendly\n",
    "\n",
    "\n",
    "> This will be done by using machine learning models to calculate the points of each team and predict the possible winner of the game\n",
    "##### d) Recording the Experimental Design\n",
    "> Perform your EDA\n",
    "\n",
    "> Perform any necessary feature engineering \n",
    "\n",
    "> Check of multicollinearity\n",
    "\n",
    "> Start building the model\n",
    "\n",
    "> Cross-validate the model\n",
    "\n",
    "> Compute RMSE\n",
    "\n",
    "> Create residual plots for your models, and assess their heteroscedasticity using Bartlett’s test\n",
    "\n",
    "> Perform appropriate regressions on the data including your justification\n",
    "\n",
    "> Challenge your solution by providing insights on how you can make improvements.\n",
    "##### e) Data Relevance\n",
    "> The data provided for this project is relevant and has been provided by Mchezopesa Ltd and is available on their website."
   ]
  }
 ],
 "metadata": {
  "language_info": {
   "name": "python"
  },
  "orig_nbformat": 4
 },
 "nbformat": 4,
 "nbformat_minor": 2
}
